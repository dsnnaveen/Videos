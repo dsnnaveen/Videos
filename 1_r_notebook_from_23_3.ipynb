{
  "nbformat": 4,
  "nbformat_minor": 0,
  "metadata": {
    "colab": {
      "name": "1. r notebook from 23*3 ",
      "provenance": [],
      "collapsed_sections": [],
      "toc_visible": true,
      "authorship_tag": "ABX9TyPhKTdHnZVfPdg6kKSdbaG3",
      "include_colab_link": true
    },
    "kernelspec": {
      "name": "ir",
      "display_name": "R"
    },
    "language_info": {
      "name": "R"
    }
  },
  "cells": [
    {
      "cell_type": "markdown",
      "metadata": {
        "id": "view-in-github",
        "colab_type": "text"
      },
      "source": [
        "<a href=\"https://colab.research.google.com/github/dsnnaveen/Videos/blob/master/1_r_notebook_from_23_3.ipynb\" target=\"_parent\"><img src=\"https://colab.research.google.com/assets/colab-badge.svg\" alt=\"Open In Colab\"/></a>"
      ]
    },
    {
      "cell_type": "code",
      "execution_count": 1,
      "metadata": {
        "colab": {
          "base_uri": "https://localhost:8080/",
          "height": 34
        },
        "id": "H3giycoxNLoE",
        "outputId": "f6ac6a58-e0e0-4763-b751-504a3073bf35"
      },
      "outputs": [
        {
          "output_type": "display_data",
          "data": {
            "text/plain": [
              "[1] 10"
            ],
            "text/latex": "10",
            "text/markdown": "10",
            "text/html": [
              "10"
            ]
          },
          "metadata": {}
        }
      ],
      "source": [
        "5+5"
      ]
    },
    {
      "cell_type": "code",
      "source": [
        "\"hello world !\""
      ],
      "metadata": {
        "colab": {
          "base_uri": "https://localhost:8080/",
          "height": 34
        },
        "id": "QwAfBrKCSTEX",
        "outputId": "b694ff41-af7e-4d8b-b3ac-d9eb8681f7b1"
      },
      "execution_count": 2,
      "outputs": [
        {
          "output_type": "display_data",
          "data": {
            "text/plain": [
              "[1] \"hello world !\""
            ],
            "text/latex": "'hello world !'",
            "text/markdown": "'hello world !'",
            "text/html": [
              "'hello world !'"
            ]
          },
          "metadata": {}
        }
      ]
    },
    {
      "cell_type": "code",
      "source": [
        "5\n",
        "1\n",
        "2\n",
        "23\n",
        "44\n"
      ],
      "metadata": {
        "colab": {
          "base_uri": "https://localhost:8080/",
          "height": 104
        },
        "id": "iMM50UX5SWtD",
        "outputId": "eec7ef11-60f9-4e36-dcb1-9fa9fe94661e"
      },
      "execution_count": 3,
      "outputs": [
        {
          "output_type": "display_data",
          "data": {
            "text/plain": [
              "[1] 5"
            ],
            "text/latex": "5",
            "text/markdown": "5",
            "text/html": [
              "5"
            ]
          },
          "metadata": {}
        },
        {
          "output_type": "display_data",
          "data": {
            "text/plain": [
              "[1] 1"
            ],
            "text/latex": "1",
            "text/markdown": "1",
            "text/html": [
              "1"
            ]
          },
          "metadata": {}
        },
        {
          "output_type": "display_data",
          "data": {
            "text/plain": [
              "[1] 2"
            ],
            "text/latex": "2",
            "text/markdown": "2",
            "text/html": [
              "2"
            ]
          },
          "metadata": {}
        },
        {
          "output_type": "display_data",
          "data": {
            "text/plain": [
              "[1] 23"
            ],
            "text/latex": "23",
            "text/markdown": "23",
            "text/html": [
              "23"
            ]
          },
          "metadata": {}
        },
        {
          "output_type": "display_data",
          "data": {
            "text/plain": [
              "[1] 44"
            ],
            "text/latex": "44",
            "text/markdown": "44",
            "text/html": [
              "44"
            ]
          },
          "metadata": {}
        }
      ]
    },
    {
      "cell_type": "code",
      "source": [
        "5+100"
      ],
      "metadata": {
        "colab": {
          "base_uri": "https://localhost:8080/",
          "height": 34
        },
        "id": "Vs8ToWnWSdL9",
        "outputId": "694c7245-19a7-49d4-83c1-1af14772eb64"
      },
      "execution_count": 4,
      "outputs": [
        {
          "output_type": "display_data",
          "data": {
            "text/plain": [
              "[1] 105"
            ],
            "text/latex": "105",
            "text/markdown": "105",
            "text/html": [
              "105"
            ]
          },
          "metadata": {}
        }
      ]
    },
    {
      "cell_type": "code",
      "source": [
        "# u can output the code without using print functio in r \n",
        "\"hello world\"\n"
      ],
      "metadata": {
        "colab": {
          "base_uri": "https://localhost:8080/",
          "height": 34
        },
        "id": "fTw_QsD3ShqY",
        "outputId": "cc04f577-2ade-4d2b-a302-df153050ec7f"
      },
      "execution_count": 6,
      "outputs": [
        {
          "output_type": "display_data",
          "data": {
            "text/plain": [
              "[1] \"hello world\""
            ],
            "text/latex": "'hello world'",
            "text/markdown": "'hello world'",
            "text/html": [
              "'hello world'"
            ]
          },
          "metadata": {}
        }
      ]
    },
    {
      "cell_type": "code",
      "source": [
        "print(\"hello world\")"
      ],
      "metadata": {
        "colab": {
          "base_uri": "https://localhost:8080/"
        },
        "id": "7Qtl9TMXTW1M",
        "outputId": "ce8204a2-0b03-4582-f187-faf3ff3adc1a"
      },
      "execution_count": 9,
      "outputs": [
        {
          "output_type": "stream",
          "name": "stdout",
          "text": [
            "[1] \"hello world\"\n"
          ]
        }
      ]
    },
    {
      "cell_type": "code",
      "source": [
        "for(x in 1:10){\n",
        "  print(x)\n",
        "}\n",
        "#  to print inside the curly braces must use print statement\n"
      ],
      "metadata": {
        "colab": {
          "base_uri": "https://localhost:8080/"
        },
        "id": "lLuYDSBdTgSB",
        "outputId": "2ac1bb8c-d0d3-41a8-ad4f-7a6a828ad9cc"
      },
      "execution_count": 10,
      "outputs": [
        {
          "output_type": "stream",
          "name": "stdout",
          "text": [
            "[1] 1\n",
            "[1] 2\n",
            "[1] 3\n",
            "[1] 4\n",
            "[1] 5\n",
            "[1] 6\n",
            "[1] 7\n",
            "[1] 8\n",
            "[1] 9\n",
            "[1] 10\n"
          ]
        }
      ]
    },
    {
      "cell_type": "code",
      "source": [
        "# this is a comment\n",
        "# comments start with # in r \n",
        "\"hello world\""
      ],
      "metadata": {
        "id": "hlPRgavKTzKJ",
        "colab": {
          "base_uri": "https://localhost:8080/",
          "height": 34
        },
        "outputId": "787552b8-667f-4f16-8a31-20fc94730b30"
      },
      "execution_count": 11,
      "outputs": [
        {
          "output_type": "display_data",
          "data": {
            "text/plain": [
              "[1] \"hello world\""
            ],
            "text/latex": "'hello world'",
            "text/markdown": "'hello world'",
            "text/html": [
              "'hello world'"
            ]
          },
          "metadata": {}
        }
      ]
    },
    {
      "cell_type": "code",
      "source": [
        "# for multiline comments also use # as many tmes u need to comment \n",
        "# there is no specific rule for to multiline comment unlike other languages like java, pyhton\n",
        "# This is a comment\n",
        "# written in\n",
        "# more than just one line\n",
        "\"Hello World!\""
      ],
      "metadata": {
        "colab": {
          "base_uri": "https://localhost:8080/",
          "height": 34
        },
        "id": "sgF07jAIUhJl",
        "outputId": "63f3c11a-2ac0-4862-a607-10d58f0ab379"
      },
      "execution_count": 12,
      "outputs": [
        {
          "output_type": "display_data",
          "data": {
            "text/plain": [
              "[1] \"Hello World!\""
            ],
            "text/latex": "'Hello World!'",
            "text/markdown": "'Hello World!'",
            "text/html": [
              "'Hello World!'"
            ]
          },
          "metadata": {}
        }
      ]
    },
    {
      "cell_type": "code",
      "source": [
        "name <- \"naveen\"\n",
        "age <- 23\n",
        "name \n",
        "age"
      ],
      "metadata": {
        "colab": {
          "base_uri": "https://localhost:8080/",
          "height": 52
        },
        "id": "YumVJpFiVHhK",
        "outputId": "80fdfdcf-b802-4037-e634-9f63073fb648"
      },
      "execution_count": 14,
      "outputs": [
        {
          "output_type": "display_data",
          "data": {
            "text/plain": [
              "[1] \"naveen\""
            ],
            "text/latex": "'naveen'",
            "text/markdown": "'naveen'",
            "text/html": [
              "'naveen'"
            ]
          },
          "metadata": {}
        },
        {
          "output_type": "display_data",
          "data": {
            "text/plain": [
              "[1] 23"
            ],
            "text/latex": "23",
            "text/markdown": "23",
            "text/html": [
              "23"
            ]
          },
          "metadata": {}
        }
      ]
    },
    {
      "cell_type": "code",
      "source": [
        "# varibles are containers for storing data values\n",
        "# we use both = & <- in r but = forbidden in some context\n",
        "name <- \"dsn\"\n",
        "name\n",
        "print(name)"
      ],
      "metadata": {
        "colab": {
          "base_uri": "https://localhost:8080/",
          "height": 52
        },
        "id": "TCobycI9VnC9",
        "outputId": "daa47e13-2e2b-48fb-db17-6a29107e51a7"
      },
      "execution_count": 17,
      "outputs": [
        {
          "output_type": "display_data",
          "data": {
            "text/plain": [
              "[1] \"dsn\""
            ],
            "text/latex": "'dsn'",
            "text/markdown": "'dsn'",
            "text/html": [
              "'dsn'"
            ]
          },
          "metadata": {}
        },
        {
          "output_type": "stream",
          "name": "stdout",
          "text": [
            "[1] \"dsn\"\n"
          ]
        }
      ]
    },
    {
      "cell_type": "code",
      "source": [
        "#  u must use r\n",
        "for (i in 1:10){\n",
        "  print(i)\n",
        "}"
      ],
      "metadata": {
        "colab": {
          "base_uri": "https://localhost:8080/"
        },
        "id": "CWzkCY7kWW_f",
        "outputId": "5f93b36c-2956-46bd-b915-c049c211fc1a"
      },
      "execution_count": 18,
      "outputs": [
        {
          "output_type": "stream",
          "name": "stdout",
          "text": [
            "[1] 1\n",
            "[1] 2\n",
            "[1] 3\n",
            "[1] 4\n",
            "[1] 5\n",
            "[1] 6\n",
            "[1] 7\n",
            "[1] 8\n",
            "[1] 9\n",
            "[1] 10\n"
          ]
        }
      ]
    },
    {
      "cell_type": "code",
      "source": [
        "# paste() - conctenate, join two or more elements here elements are seperated by commac\n",
        "# conacatenate elements should be in same format otherwise it will give error\n",
        "text <- \"awesome\"\n",
        "paste(\"r is \", text)"
      ],
      "metadata": {
        "colab": {
          "base_uri": "https://localhost:8080/",
          "height": 34
        },
        "id": "_suSAGtBWyvG",
        "outputId": "26107a5e-66f0-4bbd-ba58-547befc959ad"
      },
      "execution_count": 19,
      "outputs": [
        {
          "output_type": "display_data",
          "data": {
            "text/plain": [
              "[1] \"r is  awesome\""
            ],
            "text/latex": "'r is  awesome'",
            "text/markdown": "<span style=white-space:pre-wrap>'r is  awesome'</span>",
            "text/html": [
              "<span style=white-space:pre-wrap>'r is  awesome'</span>"
            ]
          },
          "metadata": {}
        }
      ]
    },
    {
      "cell_type": "code",
      "source": [
        "text1 <- \"R is\"\n",
        "text2 <- \"awesome\"\n",
        "\n",
        "paste(text1, text2)"
      ],
      "metadata": {
        "colab": {
          "base_uri": "https://localhost:8080/",
          "height": 34
        },
        "id": "nQHLynsAXP1S",
        "outputId": "d298bdae-8b7a-454b-e8a3-fa746bfdece8"
      },
      "execution_count": 20,
      "outputs": [
        {
          "output_type": "display_data",
          "data": {
            "text/plain": [
              "[1] \"R is awesome\""
            ],
            "text/latex": "'R is awesome'",
            "text/markdown": "'R is awesome'",
            "text/html": [
              "'R is awesome'"
            ]
          },
          "metadata": {}
        }
      ]
    },
    {
      "cell_type": "code",
      "source": [
        "# For numbers, the + character works as a mathematical operator:\n",
        "num1 <- 5\n",
        "num2 <- 10\n",
        "\n",
        "num1 + num2"
      ],
      "metadata": {
        "colab": {
          "base_uri": "https://localhost:8080/",
          "height": 34
        },
        "id": "kHv_rBCRXnWa",
        "outputId": "68ec9c50-d879-4fa0-c34c-dab1d6fe7057"
      },
      "execution_count": 21,
      "outputs": [
        {
          "output_type": "display_data",
          "data": {
            "text/plain": [
              "[1] 15"
            ],
            "text/latex": "15",
            "text/markdown": "15",
            "text/html": [
              "15"
            ]
          },
          "metadata": {}
        }
      ]
    },
    {
      "cell_type": "code",
      "source": [
        "num <- 5\n",
        "text <- \"Some text\"\n",
        "\n",
        "num + text"
      ],
      "metadata": {
        "colab": {
          "base_uri": "https://localhost:8080/",
          "height": 96
        },
        "id": "SiS_RAjCZZWm",
        "outputId": "1b62f9b5-3513-4ca6-df2a-785d4fda2c17"
      },
      "execution_count": 22,
      "outputs": [
        {
          "output_type": "error",
          "ename": "ERROR",
          "evalue": "ignored",
          "traceback": [
            "Error in num + text: non-numeric argument to binary operator\nTraceback:\n"
          ]
        }
      ]
    },
    {
      "cell_type": "code",
      "source": [
        "# Assign the same value to multiple variables in one line\n",
        "var1 <- var2 <- var3 <- \"Orange\"\n",
        "\n",
        "# Print variable values\n",
        "var1\n",
        "var2\n",
        "var3"
      ],
      "metadata": {
        "colab": {
          "base_uri": "https://localhost:8080/",
          "height": 69
        },
        "id": "ricxMP8CXoWj",
        "outputId": "8e41f1ff-3e34-4dfe-9700-af281e870534"
      },
      "execution_count": 23,
      "outputs": [
        {
          "output_type": "display_data",
          "data": {
            "text/plain": [
              "[1] \"Orange\""
            ],
            "text/latex": "'Orange'",
            "text/markdown": "'Orange'",
            "text/html": [
              "'Orange'"
            ]
          },
          "metadata": {}
        },
        {
          "output_type": "display_data",
          "data": {
            "text/plain": [
              "[1] \"Orange\""
            ],
            "text/latex": "'Orange'",
            "text/markdown": "'Orange'",
            "text/html": [
              "'Orange'"
            ]
          },
          "metadata": {}
        },
        {
          "output_type": "display_data",
          "data": {
            "text/plain": [
              "[1] \"Orange\""
            ],
            "text/latex": "'Orange'",
            "text/markdown": "'Orange'",
            "text/html": [
              "'Orange'"
            ]
          },
          "metadata": {}
        }
      ]
    },
    {
      "cell_type": "markdown",
      "source": [
        "varble name rules\n",
        "\n",
        "\n",
        "1.   it can contain letters, numbers , period(.) symbol, underscore(_)\n",
        "2. it can start with letters and period symbol but if it stated with period symbol it cannot followed by number\n",
        "3. u can't use reserve words for varible names\n",
        "eg . TRUE, FALSE,NULL,if\n",
        "\n",
        "4. variables are case sensitive\n",
        "\n",
        "\n",
        "\n",
        "\n",
        "\n",
        "\n",
        "\n"
      ],
      "metadata": {
        "id": "NktUqV3CgXfC"
      }
    },
    {
      "cell_type": "code",
      "source": [
        "# Legal variable names:\n",
        "myvar <- \"John\"\n",
        "my_var <- \"John\"\n",
        "myVar <- \"John\"\n",
        "MYVAR <- \"John\"\n",
        "myvar2 <- \"John\"\n",
        ".myvar <- \"John\"\n",
        "\n"
      ],
      "metadata": {
        "id": "YoHcoTI7fDIb"
      },
      "execution_count": 25,
      "outputs": []
    },
    {
      "cell_type": "code",
      "source": [
        "# Illegal variable names:\n",
        "2myvar <- \"John\"\n",
        "my-var <- \"John\"\n",
        "my var <- \"John\"\n",
        "_my_var <- \"John\"\n",
        "my_v@ar <- \"John\"\n",
        "TRUE <- \"John\""
      ],
      "metadata": {
        "colab": {
          "base_uri": "https://localhost:8080/",
          "height": 148
        },
        "id": "tRu64wsmf5gA",
        "outputId": "84b27f85-2671-4c46-9ae2-262113477de7"
      },
      "execution_count": 26,
      "outputs": [
        {
          "output_type": "error",
          "ename": "ERROR",
          "evalue": "ignored",
          "traceback": [
            "Error in parse(text = x, srcfile = src): <text>:2:2: unexpected symbol\n1: # Illegal variable names:\n2: 2myvar\n    ^\nTraceback:\n"
          ]
        }
      ]
    },
    {
      "cell_type": "code",
      "source": [
        ".2ann <- \"naveen\""
      ],
      "metadata": {
        "colab": {
          "base_uri": "https://localhost:8080/",
          "height": 130
        },
        "id": "8vl7pblJgCRS",
        "outputId": "e296694e-a082-4e40-876b-03e13e1d26af"
      },
      "execution_count": 28,
      "outputs": [
        {
          "output_type": "error",
          "ename": "ERROR",
          "evalue": "ignored",
          "traceback": [
            "Error in parse(text = x, srcfile = src): <text>:1:3: unexpected symbol\n1: .2ann\n      ^\nTraceback:\n"
          ]
        }
      ]
    },
    {
      "cell_type": "code",
      "source": [
        ".ann <- 'naveen'\n",
        ".ann"
      ],
      "metadata": {
        "colab": {
          "base_uri": "https://localhost:8080/",
          "height": 34
        },
        "id": "g-LyD0BxgHD4",
        "outputId": "201c502d-6ace-40dc-d68d-9821636fcdd1"
      },
      "execution_count": 30,
      "outputs": [
        {
          "output_type": "display_data",
          "data": {
            "text/plain": [
              "[1] \"naveen\""
            ],
            "text/latex": "'naveen'",
            "text/markdown": "'naveen'",
            "text/html": [
              "'naveen'"
            ]
          },
          "metadata": {}
        }
      ]
    },
    {
      "cell_type": "code",
      "source": [
        ".ann2 <- \"naveen\"\n",
        ".ann2"
      ],
      "metadata": {
        "colab": {
          "base_uri": "https://localhost:8080/",
          "height": 34
        },
        "id": "k4ccHJBvgR1J",
        "outputId": "9b3bd25a-280f-4ea3-e5c1-7cefde657bd6"
      },
      "execution_count": 1,
      "outputs": [
        {
          "output_type": "display_data",
          "data": {
            "text/plain": [
              "[1] \"naveen\""
            ],
            "text/latex": "'naveen'",
            "text/markdown": "'naveen'",
            "text/html": [
              "'naveen'"
            ]
          },
          "metadata": {}
        }
      ]
    },
    {
      "cell_type": "code",
      "source": [
        "my_var <- 30 # my_var is type of numeric\n",
        "my_var <- \"Sally\" # my_var is now of type character (aka string)"
      ],
      "metadata": {
        "id": "ITe4L0tOhfTq"
      },
      "execution_count": 1,
      "outputs": []
    },
    {
      "cell_type": "markdown",
      "source": [
        "1. numeric - (10.5, 55, 787)\n",
        "2. integer - (1L, 55L, 100L, where the letter \"L\" declares this as an integer)\n",
        "3. complex - (9 + 3i, where \"i\" is the imaginary part)\n",
        "4. character (a.k.a. string) - (\"k\", \"R is exciting\", \"FALSE\", \"11.5\")\n",
        "5. logical (a.k.a. boolean) - (TRUE or FALSE)"
      ],
      "metadata": {
        "id": "xntRyPyUAO1r"
      }
    },
    {
      "cell_type": "code",
      "source": [
        "# a.k.a means as known as \n",
        "# class()- for check the datatype\n",
        "# numeric\n",
        "x <- 10.5\n",
        "class(x)\n",
        "\n",
        "# integer\n",
        "x <- 1000L\n",
        "class(x)\n",
        "\n",
        "# complex\n",
        "x <- 9i + 3\n",
        "class(x)\n",
        "\n",
        "# character/string\n",
        "x <- \"R is exciting\"\n",
        "class(x)\n",
        "\n",
        "# logical/boolean\n",
        "x <- TRUE\n",
        "class(x)"
      ],
      "metadata": {
        "colab": {
          "base_uri": "https://localhost:8080/",
          "height": 104
        },
        "id": "nQ6kVKOSAl0a",
        "outputId": "fef16b63-a94f-4c64-eb9e-0d8266736589"
      },
      "execution_count": 2,
      "outputs": [
        {
          "output_type": "display_data",
          "data": {
            "text/plain": [
              "[1] \"numeric\""
            ],
            "text/latex": "'numeric'",
            "text/markdown": "'numeric'",
            "text/html": [
              "'numeric'"
            ]
          },
          "metadata": {}
        },
        {
          "output_type": "display_data",
          "data": {
            "text/plain": [
              "[1] \"integer\""
            ],
            "text/latex": "'integer'",
            "text/markdown": "'integer'",
            "text/html": [
              "'integer'"
            ]
          },
          "metadata": {}
        },
        {
          "output_type": "display_data",
          "data": {
            "text/plain": [
              "[1] \"complex\""
            ],
            "text/latex": "'complex'",
            "text/markdown": "'complex'",
            "text/html": [
              "'complex'"
            ]
          },
          "metadata": {}
        },
        {
          "output_type": "display_data",
          "data": {
            "text/plain": [
              "[1] \"character\""
            ],
            "text/latex": "'character'",
            "text/markdown": "'character'",
            "text/html": [
              "'character'"
            ]
          },
          "metadata": {}
        },
        {
          "output_type": "display_data",
          "data": {
            "text/plain": [
              "[1] \"logical\""
            ],
            "text/latex": "'logical'",
            "text/markdown": "'logical'",
            "text/html": [
              "'logical'"
            ]
          },
          "metadata": {}
        }
      ]
    },
    {
      "cell_type": "code",
      "source": [
        "# three number types in R\n",
        "x <- 10.5   # numeric\n",
        "y <- 10L    # integer\n",
        "z <- 1i     # complex"
      ],
      "metadata": {
        "id": "CnVxCWWdBWcs"
      },
      "execution_count": null,
      "outputs": []
    },
    {
      "cell_type": "code",
      "source": [
        "# numeric is similar to float in other languages\n",
        "x <- 10.5\n",
        "y <- 55\n",
        "\n",
        "# Print values of x and y\n",
        "x\n",
        "y\n",
        "\n",
        "# Print the class name of x and y\n",
        "class(x)\n",
        "class(y)\n"
      ],
      "metadata": {
        "colab": {
          "base_uri": "https://localhost:8080/",
          "height": 86
        },
        "id": "KX2hM0AyDP_d",
        "outputId": "ab7d4a79-6a4a-4082-fba3-25141ded99ce"
      },
      "execution_count": 3,
      "outputs": [
        {
          "output_type": "display_data",
          "data": {
            "text/plain": [
              "[1] 10.5"
            ],
            "text/latex": "10.5",
            "text/markdown": "10.5",
            "text/html": [
              "10.5"
            ]
          },
          "metadata": {}
        },
        {
          "output_type": "display_data",
          "data": {
            "text/plain": [
              "[1] 55"
            ],
            "text/latex": "55",
            "text/markdown": "55",
            "text/html": [
              "55"
            ]
          },
          "metadata": {}
        },
        {
          "output_type": "display_data",
          "data": {
            "text/plain": [
              "[1] \"numeric\""
            ],
            "text/latex": "'numeric'",
            "text/markdown": "'numeric'",
            "text/html": [
              "'numeric'"
            ]
          },
          "metadata": {}
        },
        {
          "output_type": "display_data",
          "data": {
            "text/plain": [
              "[1] \"numeric\""
            ],
            "text/latex": "'numeric'",
            "text/markdown": "'numeric'",
            "text/html": [
              "'numeric'"
            ]
          },
          "metadata": {}
        }
      ]
    },
    {
      "cell_type": "code",
      "source": [
        "# integers are numeric data without decimals\n",
        "x <- 1000L\n",
        "y <- 55L\n",
        "\n",
        "# Print values of x and y\n",
        "x\n",
        "y\n",
        "\n",
        "# Print the class name of x and y\n",
        "class(x)\n",
        "class(y)"
      ],
      "metadata": {
        "colab": {
          "base_uri": "https://localhost:8080/",
          "height": 86
        },
        "id": "dMS3NchcDQ3o",
        "outputId": "6b410ee3-6a83-43c5-eb4e-313f713b97d1"
      },
      "execution_count": 4,
      "outputs": [
        {
          "output_type": "display_data",
          "data": {
            "text/plain": [
              "[1] 1000"
            ],
            "text/latex": "1000",
            "text/markdown": "1000",
            "text/html": [
              "1000"
            ]
          },
          "metadata": {}
        },
        {
          "output_type": "display_data",
          "data": {
            "text/plain": [
              "[1] 55"
            ],
            "text/latex": "55",
            "text/markdown": "55",
            "text/html": [
              "55"
            ]
          },
          "metadata": {}
        },
        {
          "output_type": "display_data",
          "data": {
            "text/plain": [
              "[1] \"integer\""
            ],
            "text/latex": "'integer'",
            "text/markdown": "'integer'",
            "text/html": [
              "'integer'"
            ]
          },
          "metadata": {}
        },
        {
          "output_type": "display_data",
          "data": {
            "text/plain": [
              "[1] \"integer\""
            ],
            "text/latex": "'integer'",
            "text/markdown": "'integer'",
            "text/html": [
              "'integer'"
            ]
          },
          "metadata": {}
        }
      ]
    },
    {
      "cell_type": "code",
      "source": [
        "# A complex number is written with an \"i\" as the imaginary part:\n",
        "\n",
        "\n",
        "x <- 3+5i\n",
        "y <- 5i\n",
        "\n",
        "# Print values of x and y\n",
        "x\n",
        "y\n",
        "\n",
        "# Print the class name of x and y\n",
        "class(x)\n",
        "class(y)"
      ],
      "metadata": {
        "colab": {
          "base_uri": "https://localhost:8080/",
          "height": 86
        },
        "id": "3t3hvZhzDv1V",
        "outputId": "ab3eb982-6d63-4f2a-9f1a-6bc8c662c95f"
      },
      "execution_count": 5,
      "outputs": [
        {
          "output_type": "display_data",
          "data": {
            "text/plain": [
              "[1] 3+5i"
            ],
            "text/latex": "3+5i",
            "text/markdown": "3+5i",
            "text/html": [
              "3+5i"
            ]
          },
          "metadata": {}
        },
        {
          "output_type": "display_data",
          "data": {
            "text/plain": [
              "[1] 0+5i"
            ],
            "text/latex": "0+5i",
            "text/markdown": "0+5i",
            "text/html": [
              "0+5i"
            ]
          },
          "metadata": {}
        },
        {
          "output_type": "display_data",
          "data": {
            "text/plain": [
              "[1] \"complex\""
            ],
            "text/latex": "'complex'",
            "text/markdown": "'complex'",
            "text/html": [
              "'complex'"
            ]
          },
          "metadata": {}
        },
        {
          "output_type": "display_data",
          "data": {
            "text/plain": [
              "[1] \"complex\""
            ],
            "text/latex": "'complex'",
            "text/markdown": "'complex'",
            "text/html": [
              "'complex'"
            ]
          },
          "metadata": {}
        }
      ]
    },
    {
      "cell_type": "markdown",
      "source": [
        "Type conversion\n",
        "1. as.numeric()\n",
        "2. as.integer()\n",
        "3. as. complex()\n",
        "we can convert some types only not all"
      ],
      "metadata": {
        "id": "uqW3T4p6Ec2i"
      }
    },
    {
      "cell_type": "code",
      "source": [
        "x <- 1L # integer\n",
        "y <- 2 # numeric\n",
        "\n",
        "# convert from integer to numeric:\n",
        "a <- as.numeric(x)\n",
        "\n",
        "# convert from numeric to integer:\n",
        "b <- as.integer(y)\n",
        "\n",
        "# print values of x and y\n",
        "x\n",
        "y\n",
        "\n",
        "# print the class name of a and b\n",
        "class(a)\n",
        "class(b)\n",
        "\n"
      ],
      "metadata": {
        "colab": {
          "base_uri": "https://localhost:8080/",
          "height": 86
        },
        "id": "P3q_brbaE9am",
        "outputId": "f5db4c0c-5acc-443c-a3af-bde4cad282d5"
      },
      "execution_count": 6,
      "outputs": [
        {
          "output_type": "display_data",
          "data": {
            "text/plain": [
              "[1] 1"
            ],
            "text/latex": "1",
            "text/markdown": "1",
            "text/html": [
              "1"
            ]
          },
          "metadata": {}
        },
        {
          "output_type": "display_data",
          "data": {
            "text/plain": [
              "[1] 2"
            ],
            "text/latex": "2",
            "text/markdown": "2",
            "text/html": [
              "2"
            ]
          },
          "metadata": {}
        },
        {
          "output_type": "display_data",
          "data": {
            "text/plain": [
              "[1] \"numeric\""
            ],
            "text/latex": "'numeric'",
            "text/markdown": "'numeric'",
            "text/html": [
              "'numeric'"
            ]
          },
          "metadata": {}
        },
        {
          "output_type": "display_data",
          "data": {
            "text/plain": [
              "[1] \"integer\""
            ],
            "text/latex": "'integer'",
            "text/markdown": "'integer'",
            "text/html": [
              "'integer'"
            ]
          },
          "metadata": {}
        }
      ]
    },
    {
      "cell_type": "code",
      "source": [
        "10+5\n",
        "10-5\n",
        "10*3\n",
        "10/4"
      ],
      "metadata": {
        "colab": {
          "base_uri": "https://localhost:8080/",
          "height": 86
        },
        "id": "KriWZxQ5FU3_",
        "outputId": "e0fe00ab-f12b-4e15-c820-f8d352a35301"
      },
      "execution_count": 7,
      "outputs": [
        {
          "output_type": "display_data",
          "data": {
            "text/plain": [
              "[1] 15"
            ],
            "text/latex": "15",
            "text/markdown": "15",
            "text/html": [
              "15"
            ]
          },
          "metadata": {}
        },
        {
          "output_type": "display_data",
          "data": {
            "text/plain": [
              "[1] 5"
            ],
            "text/latex": "5",
            "text/markdown": "5",
            "text/html": [
              "5"
            ]
          },
          "metadata": {}
        },
        {
          "output_type": "display_data",
          "data": {
            "text/plain": [
              "[1] 30"
            ],
            "text/latex": "30",
            "text/markdown": "30",
            "text/html": [
              "30"
            ]
          },
          "metadata": {}
        },
        {
          "output_type": "display_data",
          "data": {
            "text/plain": [
              "[1] 2.5"
            ],
            "text/latex": "2.5",
            "text/markdown": "2.5",
            "text/html": [
              "2.5"
            ]
          },
          "metadata": {}
        }
      ]
    },
    {
      "cell_type": "code",
      "source": [
        "# R has lot of built in math functions\n",
        "# it returns the max num\n",
        "max(5, 10, 15)\n",
        "# it returns the min num\n",
        "min(5, 10, 15)\n",
        "# it returns the sqrt of the num\n",
        "sqrt(16)\n",
        "# returns the abosolute positive num\n",
        "abs(-4.7)\n",
        "# ceiling  - it means it rooun the nearest upward integer\n",
        "ceiling(1.4)\n",
        "# floor - it rounds to the nearest bottom integer\n",
        "floor(1.4)"
      ],
      "metadata": {
        "colab": {
          "base_uri": "https://localhost:8080/",
          "height": 121
        },
        "id": "zp72BisEFf5h",
        "outputId": "3c64ffb4-24a0-4e94-ed99-45c94e9ed3b6"
      },
      "execution_count": 9,
      "outputs": [
        {
          "output_type": "display_data",
          "data": {
            "text/plain": [
              "[1] 15"
            ],
            "text/latex": "15",
            "text/markdown": "15",
            "text/html": [
              "15"
            ]
          },
          "metadata": {}
        },
        {
          "output_type": "display_data",
          "data": {
            "text/plain": [
              "[1] 5"
            ],
            "text/latex": "5",
            "text/markdown": "5",
            "text/html": [
              "5"
            ]
          },
          "metadata": {}
        },
        {
          "output_type": "display_data",
          "data": {
            "text/plain": [
              "[1] 4"
            ],
            "text/latex": "4",
            "text/markdown": "4",
            "text/html": [
              "4"
            ]
          },
          "metadata": {}
        },
        {
          "output_type": "display_data",
          "data": {
            "text/plain": [
              "[1] 4.7"
            ],
            "text/latex": "4.7",
            "text/markdown": "4.7",
            "text/html": [
              "4.7"
            ]
          },
          "metadata": {}
        },
        {
          "output_type": "display_data",
          "data": {
            "text/plain": [
              "[1] 2"
            ],
            "text/latex": "2",
            "text/markdown": "2",
            "text/html": [
              "2"
            ]
          },
          "metadata": {}
        },
        {
          "output_type": "display_data",
          "data": {
            "text/plain": [
              "[1] 1"
            ],
            "text/latex": "1",
            "text/markdown": "1",
            "text/html": [
              "1"
            ]
          },
          "metadata": {}
        }
      ]
    },
    {
      "cell_type": "code",
      "source": [
        "# character or string denote by  single or double codes\n",
        "\"hello\"\n",
        "'heelo'"
      ],
      "metadata": {
        "colab": {
          "base_uri": "https://localhost:8080/",
          "height": 52
        },
        "id": "1VLtMQn6Hfsj",
        "outputId": "7041a0b5-957d-4f6d-c87c-f48c8d18d084"
      },
      "execution_count": 10,
      "outputs": [
        {
          "output_type": "display_data",
          "data": {
            "text/plain": [
              "[1] \"hello\""
            ],
            "text/latex": "'hello'",
            "text/markdown": "'hello'",
            "text/html": [
              "'hello'"
            ]
          },
          "metadata": {}
        },
        {
          "output_type": "display_data",
          "data": {
            "text/plain": [
              "[1] \"heelo\""
            ],
            "text/latex": "'heelo'",
            "text/markdown": "'heelo'",
            "text/html": [
              "'heelo'"
            ]
          },
          "metadata": {}
        }
      ]
    },
    {
      "cell_type": "code",
      "source": [
        "str <- \"hello\"\n",
        "str"
      ],
      "metadata": {
        "colab": {
          "base_uri": "https://localhost:8080/",
          "height": 34
        },
        "id": "csTaSQWBGW2t",
        "outputId": "900aaffb-b94f-4d4e-a9c8-fcf37eed81cb"
      },
      "execution_count": 11,
      "outputs": [
        {
          "output_type": "display_data",
          "data": {
            "text/plain": [
              "[1] \"hello\""
            ],
            "text/latex": "'hello'",
            "text/markdown": "'hello'",
            "text/html": [
              "'hello'"
            ]
          },
          "metadata": {}
        }
      ]
    },
    {
      "cell_type": "code",
      "source": [
        "str <- \"Lorem ipsum dolor sit amet,\n",
        "consectetur adipiscing elit,\n",
        "sed do eiusmod tempor incididunt\n",
        "ut labore et dolore magna aliqua.\"\n",
        "\n",
        "str # print the value of str"
      ],
      "metadata": {
        "colab": {
          "base_uri": "https://localhost:8080/",
          "height": 52
        },
        "id": "1F2Y-kIXH-nF",
        "outputId": "c42d5d97-eb2b-49c2-f276-4568c4afffca"
      },
      "execution_count": 12,
      "outputs": [
        {
          "output_type": "display_data",
          "data": {
            "text/plain": [
              "[1] \"Lorem ipsum dolor sit amet,\\nconsectetur adipiscing elit,\\nsed do eiusmod tempor incididunt\\nut labore et dolore magna aliqua.\""
            ],
            "text/latex": "'Lorem ipsum dolor sit amet,\\textbackslash{}nconsectetur adipiscing elit,\\textbackslash{}nsed do eiusmod tempor incididunt\\textbackslash{}nut labore et dolore magna aliqua.'",
            "text/markdown": "'Lorem ipsum dolor sit amet,\\nconsectetur adipiscing elit,\\nsed do eiusmod tempor incididunt\\nut labore et dolore magna aliqua.'",
            "text/html": [
              "'Lorem ipsum dolor sit amet,\\nconsectetur adipiscing elit,\\nsed do eiusmod tempor incididunt\\nut labore et dolore magna aliqua.'"
            ]
          },
          "metadata": {}
        }
      ]
    },
    {
      "cell_type": "code",
      "source": [
        "# cat() - to insert line breaks at the same position in the code\n",
        "str <- \"Lorem ipsum dolor sit amet,\n",
        "consectetur adipiscing elit,\n",
        "sed do eiusmod tempor incididunt\n",
        "ut labore et dolore magna aliqua.\"\n",
        "\n",
        "cat(str)"
      ],
      "metadata": {
        "colab": {
          "base_uri": "https://localhost:8080/"
        },
        "id": "tNmNALZSIEMm",
        "outputId": "a16c3599-c12b-45e9-e81a-c6470d4a5f0d"
      },
      "execution_count": 14,
      "outputs": [
        {
          "output_type": "stream",
          "name": "stdout",
          "text": [
            "Lorem ipsum dolor sit amet,\n",
            "consectetur adipiscing elit,\n",
            "sed do eiusmod tempor incididunt\n",
            "ut labore et dolore magna aliqua."
          ]
        }
      ]
    },
    {
      "cell_type": "code",
      "source": [
        "# nchar()- find the num of characters in a string\n",
        "str <- \"Hello World!\"\n",
        "\n",
        "nchar(str)"
      ],
      "metadata": {
        "colab": {
          "base_uri": "https://localhost:8080/",
          "height": 34
        },
        "id": "NBoGPIspIShf",
        "outputId": "2b133a33-cf59-4be4-828f-f9bd39a3b561"
      },
      "execution_count": 15,
      "outputs": [
        {
          "output_type": "display_data",
          "data": {
            "text/plain": [
              "[1] 12"
            ],
            "text/latex": "12",
            "text/markdown": "12",
            "text/html": [
              "12"
            ]
          },
          "metadata": {}
        }
      ]
    },
    {
      "cell_type": "code",
      "source": [
        "# grepl() - to check a character or string present  in the string\n",
        "str <- \"Hello World!\"\n",
        "\n",
        "grepl(\"H\", str)\n",
        "grepl(\"Hello\", str)\n",
        "grepl(\"X\", str)"
      ],
      "metadata": {
        "colab": {
          "base_uri": "https://localhost:8080/",
          "height": 69
        },
        "id": "EPQ5IFYLI1oc",
        "outputId": "35e62f10-2106-4e48-be00-36fa441bea13"
      },
      "execution_count": 16,
      "outputs": [
        {
          "output_type": "display_data",
          "data": {
            "text/plain": [
              "[1] TRUE"
            ],
            "text/latex": "TRUE",
            "text/markdown": "TRUE",
            "text/html": [
              "TRUE"
            ]
          },
          "metadata": {}
        },
        {
          "output_type": "display_data",
          "data": {
            "text/plain": [
              "[1] TRUE"
            ],
            "text/latex": "TRUE",
            "text/markdown": "TRUE",
            "text/html": [
              "TRUE"
            ]
          },
          "metadata": {}
        },
        {
          "output_type": "display_data",
          "data": {
            "text/plain": [
              "[1] FALSE"
            ],
            "text/latex": "FALSE",
            "text/markdown": "FALSE",
            "text/html": [
              "FALSE"
            ]
          },
          "metadata": {}
        }
      ]
    },
    {
      "cell_type": "code",
      "source": [
        "# paste()- we can merge/concatenate two strings\n",
        "str1 <- \"Hello\"\n",
        "str2 <- \"World\"\n",
        "\n",
        "paste(str1, str2)"
      ],
      "metadata": {
        "colab": {
          "base_uri": "https://localhost:8080/",
          "height": 34
        },
        "id": "B_lNTHsyJIF1",
        "outputId": "0b2aa293-72dd-44c4-cd22-ba79eda66f4e"
      },
      "execution_count": 17,
      "outputs": [
        {
          "output_type": "display_data",
          "data": {
            "text/plain": [
              "[1] \"Hello World\""
            ],
            "text/latex": "'Hello World'",
            "text/markdown": "'Hello World'",
            "text/html": [
              "'Hello World'"
            ]
          },
          "metadata": {}
        }
      ]
    },
    {
      "cell_type": "markdown",
      "source": [
        "1. To insert characters that are illegal in a string, you must use an escape character.\n",
        "\n",
        "2. An escape character is a backslash \\ followed by the character you want to insert.\n",
        "\n",
        "3. An example of an illegal character is a double quote inside a string that is surrounded by double quotes:"
      ],
      "metadata": {
        "id": "w7yxUybYJbU1"
      }
    },
    {
      "cell_type": "code",
      "source": [
        "str <- \"We are the so-called \"Vikings\", from the north.\"\n",
        "\n",
        "str"
      ],
      "metadata": {
        "colab": {
          "base_uri": "https://localhost:8080/",
          "height": 130
        },
        "id": "7uaPKjWCJwNC",
        "outputId": "0ec8870c-7eb7-4986-de45-7e61a9f4e62d"
      },
      "execution_count": 18,
      "outputs": [
        {
          "output_type": "error",
          "ename": "ERROR",
          "evalue": "ignored",
          "traceback": [
            "Error in parse(text = x, srcfile = src): <text>:1:31: unexpected symbol\n1: str <- \"We are the so-called \"Vikings\n                                  ^\nTraceback:\n"
          ]
        }
      ]
    },
    {
      "cell_type": "code",
      "source": [
        "# To fix this problem, use the escape character \\\":\n",
        "str <- \"We are the so-called \\\"Vikings\\\", from the north.\"\n",
        "\n",
        "str\n",
        "cat(str)"
      ],
      "metadata": {
        "colab": {
          "base_uri": "https://localhost:8080/",
          "height": 52
        },
        "id": "YkpODAdkJ7FL",
        "outputId": "63f01918-c753-4694-d9c3-f57457dc7bde"
      },
      "execution_count": 19,
      "outputs": [
        {
          "output_type": "display_data",
          "data": {
            "text/plain": [
              "[1] \"We are the so-called \\\"Vikings\\\", from the north.\""
            ],
            "text/latex": "'We are the so-called \"Vikings\", from the north.'",
            "text/markdown": "'We are the so-called \"Vikings\", from the north.'",
            "text/html": [
              "'We are the so-called \"Vikings\", from the north.'"
            ]
          },
          "metadata": {}
        },
        {
          "output_type": "stream",
          "name": "stdout",
          "text": [
            "We are the so-called \"Vikings\", from the north."
          ]
        }
      ]
    },
    {
      "cell_type": "markdown",
      "source": [
        "Booleans (Logical Values)\n",
        "In programming, you often need to know if an expression is true or false.\n",
        "\n",
        "You can evaluate any expression in R, and get one of two answers, TRUE or FALSE.\n",
        "\n",
        "When you compare two values, the expression is evaluated and R returns the logical answer:"
      ],
      "metadata": {
        "id": "Eapwc0ZJKDPR"
      }
    },
    {
      "cell_type": "code",
      "source": [
        "10 > 9    # TRUE because 10 is greater than 9\n",
        "10 == 9   # FALSE because 10 is not equal to 9\n",
        "10 < 9    # FALSE because 10 is greater than 9"
      ],
      "metadata": {
        "colab": {
          "base_uri": "https://localhost:8080/",
          "height": 69
        },
        "id": "6qDKxvDQKnYG",
        "outputId": "bf668620-aabb-4c74-db5c-1a67f0d9b9ea"
      },
      "execution_count": 20,
      "outputs": [
        {
          "output_type": "display_data",
          "data": {
            "text/plain": [
              "[1] TRUE"
            ],
            "text/latex": "TRUE",
            "text/markdown": "TRUE",
            "text/html": [
              "TRUE"
            ]
          },
          "metadata": {}
        },
        {
          "output_type": "display_data",
          "data": {
            "text/plain": [
              "[1] FALSE"
            ],
            "text/latex": "FALSE",
            "text/markdown": "FALSE",
            "text/html": [
              "FALSE"
            ]
          },
          "metadata": {}
        },
        {
          "output_type": "display_data",
          "data": {
            "text/plain": [
              "[1] FALSE"
            ],
            "text/latex": "FALSE",
            "text/markdown": "FALSE",
            "text/html": [
              "FALSE"
            ]
          },
          "metadata": {}
        }
      ]
    },
    {
      "cell_type": "code",
      "source": [
        "a <- 10\n",
        "b <- 9\n",
        "\n",
        "a > b"
      ],
      "metadata": {
        "colab": {
          "base_uri": "https://localhost:8080/",
          "height": 34
        },
        "id": "Q5C3EV9DKths",
        "outputId": "93ef74e7-9536-4b1e-f549-1928b43ae352"
      },
      "execution_count": 21,
      "outputs": [
        {
          "output_type": "display_data",
          "data": {
            "text/plain": [
              "[1] TRUE"
            ],
            "text/latex": "TRUE",
            "text/markdown": "TRUE",
            "text/html": [
              "TRUE"
            ]
          },
          "metadata": {}
        }
      ]
    },
    {
      "cell_type": "code",
      "source": [
        "a <- 200\n",
        "b <- 33\n",
        "\n",
        "if (b > a) {\n",
        "  print (\"b is greater than a\")\n",
        "} else {\n",
        "  print(\"b is not greater than a\")\n",
        "}"
      ],
      "metadata": {
        "colab": {
          "base_uri": "https://localhost:8080/"
        },
        "id": "Fh_72wnJKxGK",
        "outputId": "67a96699-3379-465f-edd7-9625b5b14e0e"
      },
      "execution_count": 22,
      "outputs": [
        {
          "output_type": "stream",
          "name": "stdout",
          "text": [
            "[1] \"b is not greater than a\"\n"
          ]
        }
      ]
    },
    {
      "cell_type": "markdown",
      "source": [
        "#R Operators\n",
        "##Operators\n",
        "1. Operators are used to perform operations on variables and values.\n",
        "\n",
        "2. In the example below, we use the + operator to add together two values:"
      ],
      "metadata": {
        "id": "Zuz3WpCVK1z1"
      }
    },
    {
      "cell_type": "code",
      "source": [
        "10+5 "
      ],
      "metadata": {
        "colab": {
          "base_uri": "https://localhost:8080/",
          "height": 34
        },
        "id": "_9nJUG5dLZOQ",
        "outputId": "617b3d02-c4f8-41e0-ced6-c0f4f93b864c"
      },
      "execution_count": 23,
      "outputs": [
        {
          "output_type": "display_data",
          "data": {
            "text/plain": [
              "[1] 15"
            ],
            "text/latex": "15",
            "text/markdown": "15",
            "text/html": [
              "15"
            ]
          },
          "metadata": {}
        }
      ]
    },
    {
      "cell_type": "markdown",
      "source": [
        "R divides the operators in the following groups:\n",
        "\n",
        "1. Arithmetic operators\n",
        "2. Assignment operators\n",
        "3. Comparison operators\n",
        "4. Logical operators\n",
        "5. Miscellaneous operators\n"
      ],
      "metadata": {
        "id": "roamX3RhLpCA"
      }
    },
    {
      "cell_type": "code",
      "source": [
        "# arthimetic operators\n",
        "# Arithmetic operators are used with numeric values to perform common mathematical operations:\n",
        "a <- 10\n",
        "b <- 5\n",
        "a+b   # 15\n",
        "\n",
        "a-b   # 5\n",
        "\n",
        "a*b   # 50\n",
        "\n",
        "a/b   # 2\n",
        "\n",
        "a^b   #100000\n",
        "\n",
        "a%%b   # modulus Or reminder value - 0\n",
        "\n",
        "a%/%b  # integer part of coffecient 7\n"
      ],
      "metadata": {
        "colab": {
          "base_uri": "https://localhost:8080/",
          "height": 139
        },
        "id": "86Vn8XRNL30T",
        "outputId": "d95ddaa9-09b9-4afd-9a7e-d9eb221edf8e"
      },
      "execution_count": 24,
      "outputs": [
        {
          "output_type": "display_data",
          "data": {
            "text/plain": [
              "[1] 15"
            ],
            "text/latex": "15",
            "text/markdown": "15",
            "text/html": [
              "15"
            ]
          },
          "metadata": {}
        },
        {
          "output_type": "display_data",
          "data": {
            "text/plain": [
              "[1] 5"
            ],
            "text/latex": "5",
            "text/markdown": "5",
            "text/html": [
              "5"
            ]
          },
          "metadata": {}
        },
        {
          "output_type": "display_data",
          "data": {
            "text/plain": [
              "[1] 50"
            ],
            "text/latex": "50",
            "text/markdown": "50",
            "text/html": [
              "50"
            ]
          },
          "metadata": {}
        },
        {
          "output_type": "display_data",
          "data": {
            "text/plain": [
              "[1] 2"
            ],
            "text/latex": "2",
            "text/markdown": "2",
            "text/html": [
              "2"
            ]
          },
          "metadata": {}
        },
        {
          "output_type": "display_data",
          "data": {
            "text/plain": [
              "[1] 1e+05"
            ],
            "text/latex": "1e+05",
            "text/markdown": "1e+05",
            "text/html": [
              "1e+05"
            ]
          },
          "metadata": {}
        },
        {
          "output_type": "display_data",
          "data": {
            "text/plain": [
              "[1] 0"
            ],
            "text/latex": "0",
            "text/markdown": "0",
            "text/html": [
              "0"
            ]
          },
          "metadata": {}
        },
        {
          "output_type": "display_data",
          "data": {
            "text/plain": [
              "[1] 2"
            ],
            "text/latex": "2",
            "text/markdown": "2",
            "text/html": [
              "2"
            ]
          },
          "metadata": {}
        }
      ]
    },
    {
      "cell_type": "code",
      "source": [
        "3.8 %/% 2"
      ],
      "metadata": {
        "colab": {
          "base_uri": "https://localhost:8080/",
          "height": 34
        },
        "id": "AJwhen_YNRyA",
        "outputId": "64131013-0803-4f89-bfc8-27177aa26815"
      },
      "execution_count": 26,
      "outputs": [
        {
          "output_type": "display_data",
          "data": {
            "text/plain": [
              "[1] 1"
            ],
            "text/latex": "1",
            "text/markdown": "1",
            "text/html": [
              "1"
            ]
          },
          "metadata": {}
        }
      ]
    },
    {
      "cell_type": "code",
      "source": [
        "# R Assignment Operators\n",
        "# Assignment operators are used to assign values to variables:\n",
        "\n",
        "my_var <- 3\n",
        "\n",
        "my_var <<- 3\n",
        "\n",
        "3 -> my_var\n",
        "\n",
        "3 ->> my_var\n",
        "\n",
        "my_var # print my_var\n",
        "\n",
        "\n",
        "# It is also possible to turn the direction of the assignment operator.\n",
        "\n",
        "# x <- 3 is equal to 3 -> x   <<- is global assinger"
      ],
      "metadata": {
        "colab": {
          "base_uri": "https://localhost:8080/",
          "height": 34
        },
        "id": "N4xJ4KFjNpHS",
        "outputId": "3379a2fc-fa2c-450e-dddd-799c3bfd6cd9"
      },
      "execution_count": 27,
      "outputs": [
        {
          "output_type": "display_data",
          "data": {
            "text/plain": [
              "[1] 3"
            ],
            "text/latex": "3",
            "text/markdown": "3",
            "text/html": [
              "3"
            ]
          },
          "metadata": {}
        }
      ]
    },
    {
      "cell_type": "code",
      "source": [
        "# R Comparison Operators\n",
        "# Comparison operators are used to compare two values:\n",
        "a = 10\n",
        "b = 5\n",
        "a == b\n",
        "\n",
        "a != b\n",
        "\n",
        "a > b\n",
        "\n",
        "a < b\n",
        "\n",
        "a >= b\n",
        "\n",
        "a <= b\n"
      ],
      "metadata": {
        "colab": {
          "base_uri": "https://localhost:8080/",
          "height": 121
        },
        "id": "67e5M0ZrOAzv",
        "outputId": "bcdc85c2-5afd-4f73-8aea-7194ef082c78"
      },
      "execution_count": 29,
      "outputs": [
        {
          "output_type": "display_data",
          "data": {
            "text/plain": [
              "[1] FALSE"
            ],
            "text/latex": "FALSE",
            "text/markdown": "FALSE",
            "text/html": [
              "FALSE"
            ]
          },
          "metadata": {}
        },
        {
          "output_type": "display_data",
          "data": {
            "text/plain": [
              "[1] TRUE"
            ],
            "text/latex": "TRUE",
            "text/markdown": "TRUE",
            "text/html": [
              "TRUE"
            ]
          },
          "metadata": {}
        },
        {
          "output_type": "display_data",
          "data": {
            "text/plain": [
              "[1] TRUE"
            ],
            "text/latex": "TRUE",
            "text/markdown": "TRUE",
            "text/html": [
              "TRUE"
            ]
          },
          "metadata": {}
        },
        {
          "output_type": "display_data",
          "data": {
            "text/plain": [
              "[1] FALSE"
            ],
            "text/latex": "FALSE",
            "text/markdown": "FALSE",
            "text/html": [
              "FALSE"
            ]
          },
          "metadata": {}
        },
        {
          "output_type": "display_data",
          "data": {
            "text/plain": [
              "[1] TRUE"
            ],
            "text/latex": "TRUE",
            "text/markdown": "TRUE",
            "text/html": [
              "TRUE"
            ]
          },
          "metadata": {}
        },
        {
          "output_type": "display_data",
          "data": {
            "text/plain": [
              "[1] FALSE"
            ],
            "text/latex": "FALSE",
            "text/markdown": "FALSE",
            "text/html": [
              "FALSE"
            ]
          },
          "metadata": {}
        }
      ]
    },
    {
      "cell_type": "code",
      "source": [
        "#R Logical Operators\n",
        "##Logical operators are used to combine conditional statements:\n",
        "\n",
        "# Operator\tDescription\n",
        "# &\t        Element-wise Logical AND operator. It returns TRUE if both elements are TRUE\n",
        "# &&\t      Logical AND operator - Returns TRUE if both statements are TRUE\n",
        "# |\t         Elementwise- Logical OR operator. It returns TRUE if one of the statement is TRUE\n",
        "# ||\t       Logical OR operator. It returns TRUE if one of the statement is TRUE.\n",
        "# !\t         Logical NOT - returns FALSE if statement is TRUE"
      ],
      "metadata": {
        "id": "Hj3nvElHOj8H"
      },
      "execution_count": 31,
      "outputs": []
    },
    {
      "cell_type": "code",
      "source": [
        "#  miscellaneous operators - manipulate the data\n",
        "x <- -1:10 # to create a series of numbers in a sequence\n",
        "x\n",
        "# %in%\tFind out if an element belongs to a vector\tx %in% y\n",
        "# %*%\tMatrix Multiplication\tx <- Matrix1 %*% Matrix2"
      ],
      "metadata": {
        "id": "EWLYoWuBPX2H",
        "colab": {
          "base_uri": "https://localhost:8080/",
          "height": 34
        },
        "outputId": "130bfcd0-701e-43ea-e227-ab1a2ec921c0"
      },
      "execution_count": 32,
      "outputs": [
        {
          "output_type": "display_data",
          "data": {
            "text/plain": [
              " [1] -1  0  1  2  3  4  5  6  7  8  9 10"
            ],
            "text/latex": "\\begin{enumerate*}\n\\item -1\n\\item 0\n\\item 1\n\\item 2\n\\item 3\n\\item 4\n\\item 5\n\\item 6\n\\item 7\n\\item 8\n\\item 9\n\\item 10\n\\end{enumerate*}\n",
            "text/markdown": "1. -1\n2. 0\n3. 1\n4. 2\n5. 3\n6. 4\n7. 5\n8. 6\n9. 7\n10. 8\n11. 9\n12. 10\n\n\n",
            "text/html": [
              "<style>\n",
              ".list-inline {list-style: none; margin:0; padding: 0}\n",
              ".list-inline>li {display: inline-block}\n",
              ".list-inline>li:not(:last-child)::after {content: \"\\00b7\"; padding: 0 .5ex}\n",
              "</style>\n",
              "<ol class=list-inline><li>-1</li><li>0</li><li>1</li><li>2</li><li>3</li><li>4</li><li>5</li><li>6</li><li>7</li><li>8</li><li>9</li><li>10</li></ol>\n"
            ]
          },
          "metadata": {}
        }
      ]
    },
    {
      "cell_type": "code",
      "source": [
        "a <- 33\n",
        "b <- 200\n",
        "\n",
        "if (b > a) {\n",
        "  print(\"b is greater than a\")\n",
        "}"
      ],
      "metadata": {
        "colab": {
          "base_uri": "https://localhost:8080/"
        },
        "id": "89qSJdg1QE9b",
        "outputId": "e5d1f22a-dac3-47e0-a87c-6cd3b53e1628"
      },
      "execution_count": 33,
      "outputs": [
        {
          "output_type": "stream",
          "name": "stdout",
          "text": [
            "[1] \"b is greater than a\"\n"
          ]
        }
      ]
    },
    {
      "cell_type": "code",
      "source": [
        "# {} - to define the scope in the code\n",
        "a <- 33\n",
        "b <- 33\n",
        "\n",
        "if (b > a) {\n",
        "  print(\"b is greater than a\")\n",
        "} else if (a == b) {\n",
        "  print (\"a and b are equal\")\n",
        "}"
      ],
      "metadata": {
        "colab": {
          "base_uri": "https://localhost:8080/"
        },
        "id": "tOWlkkwfQro_",
        "outputId": "b4d5c74d-f7d0-41fe-fd03-934f8a90f530"
      },
      "execution_count": 34,
      "outputs": [
        {
          "output_type": "stream",
          "name": "stdout",
          "text": [
            "[1] \"a and b are equal\"\n"
          ]
        }
      ]
    },
    {
      "cell_type": "code",
      "source": [
        "a <- 200\n",
        "b <- 33\n",
        "\n",
        "if (b > a) {\n",
        "  print(\"b is greater than a\")\n",
        "} else if (a == b) {\n",
        "  print(\"a and b are equal\")\n",
        "} else {\n",
        "  print(\"a is greater than b\")\n",
        "}"
      ],
      "metadata": {
        "colab": {
          "base_uri": "https://localhost:8080/"
        },
        "id": "Ryl9aKgRQ5Mn",
        "outputId": "1479a574-15a7-453d-c3f4-4032b1b9ed19"
      },
      "execution_count": 35,
      "outputs": [
        {
          "output_type": "stream",
          "name": "stdout",
          "text": [
            "[1] \"a is greater than b\"\n"
          ]
        }
      ]
    },
    {
      "cell_type": "code",
      "source": [
        "a <- 200\n",
        "b <- 33\n",
        "\n",
        "if (b > a) {\n",
        "  print(\"b is greater than a\")\n",
        "} else {\n",
        "  print(\"b is not greater than a\")\n",
        "}"
      ],
      "metadata": {
        "colab": {
          "base_uri": "https://localhost:8080/"
        },
        "id": "RO7pni64Q-QC",
        "outputId": "a0c7847b-5a31-4213-ee8d-f20b9689bbde"
      },
      "execution_count": 36,
      "outputs": [
        {
          "output_type": "stream",
          "name": "stdout",
          "text": [
            "[1] \"b is not greater than a\"\n"
          ]
        }
      ]
    },
    {
      "cell_type": "code",
      "source": [
        "# nested if statements\n",
        "x <- 41\n",
        "\n",
        "if (x > 10) {\n",
        "  print(\"Above ten\")\n",
        "  if (x > 20) {\n",
        "    print(\"and also above 20!\")\n",
        "  } else {\n",
        "    print(\"but not above 20.\")\n",
        "  }\n",
        "} else {\n",
        "  print(\"below 10.\")\n",
        "}"
      ],
      "metadata": {
        "colab": {
          "base_uri": "https://localhost:8080/"
        },
        "id": "Pha-W4GdREdR",
        "outputId": "c9d47891-54b9-4b68-af76-fe30b4e01346"
      },
      "execution_count": 37,
      "outputs": [
        {
          "output_type": "stream",
          "name": "stdout",
          "text": [
            "[1] \"Above ten\"\n",
            "[1] \"and also above 20!\"\n"
          ]
        }
      ]
    },
    {
      "cell_type": "code",
      "source": [
        "a <- 200\n",
        "b <- 33\n",
        "c <- 500\n",
        "\n",
        "if (a > b & c > a){\n",
        "  print(\"Both conditions are true\")\n",
        "}\n"
      ],
      "metadata": {
        "colab": {
          "base_uri": "https://localhost:8080/"
        },
        "id": "prtMrXhARZbR",
        "outputId": "9493883c-a80e-46b0-8c30-50c744109608"
      },
      "execution_count": 38,
      "outputs": [
        {
          "output_type": "stream",
          "name": "stdout",
          "text": [
            "[1] \"Both conditions are true\"\n"
          ]
        }
      ]
    },
    {
      "cell_type": "code",
      "source": [
        "a <- 200\n",
        "b <- 33\n",
        "c <- 500\n",
        "\n",
        "if (a > b | a > c){\n",
        "  print(\"At least one of the conditions is true\")\n",
        "}\n"
      ],
      "metadata": {
        "colab": {
          "base_uri": "https://localhost:8080/"
        },
        "id": "8FfP3nj0Riy0",
        "outputId": "a08dfc4f-56d1-4c80-fbf9-1df46d434e46"
      },
      "execution_count": 39,
      "outputs": [
        {
          "output_type": "stream",
          "name": "stdout",
          "text": [
            "[1] \"At least one of the conditions is true\"\n"
          ]
        }
      ]
    },
    {
      "cell_type": "markdown",
      "source": [
        "R has two loop commands:\n",
        "\n",
        "1. while loops - uncounable loop \n",
        "2. for loops -  countable loop "
      ],
      "metadata": {
        "id": "Y56pRlYnRqnI"
      }
    },
    {
      "cell_type": "code",
      "source": [
        "i <- 1\n",
        "while (i < 6) {\n",
        "  print(i)\n",
        "  i <- i + 1\n",
        "}\n",
        "# Note: remember to increment i, or else the loop will continue forever."
      ],
      "metadata": {
        "colab": {
          "base_uri": "https://localhost:8080/"
        },
        "id": "6DJLq27gR4Y0",
        "outputId": "02303cfd-9859-4c06-ecc2-75915052fa8a"
      },
      "execution_count": 40,
      "outputs": [
        {
          "output_type": "stream",
          "name": "stdout",
          "text": [
            "[1] 1\n",
            "[1] 2\n",
            "[1] 3\n",
            "[1] 4\n",
            "[1] 5\n"
          ]
        }
      ]
    },
    {
      "cell_type": "code",
      "source": [
        "# With the break statement, we can stop the loop even if the while condition is TRUE:\n",
        "i <- 1\n",
        "while (i < 6) {\n",
        "  print(i)\n",
        "  i <- i + 1\n",
        "  if (i == 4) {\n",
        "    break\n",
        "  }\n",
        "}\n"
      ],
      "metadata": {
        "colab": {
          "base_uri": "https://localhost:8080/"
        },
        "id": "_mXUVPrER8aL",
        "outputId": "b893ad52-2c64-46b1-d7b6-72dfb5836899"
      },
      "execution_count": 41,
      "outputs": [
        {
          "output_type": "stream",
          "name": "stdout",
          "text": [
            "[1] 1\n",
            "[1] 2\n",
            "[1] 3\n"
          ]
        }
      ]
    },
    {
      "cell_type": "code",
      "source": [
        "# With the next statement, we can skip an iteration without terminating the loop:\n",
        "# it is similar ot continue in python\n",
        "i <- 0\n",
        "while (i < 6) {\n",
        "  i <- i + 1\n",
        "  if (i == 3) {\n",
        "    next\n",
        "  }\n",
        "  print(i)\n",
        "}"
      ],
      "metadata": {
        "colab": {
          "base_uri": "https://localhost:8080/"
        },
        "id": "_-l6NsZ7SZ2g",
        "outputId": "93187253-80f2-4381-ecc1-f7c88fbc908e"
      },
      "execution_count": 42,
      "outputs": [
        {
          "output_type": "stream",
          "name": "stdout",
          "text": [
            "[1] 1\n",
            "[1] 2\n",
            "[1] 4\n",
            "[1] 5\n",
            "[1] 6\n"
          ]
        }
      ]
    },
    {
      "cell_type": "markdown",
      "source": [
        "Yahtzee!\n",
        "1. If .. Else Combined with a While Loop\n",
        "To demonstrate a practical example, let us say we play a game of Yahtzee!"
      ],
      "metadata": {
        "id": "ReWCQa3kTAFY"
      }
    },
    {
      "cell_type": "code",
      "source": [
        "dice <- 1\n",
        "while (dice <= 6) {\n",
        "  if (dice < 6) {\n",
        "    print(\"No Yahtzee\")\n",
        "  } else {\n",
        "    print(\"Yahtzee!\")\n",
        "  }\n",
        "  dice <- dice + 1\n",
        "}"
      ],
      "metadata": {
        "colab": {
          "base_uri": "https://localhost:8080/"
        },
        "id": "wJLrrc2CSl3A",
        "outputId": "f2baf1e6-12c2-4d51-ca8d-78293af3495d"
      },
      "execution_count": 43,
      "outputs": [
        {
          "output_type": "stream",
          "name": "stdout",
          "text": [
            "[1] \"No Yahtzee\"\n",
            "[1] \"No Yahtzee\"\n",
            "[1] \"No Yahtzee\"\n",
            "[1] \"No Yahtzee\"\n",
            "[1] \"No Yahtzee\"\n",
            "[1] \"Yahtzee!\"\n"
          ]
        }
      ]
    },
    {
      "cell_type": "code",
      "source": [
        "# A for loop is used for iterating over a sequence:\n",
        "for (x in 1:10) {\n",
        "  print(x)\n",
        "}"
      ],
      "metadata": {
        "colab": {
          "base_uri": "https://localhost:8080/"
        },
        "id": "USZpIlMQTMNu",
        "outputId": "d0b718fa-7355-403e-8ad5-cfe8eac8c357"
      },
      "execution_count": 44,
      "outputs": [
        {
          "output_type": "stream",
          "name": "stdout",
          "text": [
            "[1] 1\n",
            "[1] 2\n",
            "[1] 3\n",
            "[1] 4\n",
            "[1] 5\n",
            "[1] 6\n",
            "[1] 7\n",
            "[1] 8\n",
            "[1] 9\n",
            "[1] 10\n"
          ]
        }
      ]
    },
    {
      "cell_type": "code",
      "source": [
        "fruits <- list(\"apple\", \"banana\", \"cherry\")\n",
        "fruits\n",
        "# print(fruits)\n",
        "for (x in fruits) {\n",
        "  print(x)\n",
        "}"
      ],
      "metadata": {
        "colab": {
          "base_uri": "https://localhost:8080/",
          "height": 149
        },
        "id": "TF57glZCTa9p",
        "outputId": "ce5b5f44-2e2e-4d89-8574-51de4326a1a9"
      },
      "execution_count": 47,
      "outputs": [
        {
          "output_type": "display_data",
          "data": {
            "text/plain": [
              "[[1]]\n",
              "[1] \"apple\"\n",
              "\n",
              "[[2]]\n",
              "[1] \"banana\"\n",
              "\n",
              "[[3]]\n",
              "[1] \"cherry\"\n"
            ],
            "text/latex": "\\begin{enumerate}\n\\item 'apple'\n\\item 'banana'\n\\item 'cherry'\n\\end{enumerate}\n",
            "text/markdown": "1. 'apple'\n2. 'banana'\n3. 'cherry'\n\n\n",
            "text/html": [
              "<ol>\n",
              "\t<li>'apple'</li>\n",
              "\t<li>'banana'</li>\n",
              "\t<li>'cherry'</li>\n",
              "</ol>\n"
            ]
          },
          "metadata": {}
        },
        {
          "output_type": "stream",
          "name": "stdout",
          "text": [
            "[1] \"apple\"\n",
            "[1] \"banana\"\n",
            "[1] \"cherry\"\n"
          ]
        }
      ]
    },
    {
      "cell_type": "code",
      "source": [
        "dice <- c(1, 2, 3, 4, 5, 6)\n",
        "\n",
        "for (x in dice) {\n",
        "  print(x)\n",
        "}"
      ],
      "metadata": {
        "colab": {
          "base_uri": "https://localhost:8080/"
        },
        "id": "cGD44e1ATsXD",
        "outputId": "2511ed01-d421-48ec-f665-5122f87aea9b"
      },
      "execution_count": 48,
      "outputs": [
        {
          "output_type": "stream",
          "name": "stdout",
          "text": [
            "[1] 1\n",
            "[1] 2\n",
            "[1] 3\n",
            "[1] 4\n",
            "[1] 5\n",
            "[1] 6\n"
          ]
        }
      ]
    },
    {
      "cell_type": "code",
      "source": [
        ""
      ],
      "metadata": {
        "id": "SqFkYpDGUE2X"
      },
      "execution_count": null,
      "outputs": []
    }
  ]
}