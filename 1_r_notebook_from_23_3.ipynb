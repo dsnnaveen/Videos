{
  "nbformat": 4,
  "nbformat_minor": 0,
  "metadata": {
    "colab": {
      "name": "1. r notebook from 23*3 ",
      "provenance": [],
      "collapsed_sections": [],
      "authorship_tag": "ABX9TyMPaHG5c6FlErA9hQqZi/S4",
      "include_colab_link": true
    },
    "kernelspec": {
      "name": "ir",
      "display_name": "R"
    },
    "language_info": {
      "name": "R"
    }
  },
  "cells": [
    {
      "cell_type": "markdown",
      "metadata": {
        "id": "view-in-github",
        "colab_type": "text"
      },
      "source": [
        "<a href=\"https://colab.research.google.com/github/dsnnaveen/Videos/blob/master/1_r_notebook_from_23_3.ipynb\" target=\"_parent\"><img src=\"https://colab.research.google.com/assets/colab-badge.svg\" alt=\"Open In Colab\"/></a>"
      ]
    },
    {
      "cell_type": "code",
      "execution_count": 1,
      "metadata": {
        "colab": {
          "base_uri": "https://localhost:8080/",
          "height": 35
        },
        "id": "H3giycoxNLoE",
        "outputId": "f6ac6a58-e0e0-4763-b751-504a3073bf35"
      },
      "outputs": [
        {
          "output_type": "display_data",
          "data": {
            "text/plain": [
              "[1] 10"
            ],
            "text/latex": "10",
            "text/markdown": "10",
            "text/html": [
              "10"
            ]
          },
          "metadata": {}
        }
      ],
      "source": [
        "5+5"
      ]
    },
    {
      "cell_type": "code",
      "source": [
        "\"hello world !\""
      ],
      "metadata": {
        "colab": {
          "base_uri": "https://localhost:8080/",
          "height": 35
        },
        "id": "QwAfBrKCSTEX",
        "outputId": "b694ff41-af7e-4d8b-b3ac-d9eb8681f7b1"
      },
      "execution_count": 2,
      "outputs": [
        {
          "output_type": "display_data",
          "data": {
            "text/plain": [
              "[1] \"hello world !\""
            ],
            "text/latex": "'hello world !'",
            "text/markdown": "'hello world !'",
            "text/html": [
              "'hello world !'"
            ]
          },
          "metadata": {}
        }
      ]
    },
    {
      "cell_type": "code",
      "source": [
        "5\n",
        "1\n",
        "2\n",
        "23\n",
        "44\n"
      ],
      "metadata": {
        "colab": {
          "base_uri": "https://localhost:8080/",
          "height": 104
        },
        "id": "iMM50UX5SWtD",
        "outputId": "eec7ef11-60f9-4e36-dcb1-9fa9fe94661e"
      },
      "execution_count": 3,
      "outputs": [
        {
          "output_type": "display_data",
          "data": {
            "text/plain": [
              "[1] 5"
            ],
            "text/latex": "5",
            "text/markdown": "5",
            "text/html": [
              "5"
            ]
          },
          "metadata": {}
        },
        {
          "output_type": "display_data",
          "data": {
            "text/plain": [
              "[1] 1"
            ],
            "text/latex": "1",
            "text/markdown": "1",
            "text/html": [
              "1"
            ]
          },
          "metadata": {}
        },
        {
          "output_type": "display_data",
          "data": {
            "text/plain": [
              "[1] 2"
            ],
            "text/latex": "2",
            "text/markdown": "2",
            "text/html": [
              "2"
            ]
          },
          "metadata": {}
        },
        {
          "output_type": "display_data",
          "data": {
            "text/plain": [
              "[1] 23"
            ],
            "text/latex": "23",
            "text/markdown": "23",
            "text/html": [
              "23"
            ]
          },
          "metadata": {}
        },
        {
          "output_type": "display_data",
          "data": {
            "text/plain": [
              "[1] 44"
            ],
            "text/latex": "44",
            "text/markdown": "44",
            "text/html": [
              "44"
            ]
          },
          "metadata": {}
        }
      ]
    },
    {
      "cell_type": "code",
      "source": [
        "5+100"
      ],
      "metadata": {
        "colab": {
          "base_uri": "https://localhost:8080/",
          "height": 35
        },
        "id": "Vs8ToWnWSdL9",
        "outputId": "694c7245-19a7-49d4-83c1-1af14772eb64"
      },
      "execution_count": 4,
      "outputs": [
        {
          "output_type": "display_data",
          "data": {
            "text/plain": [
              "[1] 105"
            ],
            "text/latex": "105",
            "text/markdown": "105",
            "text/html": [
              "105"
            ]
          },
          "metadata": {}
        }
      ]
    },
    {
      "cell_type": "code",
      "source": [
        "# u can output the code without using print functio in r \n",
        "\"hello world\"\n"
      ],
      "metadata": {
        "colab": {
          "base_uri": "https://localhost:8080/",
          "height": 35
        },
        "id": "fTw_QsD3ShqY",
        "outputId": "cc04f577-2ade-4d2b-a302-df153050ec7f"
      },
      "execution_count": 6,
      "outputs": [
        {
          "output_type": "display_data",
          "data": {
            "text/plain": [
              "[1] \"hello world\""
            ],
            "text/latex": "'hello world'",
            "text/markdown": "'hello world'",
            "text/html": [
              "'hello world'"
            ]
          },
          "metadata": {}
        }
      ]
    },
    {
      "cell_type": "code",
      "source": [
        "print(\"hello world\")"
      ],
      "metadata": {
        "colab": {
          "base_uri": "https://localhost:8080/"
        },
        "id": "7Qtl9TMXTW1M",
        "outputId": "ce8204a2-0b03-4582-f187-faf3ff3adc1a"
      },
      "execution_count": 9,
      "outputs": [
        {
          "output_type": "stream",
          "name": "stdout",
          "text": [
            "[1] \"hello world\"\n"
          ]
        }
      ]
    },
    {
      "cell_type": "code",
      "source": [
        "for(x in 1:10){\n",
        "  print(x)\n",
        "}\n",
        "#  to print inside the curly braces must use print statement\n"
      ],
      "metadata": {
        "colab": {
          "base_uri": "https://localhost:8080/"
        },
        "id": "lLuYDSBdTgSB",
        "outputId": "2ac1bb8c-d0d3-41a8-ad4f-7a6a828ad9cc"
      },
      "execution_count": 10,
      "outputs": [
        {
          "output_type": "stream",
          "name": "stdout",
          "text": [
            "[1] 1\n",
            "[1] 2\n",
            "[1] 3\n",
            "[1] 4\n",
            "[1] 5\n",
            "[1] 6\n",
            "[1] 7\n",
            "[1] 8\n",
            "[1] 9\n",
            "[1] 10\n"
          ]
        }
      ]
    },
    {
      "cell_type": "code",
      "source": [
        "# this is a comment\n",
        "# comments start with # in r \n",
        "\"hello world\""
      ],
      "metadata": {
        "id": "hlPRgavKTzKJ",
        "colab": {
          "base_uri": "https://localhost:8080/",
          "height": 35
        },
        "outputId": "787552b8-667f-4f16-8a31-20fc94730b30"
      },
      "execution_count": 11,
      "outputs": [
        {
          "output_type": "display_data",
          "data": {
            "text/plain": [
              "[1] \"hello world\""
            ],
            "text/latex": "'hello world'",
            "text/markdown": "'hello world'",
            "text/html": [
              "'hello world'"
            ]
          },
          "metadata": {}
        }
      ]
    },
    {
      "cell_type": "code",
      "source": [
        "# for multiline comments also use # as many tmes u need to comment \n",
        "# there is no specific rule for to multiline comment unlike other languages like java, pyhton\n",
        "# This is a comment\n",
        "# written in\n",
        "# more than just one line\n",
        "\"Hello World!\""
      ],
      "metadata": {
        "colab": {
          "base_uri": "https://localhost:8080/",
          "height": 35
        },
        "id": "sgF07jAIUhJl",
        "outputId": "63f3c11a-2ac0-4862-a607-10d58f0ab379"
      },
      "execution_count": 12,
      "outputs": [
        {
          "output_type": "display_data",
          "data": {
            "text/plain": [
              "[1] \"Hello World!\""
            ],
            "text/latex": "'Hello World!'",
            "text/markdown": "'Hello World!'",
            "text/html": [
              "'Hello World!'"
            ]
          },
          "metadata": {}
        }
      ]
    },
    {
      "cell_type": "code",
      "source": [
        "name <- \"naveen\"\n",
        "age <- 23\n",
        "name \n",
        "age"
      ],
      "metadata": {
        "colab": {
          "base_uri": "https://localhost:8080/",
          "height": 52
        },
        "id": "YumVJpFiVHhK",
        "outputId": "80fdfdcf-b802-4037-e634-9f63073fb648"
      },
      "execution_count": 14,
      "outputs": [
        {
          "output_type": "display_data",
          "data": {
            "text/plain": [
              "[1] \"naveen\""
            ],
            "text/latex": "'naveen'",
            "text/markdown": "'naveen'",
            "text/html": [
              "'naveen'"
            ]
          },
          "metadata": {}
        },
        {
          "output_type": "display_data",
          "data": {
            "text/plain": [
              "[1] 23"
            ],
            "text/latex": "23",
            "text/markdown": "23",
            "text/html": [
              "23"
            ]
          },
          "metadata": {}
        }
      ]
    },
    {
      "cell_type": "code",
      "source": [
        "# varibles are containers for storing data values\n",
        "# we use both = & <- in r but = forbidden in some context\n",
        "name <- \"dsn\"\n",
        "name\n",
        "print(name)"
      ],
      "metadata": {
        "colab": {
          "base_uri": "https://localhost:8080/",
          "height": 52
        },
        "id": "TCobycI9VnC9",
        "outputId": "daa47e13-2e2b-48fb-db17-6a29107e51a7"
      },
      "execution_count": 17,
      "outputs": [
        {
          "output_type": "display_data",
          "data": {
            "text/plain": [
              "[1] \"dsn\""
            ],
            "text/latex": "'dsn'",
            "text/markdown": "'dsn'",
            "text/html": [
              "'dsn'"
            ]
          },
          "metadata": {}
        },
        {
          "output_type": "stream",
          "name": "stdout",
          "text": [
            "[1] \"dsn\"\n"
          ]
        }
      ]
    },
    {
      "cell_type": "code",
      "source": [
        "#  u must use r\n",
        "for (i in 1:10){\n",
        "  print(i)\n",
        "}"
      ],
      "metadata": {
        "colab": {
          "base_uri": "https://localhost:8080/"
        },
        "id": "CWzkCY7kWW_f",
        "outputId": "5f93b36c-2956-46bd-b915-c049c211fc1a"
      },
      "execution_count": 18,
      "outputs": [
        {
          "output_type": "stream",
          "name": "stdout",
          "text": [
            "[1] 1\n",
            "[1] 2\n",
            "[1] 3\n",
            "[1] 4\n",
            "[1] 5\n",
            "[1] 6\n",
            "[1] 7\n",
            "[1] 8\n",
            "[1] 9\n",
            "[1] 10\n"
          ]
        }
      ]
    },
    {
      "cell_type": "code",
      "source": [
        "# paste() - conctenate, join two or more elements here elements are seperated by commac\n",
        "# conacatenate elements should be in same format otherwise it will give error\n",
        "text <- \"awesome\"\n",
        "paste(\"r is \", text)"
      ],
      "metadata": {
        "colab": {
          "base_uri": "https://localhost:8080/",
          "height": 35
        },
        "id": "_suSAGtBWyvG",
        "outputId": "26107a5e-66f0-4bbd-ba58-547befc959ad"
      },
      "execution_count": 19,
      "outputs": [
        {
          "output_type": "display_data",
          "data": {
            "text/plain": [
              "[1] \"r is  awesome\""
            ],
            "text/latex": "'r is  awesome'",
            "text/markdown": "<span style=white-space:pre-wrap>'r is  awesome'</span>",
            "text/html": [
              "<span style=white-space:pre-wrap>'r is  awesome'</span>"
            ]
          },
          "metadata": {}
        }
      ]
    },
    {
      "cell_type": "code",
      "source": [
        "text1 <- \"R is\"\n",
        "text2 <- \"awesome\"\n",
        "\n",
        "paste(text1, text2)"
      ],
      "metadata": {
        "colab": {
          "base_uri": "https://localhost:8080/",
          "height": 35
        },
        "id": "nQHLynsAXP1S",
        "outputId": "d298bdae-8b7a-454b-e8a3-fa746bfdece8"
      },
      "execution_count": 20,
      "outputs": [
        {
          "output_type": "display_data",
          "data": {
            "text/plain": [
              "[1] \"R is awesome\""
            ],
            "text/latex": "'R is awesome'",
            "text/markdown": "'R is awesome'",
            "text/html": [
              "'R is awesome'"
            ]
          },
          "metadata": {}
        }
      ]
    },
    {
      "cell_type": "code",
      "source": [
        "# For numbers, the + character works as a mathematical operator:\n",
        "num1 <- 5\n",
        "num2 <- 10\n",
        "\n",
        "num1 + num2"
      ],
      "metadata": {
        "colab": {
          "base_uri": "https://localhost:8080/",
          "height": 35
        },
        "id": "kHv_rBCRXnWa",
        "outputId": "68ec9c50-d879-4fa0-c34c-dab1d6fe7057"
      },
      "execution_count": 21,
      "outputs": [
        {
          "output_type": "display_data",
          "data": {
            "text/plain": [
              "[1] 15"
            ],
            "text/latex": "15",
            "text/markdown": "15",
            "text/html": [
              "15"
            ]
          },
          "metadata": {}
        }
      ]
    },
    {
      "cell_type": "code",
      "source": [
        "num <- 5\n",
        "text <- \"Some text\"\n",
        "\n",
        "num + text"
      ],
      "metadata": {
        "colab": {
          "base_uri": "https://localhost:8080/",
          "height": 98
        },
        "id": "SiS_RAjCZZWm",
        "outputId": "1b62f9b5-3513-4ca6-df2a-785d4fda2c17"
      },
      "execution_count": 22,
      "outputs": [
        {
          "output_type": "error",
          "ename": "ERROR",
          "evalue": "ignored",
          "traceback": [
            "Error in num + text: non-numeric argument to binary operator\nTraceback:\n"
          ]
        }
      ]
    },
    {
      "cell_type": "code",
      "source": [
        "# Assign the same value to multiple variables in one line\n",
        "var1 <- var2 <- var3 <- \"Orange\"\n",
        "\n",
        "# Print variable values\n",
        "var1\n",
        "var2\n",
        "var3"
      ],
      "metadata": {
        "colab": {
          "base_uri": "https://localhost:8080/",
          "height": 69
        },
        "id": "ricxMP8CXoWj",
        "outputId": "8e41f1ff-3e34-4dfe-9700-af281e870534"
      },
      "execution_count": 23,
      "outputs": [
        {
          "output_type": "display_data",
          "data": {
            "text/plain": [
              "[1] \"Orange\""
            ],
            "text/latex": "'Orange'",
            "text/markdown": "'Orange'",
            "text/html": [
              "'Orange'"
            ]
          },
          "metadata": {}
        },
        {
          "output_type": "display_data",
          "data": {
            "text/plain": [
              "[1] \"Orange\""
            ],
            "text/latex": "'Orange'",
            "text/markdown": "'Orange'",
            "text/html": [
              "'Orange'"
            ]
          },
          "metadata": {}
        },
        {
          "output_type": "display_data",
          "data": {
            "text/plain": [
              "[1] \"Orange\""
            ],
            "text/latex": "'Orange'",
            "text/markdown": "'Orange'",
            "text/html": [
              "'Orange'"
            ]
          },
          "metadata": {}
        }
      ]
    },
    {
      "cell_type": "markdown",
      "source": [
        "varble name rules\n",
        "\n",
        "\n",
        "1.   it can contain letters, numbers , period(.) symbol, underscore(_)\n",
        "2. it can start with letters and period symbol but if it stated with period symbol it cannot followed by number\n",
        "3. u can't use reserve words for varible names\n",
        "eg . TRUE, FALSE,NULL,if\n",
        "\n",
        "4. variables are case sensitive\n",
        "\n",
        "\n",
        "\n",
        "\n",
        "\n",
        "\n",
        "\n"
      ],
      "metadata": {
        "id": "NktUqV3CgXfC"
      }
    },
    {
      "cell_type": "code",
      "source": [
        "# Legal variable names:\n",
        "myvar <- \"John\"\n",
        "my_var <- \"John\"\n",
        "myVar <- \"John\"\n",
        "MYVAR <- \"John\"\n",
        "myvar2 <- \"John\"\n",
        ".myvar <- \"John\"\n",
        "\n"
      ],
      "metadata": {
        "id": "YoHcoTI7fDIb"
      },
      "execution_count": 25,
      "outputs": []
    },
    {
      "cell_type": "code",
      "source": [
        "# Illegal variable names:\n",
        "2myvar <- \"John\"\n",
        "my-var <- \"John\"\n",
        "my var <- \"John\"\n",
        "_my_var <- \"John\"\n",
        "my_v@ar <- \"John\"\n",
        "TRUE <- \"John\""
      ],
      "metadata": {
        "colab": {
          "base_uri": "https://localhost:8080/",
          "height": 153
        },
        "id": "tRu64wsmf5gA",
        "outputId": "84b27f85-2671-4c46-9ae2-262113477de7"
      },
      "execution_count": 26,
      "outputs": [
        {
          "output_type": "error",
          "ename": "ERROR",
          "evalue": "ignored",
          "traceback": [
            "Error in parse(text = x, srcfile = src): <text>:2:2: unexpected symbol\n1: # Illegal variable names:\n2: 2myvar\n    ^\nTraceback:\n"
          ]
        }
      ]
    },
    {
      "cell_type": "code",
      "source": [
        ".2ann <- \"naveen\""
      ],
      "metadata": {
        "colab": {
          "base_uri": "https://localhost:8080/",
          "height": 134
        },
        "id": "8vl7pblJgCRS",
        "outputId": "e296694e-a082-4e40-876b-03e13e1d26af"
      },
      "execution_count": 28,
      "outputs": [
        {
          "output_type": "error",
          "ename": "ERROR",
          "evalue": "ignored",
          "traceback": [
            "Error in parse(text = x, srcfile = src): <text>:1:3: unexpected symbol\n1: .2ann\n      ^\nTraceback:\n"
          ]
        }
      ]
    },
    {
      "cell_type": "code",
      "source": [
        ".ann <- 'naveen'\n",
        ".ann"
      ],
      "metadata": {
        "colab": {
          "base_uri": "https://localhost:8080/",
          "height": 35
        },
        "id": "g-LyD0BxgHD4",
        "outputId": "201c502d-6ace-40dc-d68d-9821636fcdd1"
      },
      "execution_count": 30,
      "outputs": [
        {
          "output_type": "display_data",
          "data": {
            "text/plain": [
              "[1] \"naveen\""
            ],
            "text/latex": "'naveen'",
            "text/markdown": "'naveen'",
            "text/html": [
              "'naveen'"
            ]
          },
          "metadata": {}
        }
      ]
    },
    {
      "cell_type": "code",
      "source": [
        ".ann2 <- \"naveen\"\n",
        ".ann2"
      ],
      "metadata": {
        "colab": {
          "base_uri": "https://localhost:8080/",
          "height": 35
        },
        "id": "k4ccHJBvgR1J",
        "outputId": "9b3bd25a-280f-4ea3-e5c1-7cefde657bd6"
      },
      "execution_count": 1,
      "outputs": [
        {
          "output_type": "display_data",
          "data": {
            "text/plain": [
              "[1] \"naveen\""
            ],
            "text/latex": "'naveen'",
            "text/markdown": "'naveen'",
            "text/html": [
              "'naveen'"
            ]
          },
          "metadata": {}
        }
      ]
    },
    {
      "cell_type": "code",
      "source": [
        "my_var <- 30 # my_var is type of numeric\n",
        "my_var <- \"Sally\" # my_var is now of type character (aka string)"
      ],
      "metadata": {
        "id": "ITe4L0tOhfTq"
      },
      "execution_count": 1,
      "outputs": []
    },
    {
      "cell_type": "markdown",
      "source": [
        "1. numeric - (10.5, 55, 787)\n",
        "2. integer - (1L, 55L, 100L, where the letter \"L\" declares this as an integer)\n",
        "3. complex - (9 + 3i, where \"i\" is the imaginary part)\n",
        "4. character (a.k.a. string) - (\"k\", \"R is exciting\", \"FALSE\", \"11.5\")\n",
        "5. logical (a.k.a. boolean) - (TRUE or FALSE)"
      ],
      "metadata": {
        "id": "xntRyPyUAO1r"
      }
    },
    {
      "cell_type": "code",
      "source": [
        "# a.k.a means as known as \n",
        "# class()- for check the datatype\n",
        "# numeric\n",
        "x <- 10.5\n",
        "class(x)\n",
        "\n",
        "# integer\n",
        "x <- 1000L\n",
        "class(x)\n",
        "\n",
        "# complex\n",
        "x <- 9i + 3\n",
        "class(x)\n",
        "\n",
        "# character/string\n",
        "x <- \"R is exciting\"\n",
        "class(x)\n",
        "\n",
        "# logical/boolean\n",
        "x <- TRUE\n",
        "class(x)"
      ],
      "metadata": {
        "colab": {
          "base_uri": "https://localhost:8080/",
          "height": 104
        },
        "id": "nQ6kVKOSAl0a",
        "outputId": "fef16b63-a94f-4c64-eb9e-0d8266736589"
      },
      "execution_count": 2,
      "outputs": [
        {
          "output_type": "display_data",
          "data": {
            "text/plain": [
              "[1] \"numeric\""
            ],
            "text/latex": "'numeric'",
            "text/markdown": "'numeric'",
            "text/html": [
              "'numeric'"
            ]
          },
          "metadata": {}
        },
        {
          "output_type": "display_data",
          "data": {
            "text/plain": [
              "[1] \"integer\""
            ],
            "text/latex": "'integer'",
            "text/markdown": "'integer'",
            "text/html": [
              "'integer'"
            ]
          },
          "metadata": {}
        },
        {
          "output_type": "display_data",
          "data": {
            "text/plain": [
              "[1] \"complex\""
            ],
            "text/latex": "'complex'",
            "text/markdown": "'complex'",
            "text/html": [
              "'complex'"
            ]
          },
          "metadata": {}
        },
        {
          "output_type": "display_data",
          "data": {
            "text/plain": [
              "[1] \"character\""
            ],
            "text/latex": "'character'",
            "text/markdown": "'character'",
            "text/html": [
              "'character'"
            ]
          },
          "metadata": {}
        },
        {
          "output_type": "display_data",
          "data": {
            "text/plain": [
              "[1] \"logical\""
            ],
            "text/latex": "'logical'",
            "text/markdown": "'logical'",
            "text/html": [
              "'logical'"
            ]
          },
          "metadata": {}
        }
      ]
    },
    {
      "cell_type": "code",
      "source": [
        "# three number types in R\n",
        "x <- 10.5   # numeric\n",
        "y <- 10L    # integer\n",
        "z <- 1i     # complex"
      ],
      "metadata": {
        "id": "CnVxCWWdBWcs"
      },
      "execution_count": null,
      "outputs": []
    },
    {
      "cell_type": "code",
      "source": [
        "# numeric is similar to float in other languages\n",
        "x <- 10.5\n",
        "y <- 55\n",
        "\n",
        "# Print values of x and y\n",
        "x\n",
        "y\n",
        "\n",
        "# Print the class name of x and y\n",
        "class(x)\n",
        "class(y)\n"
      ],
      "metadata": {
        "colab": {
          "base_uri": "https://localhost:8080/",
          "height": 86
        },
        "id": "KX2hM0AyDP_d",
        "outputId": "ab7d4a79-6a4a-4082-fba3-25141ded99ce"
      },
      "execution_count": 3,
      "outputs": [
        {
          "output_type": "display_data",
          "data": {
            "text/plain": [
              "[1] 10.5"
            ],
            "text/latex": "10.5",
            "text/markdown": "10.5",
            "text/html": [
              "10.5"
            ]
          },
          "metadata": {}
        },
        {
          "output_type": "display_data",
          "data": {
            "text/plain": [
              "[1] 55"
            ],
            "text/latex": "55",
            "text/markdown": "55",
            "text/html": [
              "55"
            ]
          },
          "metadata": {}
        },
        {
          "output_type": "display_data",
          "data": {
            "text/plain": [
              "[1] \"numeric\""
            ],
            "text/latex": "'numeric'",
            "text/markdown": "'numeric'",
            "text/html": [
              "'numeric'"
            ]
          },
          "metadata": {}
        },
        {
          "output_type": "display_data",
          "data": {
            "text/plain": [
              "[1] \"numeric\""
            ],
            "text/latex": "'numeric'",
            "text/markdown": "'numeric'",
            "text/html": [
              "'numeric'"
            ]
          },
          "metadata": {}
        }
      ]
    },
    {
      "cell_type": "code",
      "source": [
        "# integers are numeric data without decimals\n",
        "x <- 1000L\n",
        "y <- 55L\n",
        "\n",
        "# Print values of x and y\n",
        "x\n",
        "y\n",
        "\n",
        "# Print the class name of x and y\n",
        "class(x)\n",
        "class(y)"
      ],
      "metadata": {
        "colab": {
          "base_uri": "https://localhost:8080/",
          "height": 86
        },
        "id": "dMS3NchcDQ3o",
        "outputId": "6b410ee3-6a83-43c5-eb4e-313f713b97d1"
      },
      "execution_count": 4,
      "outputs": [
        {
          "output_type": "display_data",
          "data": {
            "text/plain": [
              "[1] 1000"
            ],
            "text/latex": "1000",
            "text/markdown": "1000",
            "text/html": [
              "1000"
            ]
          },
          "metadata": {}
        },
        {
          "output_type": "display_data",
          "data": {
            "text/plain": [
              "[1] 55"
            ],
            "text/latex": "55",
            "text/markdown": "55",
            "text/html": [
              "55"
            ]
          },
          "metadata": {}
        },
        {
          "output_type": "display_data",
          "data": {
            "text/plain": [
              "[1] \"integer\""
            ],
            "text/latex": "'integer'",
            "text/markdown": "'integer'",
            "text/html": [
              "'integer'"
            ]
          },
          "metadata": {}
        },
        {
          "output_type": "display_data",
          "data": {
            "text/plain": [
              "[1] \"integer\""
            ],
            "text/latex": "'integer'",
            "text/markdown": "'integer'",
            "text/html": [
              "'integer'"
            ]
          },
          "metadata": {}
        }
      ]
    },
    {
      "cell_type": "code",
      "source": [
        "# A complex number is written with an \"i\" as the imaginary part:\n",
        "\n",
        "\n",
        "x <- 3+5i\n",
        "y <- 5i\n",
        "\n",
        "# Print values of x and y\n",
        "x\n",
        "y\n",
        "\n",
        "# Print the class name of x and y\n",
        "class(x)\n",
        "class(y)"
      ],
      "metadata": {
        "colab": {
          "base_uri": "https://localhost:8080/",
          "height": 86
        },
        "id": "3t3hvZhzDv1V",
        "outputId": "ab3eb982-6d63-4f2a-9f1a-6bc8c662c95f"
      },
      "execution_count": 5,
      "outputs": [
        {
          "output_type": "display_data",
          "data": {
            "text/plain": [
              "[1] 3+5i"
            ],
            "text/latex": "3+5i",
            "text/markdown": "3+5i",
            "text/html": [
              "3+5i"
            ]
          },
          "metadata": {}
        },
        {
          "output_type": "display_data",
          "data": {
            "text/plain": [
              "[1] 0+5i"
            ],
            "text/latex": "0+5i",
            "text/markdown": "0+5i",
            "text/html": [
              "0+5i"
            ]
          },
          "metadata": {}
        },
        {
          "output_type": "display_data",
          "data": {
            "text/plain": [
              "[1] \"complex\""
            ],
            "text/latex": "'complex'",
            "text/markdown": "'complex'",
            "text/html": [
              "'complex'"
            ]
          },
          "metadata": {}
        },
        {
          "output_type": "display_data",
          "data": {
            "text/plain": [
              "[1] \"complex\""
            ],
            "text/latex": "'complex'",
            "text/markdown": "'complex'",
            "text/html": [
              "'complex'"
            ]
          },
          "metadata": {}
        }
      ]
    },
    {
      "cell_type": "markdown",
      "source": [
        "Type conversion\n",
        "1. as.numeric()\n",
        "2. as.integer()\n",
        "3. as. complex()\n",
        "we can convert some types only not all"
      ],
      "metadata": {
        "id": "uqW3T4p6Ec2i"
      }
    },
    {
      "cell_type": "code",
      "source": [
        "x <- 1L # integer\n",
        "y <- 2 # numeric\n",
        "\n",
        "# convert from integer to numeric:\n",
        "a <- as.numeric(x)\n",
        "\n",
        "# convert from numeric to integer:\n",
        "b <- as.integer(y)\n",
        "\n",
        "# print values of x and y\n",
        "x\n",
        "y\n",
        "\n",
        "# print the class name of a and b\n",
        "class(a)\n",
        "class(b)\n",
        "\n"
      ],
      "metadata": {
        "colab": {
          "base_uri": "https://localhost:8080/",
          "height": 86
        },
        "id": "P3q_brbaE9am",
        "outputId": "f5db4c0c-5acc-443c-a3af-bde4cad282d5"
      },
      "execution_count": 6,
      "outputs": [
        {
          "output_type": "display_data",
          "data": {
            "text/plain": [
              "[1] 1"
            ],
            "text/latex": "1",
            "text/markdown": "1",
            "text/html": [
              "1"
            ]
          },
          "metadata": {}
        },
        {
          "output_type": "display_data",
          "data": {
            "text/plain": [
              "[1] 2"
            ],
            "text/latex": "2",
            "text/markdown": "2",
            "text/html": [
              "2"
            ]
          },
          "metadata": {}
        },
        {
          "output_type": "display_data",
          "data": {
            "text/plain": [
              "[1] \"numeric\""
            ],
            "text/latex": "'numeric'",
            "text/markdown": "'numeric'",
            "text/html": [
              "'numeric'"
            ]
          },
          "metadata": {}
        },
        {
          "output_type": "display_data",
          "data": {
            "text/plain": [
              "[1] \"integer\""
            ],
            "text/latex": "'integer'",
            "text/markdown": "'integer'",
            "text/html": [
              "'integer'"
            ]
          },
          "metadata": {}
        }
      ]
    },
    {
      "cell_type": "code",
      "source": [
        "10+5\n",
        "10-5\n",
        "10*3\n",
        "10/4"
      ],
      "metadata": {
        "colab": {
          "base_uri": "https://localhost:8080/",
          "height": 86
        },
        "id": "KriWZxQ5FU3_",
        "outputId": "e0fe00ab-f12b-4e15-c820-f8d352a35301"
      },
      "execution_count": 7,
      "outputs": [
        {
          "output_type": "display_data",
          "data": {
            "text/plain": [
              "[1] 15"
            ],
            "text/latex": "15",
            "text/markdown": "15",
            "text/html": [
              "15"
            ]
          },
          "metadata": {}
        },
        {
          "output_type": "display_data",
          "data": {
            "text/plain": [
              "[1] 5"
            ],
            "text/latex": "5",
            "text/markdown": "5",
            "text/html": [
              "5"
            ]
          },
          "metadata": {}
        },
        {
          "output_type": "display_data",
          "data": {
            "text/plain": [
              "[1] 30"
            ],
            "text/latex": "30",
            "text/markdown": "30",
            "text/html": [
              "30"
            ]
          },
          "metadata": {}
        },
        {
          "output_type": "display_data",
          "data": {
            "text/plain": [
              "[1] 2.5"
            ],
            "text/latex": "2.5",
            "text/markdown": "2.5",
            "text/html": [
              "2.5"
            ]
          },
          "metadata": {}
        }
      ]
    },
    {
      "cell_type": "code",
      "source": [
        "# R has lot of built in math functions\n",
        "# it returns the max num\n",
        "max(5, 10, 15)\n",
        "# it returns the min num\n",
        "min(5, 10, 15)\n",
        "# it returns the sqrt of the num\n",
        "sqrt(16)\n",
        "# returns the abosolute positive num\n",
        "abs(-4.7)\n",
        "# ceiling  - it means it rooun the nearest upward integer\n",
        "ceiling(1.4)\n",
        "# floor - it rounds to the nearest bottom integer\n",
        "floor(1.4)"
      ],
      "metadata": {
        "colab": {
          "base_uri": "https://localhost:8080/",
          "height": 121
        },
        "id": "zp72BisEFf5h",
        "outputId": "3c64ffb4-24a0-4e94-ed99-45c94e9ed3b6"
      },
      "execution_count": 9,
      "outputs": [
        {
          "output_type": "display_data",
          "data": {
            "text/plain": [
              "[1] 15"
            ],
            "text/latex": "15",
            "text/markdown": "15",
            "text/html": [
              "15"
            ]
          },
          "metadata": {}
        },
        {
          "output_type": "display_data",
          "data": {
            "text/plain": [
              "[1] 5"
            ],
            "text/latex": "5",
            "text/markdown": "5",
            "text/html": [
              "5"
            ]
          },
          "metadata": {}
        },
        {
          "output_type": "display_data",
          "data": {
            "text/plain": [
              "[1] 4"
            ],
            "text/latex": "4",
            "text/markdown": "4",
            "text/html": [
              "4"
            ]
          },
          "metadata": {}
        },
        {
          "output_type": "display_data",
          "data": {
            "text/plain": [
              "[1] 4.7"
            ],
            "text/latex": "4.7",
            "text/markdown": "4.7",
            "text/html": [
              "4.7"
            ]
          },
          "metadata": {}
        },
        {
          "output_type": "display_data",
          "data": {
            "text/plain": [
              "[1] 2"
            ],
            "text/latex": "2",
            "text/markdown": "2",
            "text/html": [
              "2"
            ]
          },
          "metadata": {}
        },
        {
          "output_type": "display_data",
          "data": {
            "text/plain": [
              "[1] 1"
            ],
            "text/latex": "1",
            "text/markdown": "1",
            "text/html": [
              "1"
            ]
          },
          "metadata": {}
        }
      ]
    },
    {
      "cell_type": "code",
      "source": [
        "# character or string denote by  single or double codes\n",
        "\"hello\"\n",
        "'heelo'"
      ],
      "metadata": {
        "colab": {
          "base_uri": "https://localhost:8080/",
          "height": 52
        },
        "id": "1VLtMQn6Hfsj",
        "outputId": "7041a0b5-957d-4f6d-c87c-f48c8d18d084"
      },
      "execution_count": 10,
      "outputs": [
        {
          "output_type": "display_data",
          "data": {
            "text/plain": [
              "[1] \"hello\""
            ],
            "text/latex": "'hello'",
            "text/markdown": "'hello'",
            "text/html": [
              "'hello'"
            ]
          },
          "metadata": {}
        },
        {
          "output_type": "display_data",
          "data": {
            "text/plain": [
              "[1] \"heelo\""
            ],
            "text/latex": "'heelo'",
            "text/markdown": "'heelo'",
            "text/html": [
              "'heelo'"
            ]
          },
          "metadata": {}
        }
      ]
    },
    {
      "cell_type": "code",
      "source": [
        "str <- \"hello\"\n",
        "str"
      ],
      "metadata": {
        "colab": {
          "base_uri": "https://localhost:8080/",
          "height": 35
        },
        "id": "csTaSQWBGW2t",
        "outputId": "900aaffb-b94f-4d4e-a9c8-fcf37eed81cb"
      },
      "execution_count": 11,
      "outputs": [
        {
          "output_type": "display_data",
          "data": {
            "text/plain": [
              "[1] \"hello\""
            ],
            "text/latex": "'hello'",
            "text/markdown": "'hello'",
            "text/html": [
              "'hello'"
            ]
          },
          "metadata": {}
        }
      ]
    },
    {
      "cell_type": "code",
      "source": [
        "str <- \"Lorem ipsum dolor sit amet,\n",
        "consectetur adipiscing elit,\n",
        "sed do eiusmod tempor incididunt\n",
        "ut labore et dolore magna aliqua.\"\n",
        "\n",
        "str # print the value of str"
      ],
      "metadata": {
        "colab": {
          "base_uri": "https://localhost:8080/",
          "height": 52
        },
        "id": "1F2Y-kIXH-nF",
        "outputId": "c42d5d97-eb2b-49c2-f276-4568c4afffca"
      },
      "execution_count": 12,
      "outputs": [
        {
          "output_type": "display_data",
          "data": {
            "text/plain": [
              "[1] \"Lorem ipsum dolor sit amet,\\nconsectetur adipiscing elit,\\nsed do eiusmod tempor incididunt\\nut labore et dolore magna aliqua.\""
            ],
            "text/latex": "'Lorem ipsum dolor sit amet,\\textbackslash{}nconsectetur adipiscing elit,\\textbackslash{}nsed do eiusmod tempor incididunt\\textbackslash{}nut labore et dolore magna aliqua.'",
            "text/markdown": "'Lorem ipsum dolor sit amet,\\nconsectetur adipiscing elit,\\nsed do eiusmod tempor incididunt\\nut labore et dolore magna aliqua.'",
            "text/html": [
              "'Lorem ipsum dolor sit amet,\\nconsectetur adipiscing elit,\\nsed do eiusmod tempor incididunt\\nut labore et dolore magna aliqua.'"
            ]
          },
          "metadata": {}
        }
      ]
    },
    {
      "cell_type": "code",
      "source": [
        "# cat() - to insert line breaks at the same position in the code\n",
        "str <- \"Lorem ipsum dolor sit amet,\n",
        "consectetur adipiscing elit,\n",
        "sed do eiusmod tempor incididunt\n",
        "ut labore et dolore magna aliqua.\"\n",
        "\n",
        "cat(str)"
      ],
      "metadata": {
        "colab": {
          "base_uri": "https://localhost:8080/"
        },
        "id": "tNmNALZSIEMm",
        "outputId": "a16c3599-c12b-45e9-e81a-c6470d4a5f0d"
      },
      "execution_count": 14,
      "outputs": [
        {
          "output_type": "stream",
          "name": "stdout",
          "text": [
            "Lorem ipsum dolor sit amet,\n",
            "consectetur adipiscing elit,\n",
            "sed do eiusmod tempor incididunt\n",
            "ut labore et dolore magna aliqua."
          ]
        }
      ]
    },
    {
      "cell_type": "code",
      "source": [
        "# nchar()- find the num of characters in a string\n",
        "str <- \"Hello World!\"\n",
        "\n",
        "nchar(str)"
      ],
      "metadata": {
        "colab": {
          "base_uri": "https://localhost:8080/",
          "height": 35
        },
        "id": "NBoGPIspIShf",
        "outputId": "2b133a33-cf59-4be4-828f-f9bd39a3b561"
      },
      "execution_count": 15,
      "outputs": [
        {
          "output_type": "display_data",
          "data": {
            "text/plain": [
              "[1] 12"
            ],
            "text/latex": "12",
            "text/markdown": "12",
            "text/html": [
              "12"
            ]
          },
          "metadata": {}
        }
      ]
    },
    {
      "cell_type": "code",
      "source": [
        "# grepl() - to check a character or string present  in the string\n",
        "str <- \"Hello World!\"\n",
        "\n",
        "grepl(\"H\", str)\n",
        "grepl(\"Hello\", str)\n",
        "grepl(\"X\", str)"
      ],
      "metadata": {
        "colab": {
          "base_uri": "https://localhost:8080/",
          "height": 69
        },
        "id": "EPQ5IFYLI1oc",
        "outputId": "35e62f10-2106-4e48-be00-36fa441bea13"
      },
      "execution_count": 16,
      "outputs": [
        {
          "output_type": "display_data",
          "data": {
            "text/plain": [
              "[1] TRUE"
            ],
            "text/latex": "TRUE",
            "text/markdown": "TRUE",
            "text/html": [
              "TRUE"
            ]
          },
          "metadata": {}
        },
        {
          "output_type": "display_data",
          "data": {
            "text/plain": [
              "[1] TRUE"
            ],
            "text/latex": "TRUE",
            "text/markdown": "TRUE",
            "text/html": [
              "TRUE"
            ]
          },
          "metadata": {}
        },
        {
          "output_type": "display_data",
          "data": {
            "text/plain": [
              "[1] FALSE"
            ],
            "text/latex": "FALSE",
            "text/markdown": "FALSE",
            "text/html": [
              "FALSE"
            ]
          },
          "metadata": {}
        }
      ]
    },
    {
      "cell_type": "code",
      "source": [
        "# paste()- we can merge/concatenate two strings\n",
        "str1 <- \"Hello\"\n",
        "str2 <- \"World\"\n",
        "\n",
        "paste(str1, str2)"
      ],
      "metadata": {
        "colab": {
          "base_uri": "https://localhost:8080/",
          "height": 35
        },
        "id": "B_lNTHsyJIF1",
        "outputId": "0b2aa293-72dd-44c4-cd22-ba79eda66f4e"
      },
      "execution_count": 17,
      "outputs": [
        {
          "output_type": "display_data",
          "data": {
            "text/plain": [
              "[1] \"Hello World\""
            ],
            "text/latex": "'Hello World'",
            "text/markdown": "'Hello World'",
            "text/html": [
              "'Hello World'"
            ]
          },
          "metadata": {}
        }
      ]
    },
    {
      "cell_type": "markdown",
      "source": [
        "1. To insert characters that are illegal in a string, you must use an escape character.\n",
        "\n",
        "2. An escape character is a backslash \\ followed by the character you want to insert.\n",
        "\n",
        "3. An example of an illegal character is a double quote inside a string that is surrounded by double quotes:"
      ],
      "metadata": {
        "id": "w7yxUybYJbU1"
      }
    },
    {
      "cell_type": "code",
      "source": [
        "str <- \"We are the so-called \"Vikings\", from the north.\"\n",
        "\n",
        "str"
      ],
      "metadata": {
        "colab": {
          "base_uri": "https://localhost:8080/",
          "height": 134
        },
        "id": "7uaPKjWCJwNC",
        "outputId": "0ec8870c-7eb7-4986-de45-7e61a9f4e62d"
      },
      "execution_count": 18,
      "outputs": [
        {
          "output_type": "error",
          "ename": "ERROR",
          "evalue": "ignored",
          "traceback": [
            "Error in parse(text = x, srcfile = src): <text>:1:31: unexpected symbol\n1: str <- \"We are the so-called \"Vikings\n                                  ^\nTraceback:\n"
          ]
        }
      ]
    },
    {
      "cell_type": "code",
      "source": [
        "# To fix this problem, use the escape character \\\":\n",
        "str <- \"We are the so-called \\\"Vikings\\\", from the north.\"\n",
        "\n",
        "str\n",
        "cat(str)"
      ],
      "metadata": {
        "colab": {
          "base_uri": "https://localhost:8080/",
          "height": 52
        },
        "id": "YkpODAdkJ7FL",
        "outputId": "63f01918-c753-4694-d9c3-f57457dc7bde"
      },
      "execution_count": 19,
      "outputs": [
        {
          "output_type": "display_data",
          "data": {
            "text/plain": [
              "[1] \"We are the so-called \\\"Vikings\\\", from the north.\""
            ],
            "text/latex": "'We are the so-called \"Vikings\", from the north.'",
            "text/markdown": "'We are the so-called \"Vikings\", from the north.'",
            "text/html": [
              "'We are the so-called \"Vikings\", from the north.'"
            ]
          },
          "metadata": {}
        },
        {
          "output_type": "stream",
          "name": "stdout",
          "text": [
            "We are the so-called \"Vikings\", from the north."
          ]
        }
      ]
    },
    {
      "cell_type": "markdown",
      "source": [
        "Booleans (Logical Values)\n",
        "In programming, you often need to know if an expression is true or false.\n",
        "\n",
        "You can evaluate any expression in R, and get one of two answers, TRUE or FALSE.\n",
        "\n",
        "When you compare two values, the expression is evaluated and R returns the logical answer:"
      ],
      "metadata": {
        "id": "Eapwc0ZJKDPR"
      }
    },
    {
      "cell_type": "code",
      "source": [
        "10 > 9    # TRUE because 10 is greater than 9\n",
        "10 == 9   # FALSE because 10 is not equal to 9\n",
        "10 < 9    # FALSE because 10 is greater than 9"
      ],
      "metadata": {
        "colab": {
          "base_uri": "https://localhost:8080/",
          "height": 69
        },
        "id": "6qDKxvDQKnYG",
        "outputId": "bf668620-aabb-4c74-db5c-1a67f0d9b9ea"
      },
      "execution_count": 20,
      "outputs": [
        {
          "output_type": "display_data",
          "data": {
            "text/plain": [
              "[1] TRUE"
            ],
            "text/latex": "TRUE",
            "text/markdown": "TRUE",
            "text/html": [
              "TRUE"
            ]
          },
          "metadata": {}
        },
        {
          "output_type": "display_data",
          "data": {
            "text/plain": [
              "[1] FALSE"
            ],
            "text/latex": "FALSE",
            "text/markdown": "FALSE",
            "text/html": [
              "FALSE"
            ]
          },
          "metadata": {}
        },
        {
          "output_type": "display_data",
          "data": {
            "text/plain": [
              "[1] FALSE"
            ],
            "text/latex": "FALSE",
            "text/markdown": "FALSE",
            "text/html": [
              "FALSE"
            ]
          },
          "metadata": {}
        }
      ]
    },
    {
      "cell_type": "code",
      "source": [
        "a <- 10\n",
        "b <- 9\n",
        "\n",
        "a > b"
      ],
      "metadata": {
        "colab": {
          "base_uri": "https://localhost:8080/",
          "height": 35
        },
        "id": "Q5C3EV9DKths",
        "outputId": "93ef74e7-9536-4b1e-f549-1928b43ae352"
      },
      "execution_count": 21,
      "outputs": [
        {
          "output_type": "display_data",
          "data": {
            "text/plain": [
              "[1] TRUE"
            ],
            "text/latex": "TRUE",
            "text/markdown": "TRUE",
            "text/html": [
              "TRUE"
            ]
          },
          "metadata": {}
        }
      ]
    },
    {
      "cell_type": "code",
      "source": [
        "a <- 200\n",
        "b <- 33\n",
        "\n",
        "if (b > a) {\n",
        "  print (\"b is greater than a\")\n",
        "} else {\n",
        "  print(\"b is not greater than a\")\n",
        "}"
      ],
      "metadata": {
        "colab": {
          "base_uri": "https://localhost:8080/"
        },
        "id": "Fh_72wnJKxGK",
        "outputId": "67a96699-3379-465f-edd7-9625b5b14e0e"
      },
      "execution_count": 22,
      "outputs": [
        {
          "output_type": "stream",
          "name": "stdout",
          "text": [
            "[1] \"b is not greater than a\"\n"
          ]
        }
      ]
    },
    {
      "cell_type": "markdown",
      "source": [
        "#R Operators\n",
        "##Operators\n",
        "1. Operators are used to perform operations on variables and values.\n",
        "\n",
        "2. In the example below, we use the + operator to add together two values:"
      ],
      "metadata": {
        "id": "Zuz3WpCVK1z1"
      }
    },
    {
      "cell_type": "code",
      "source": [
        "10+5 "
      ],
      "metadata": {
        "colab": {
          "base_uri": "https://localhost:8080/",
          "height": 35
        },
        "id": "_9nJUG5dLZOQ",
        "outputId": "617b3d02-c4f8-41e0-ced6-c0f4f93b864c"
      },
      "execution_count": 23,
      "outputs": [
        {
          "output_type": "display_data",
          "data": {
            "text/plain": [
              "[1] 15"
            ],
            "text/latex": "15",
            "text/markdown": "15",
            "text/html": [
              "15"
            ]
          },
          "metadata": {}
        }
      ]
    },
    {
      "cell_type": "markdown",
      "source": [
        "R divides the operators in the following groups:\n",
        "\n",
        "1. Arithmetic operators\n",
        "2. Assignment operators\n",
        "3. Comparison operators\n",
        "4. Logical operators\n",
        "5. Miscellaneous operators\n"
      ],
      "metadata": {
        "id": "roamX3RhLpCA"
      }
    },
    {
      "cell_type": "code",
      "source": [
        "# arthimetic operators\n",
        "# Arithmetic operators are used with numeric values to perform common mathematical operations:\n",
        "a <- 10\n",
        "b <- 5\n",
        "a+b   # 15\n",
        "\n",
        "a-b   # 5\n",
        "\n",
        "a*b   # 50\n",
        "\n",
        "a/b   # 2\n",
        "\n",
        "a^b   #100000\n",
        "\n",
        "a%%b   # modulus Or reminder value - 0\n",
        "\n",
        "a%/%b  # integer part of coffecient 7\n"
      ],
      "metadata": {
        "colab": {
          "base_uri": "https://localhost:8080/",
          "height": 139
        },
        "id": "86Vn8XRNL30T",
        "outputId": "d95ddaa9-09b9-4afd-9a7e-d9eb221edf8e"
      },
      "execution_count": 24,
      "outputs": [
        {
          "output_type": "display_data",
          "data": {
            "text/plain": [
              "[1] 15"
            ],
            "text/latex": "15",
            "text/markdown": "15",
            "text/html": [
              "15"
            ]
          },
          "metadata": {}
        },
        {
          "output_type": "display_data",
          "data": {
            "text/plain": [
              "[1] 5"
            ],
            "text/latex": "5",
            "text/markdown": "5",
            "text/html": [
              "5"
            ]
          },
          "metadata": {}
        },
        {
          "output_type": "display_data",
          "data": {
            "text/plain": [
              "[1] 50"
            ],
            "text/latex": "50",
            "text/markdown": "50",
            "text/html": [
              "50"
            ]
          },
          "metadata": {}
        },
        {
          "output_type": "display_data",
          "data": {
            "text/plain": [
              "[1] 2"
            ],
            "text/latex": "2",
            "text/markdown": "2",
            "text/html": [
              "2"
            ]
          },
          "metadata": {}
        },
        {
          "output_type": "display_data",
          "data": {
            "text/plain": [
              "[1] 1e+05"
            ],
            "text/latex": "1e+05",
            "text/markdown": "1e+05",
            "text/html": [
              "1e+05"
            ]
          },
          "metadata": {}
        },
        {
          "output_type": "display_data",
          "data": {
            "text/plain": [
              "[1] 0"
            ],
            "text/latex": "0",
            "text/markdown": "0",
            "text/html": [
              "0"
            ]
          },
          "metadata": {}
        },
        {
          "output_type": "display_data",
          "data": {
            "text/plain": [
              "[1] 2"
            ],
            "text/latex": "2",
            "text/markdown": "2",
            "text/html": [
              "2"
            ]
          },
          "metadata": {}
        }
      ]
    },
    {
      "cell_type": "code",
      "source": [
        "3.8 %/% 2"
      ],
      "metadata": {
        "colab": {
          "base_uri": "https://localhost:8080/",
          "height": 35
        },
        "id": "AJwhen_YNRyA",
        "outputId": "64131013-0803-4f89-bfc8-27177aa26815"
      },
      "execution_count": 26,
      "outputs": [
        {
          "output_type": "display_data",
          "data": {
            "text/plain": [
              "[1] 1"
            ],
            "text/latex": "1",
            "text/markdown": "1",
            "text/html": [
              "1"
            ]
          },
          "metadata": {}
        }
      ]
    },
    {
      "cell_type": "code",
      "source": [
        "# R Assignment Operators\n",
        "# Assignment operators are used to assign values to variables:\n",
        "\n",
        "my_var <- 3\n",
        "\n",
        "my_var <<- 3\n",
        "\n",
        "3 -> my_var\n",
        "\n",
        "3 ->> my_var\n",
        "\n",
        "my_var # print my_var\n",
        "\n",
        "\n",
        "# It is also possible to turn the direction of the assignment operator.\n",
        "\n",
        "# x <- 3 is equal to 3 -> x   <<- is global assinger"
      ],
      "metadata": {
        "colab": {
          "base_uri": "https://localhost:8080/",
          "height": 35
        },
        "id": "N4xJ4KFjNpHS",
        "outputId": "3379a2fc-fa2c-450e-dddd-799c3bfd6cd9"
      },
      "execution_count": 27,
      "outputs": [
        {
          "output_type": "display_data",
          "data": {
            "text/plain": [
              "[1] 3"
            ],
            "text/latex": "3",
            "text/markdown": "3",
            "text/html": [
              "3"
            ]
          },
          "metadata": {}
        }
      ]
    },
    {
      "cell_type": "code",
      "source": [
        "# R Comparison Operators\n",
        "# Comparison operators are used to compare two values:\n",
        "a = 10\n",
        "b = 5\n",
        "a == b\n",
        "\n",
        "a != b\n",
        "\n",
        "a > b\n",
        "\n",
        "a < b\n",
        "\n",
        "a >= b\n",
        "\n",
        "a <= b\n"
      ],
      "metadata": {
        "colab": {
          "base_uri": "https://localhost:8080/",
          "height": 121
        },
        "id": "67e5M0ZrOAzv",
        "outputId": "bcdc85c2-5afd-4f73-8aea-7194ef082c78"
      },
      "execution_count": 29,
      "outputs": [
        {
          "output_type": "display_data",
          "data": {
            "text/plain": [
              "[1] FALSE"
            ],
            "text/latex": "FALSE",
            "text/markdown": "FALSE",
            "text/html": [
              "FALSE"
            ]
          },
          "metadata": {}
        },
        {
          "output_type": "display_data",
          "data": {
            "text/plain": [
              "[1] TRUE"
            ],
            "text/latex": "TRUE",
            "text/markdown": "TRUE",
            "text/html": [
              "TRUE"
            ]
          },
          "metadata": {}
        },
        {
          "output_type": "display_data",
          "data": {
            "text/plain": [
              "[1] TRUE"
            ],
            "text/latex": "TRUE",
            "text/markdown": "TRUE",
            "text/html": [
              "TRUE"
            ]
          },
          "metadata": {}
        },
        {
          "output_type": "display_data",
          "data": {
            "text/plain": [
              "[1] FALSE"
            ],
            "text/latex": "FALSE",
            "text/markdown": "FALSE",
            "text/html": [
              "FALSE"
            ]
          },
          "metadata": {}
        },
        {
          "output_type": "display_data",
          "data": {
            "text/plain": [
              "[1] TRUE"
            ],
            "text/latex": "TRUE",
            "text/markdown": "TRUE",
            "text/html": [
              "TRUE"
            ]
          },
          "metadata": {}
        },
        {
          "output_type": "display_data",
          "data": {
            "text/plain": [
              "[1] FALSE"
            ],
            "text/latex": "FALSE",
            "text/markdown": "FALSE",
            "text/html": [
              "FALSE"
            ]
          },
          "metadata": {}
        }
      ]
    },
    {
      "cell_type": "code",
      "source": [
        "#R Logical Operators\n",
        "##Logical operators are used to combine conditional statements:\n",
        "\n",
        "# Operator\tDescription\n",
        "# &\t        Element-wise Logical AND operator. It returns TRUE if both elements are TRUE\n",
        "# &&\t      Logical AND operator - Returns TRUE if both statements are TRUE\n",
        "# |\t         Elementwise- Logical OR operator. It returns TRUE if one of the statement is TRUE\n",
        "# ||\t       Logical OR operator. It returns TRUE if one of the statement is TRUE.\n",
        "# !\t         Logical NOT - returns FALSE if statement is TRUE"
      ],
      "metadata": {
        "id": "Hj3nvElHOj8H"
      },
      "execution_count": 31,
      "outputs": []
    },
    {
      "cell_type": "code",
      "source": [
        "#  miscellaneous operators - manipulate the data\n",
        "x <- -1:10 # to create a series of numbers in a sequence\n",
        "x\n",
        "# %in%\tFind out if an element belongs to a vector\tx %in% y\n",
        "# %*%\tMatrix Multiplication\tx <- Matrix1 %*% Matrix2"
      ],
      "metadata": {
        "id": "EWLYoWuBPX2H",
        "colab": {
          "base_uri": "https://localhost:8080/",
          "height": 35
        },
        "outputId": "130bfcd0-701e-43ea-e227-ab1a2ec921c0"
      },
      "execution_count": 32,
      "outputs": [
        {
          "output_type": "display_data",
          "data": {
            "text/plain": [
              " [1] -1  0  1  2  3  4  5  6  7  8  9 10"
            ],
            "text/latex": "\\begin{enumerate*}\n\\item -1\n\\item 0\n\\item 1\n\\item 2\n\\item 3\n\\item 4\n\\item 5\n\\item 6\n\\item 7\n\\item 8\n\\item 9\n\\item 10\n\\end{enumerate*}\n",
            "text/markdown": "1. -1\n2. 0\n3. 1\n4. 2\n5. 3\n6. 4\n7. 5\n8. 6\n9. 7\n10. 8\n11. 9\n12. 10\n\n\n",
            "text/html": [
              "<style>\n",
              ".list-inline {list-style: none; margin:0; padding: 0}\n",
              ".list-inline>li {display: inline-block}\n",
              ".list-inline>li:not(:last-child)::after {content: \"\\00b7\"; padding: 0 .5ex}\n",
              "</style>\n",
              "<ol class=list-inline><li>-1</li><li>0</li><li>1</li><li>2</li><li>3</li><li>4</li><li>5</li><li>6</li><li>7</li><li>8</li><li>9</li><li>10</li></ol>\n"
            ]
          },
          "metadata": {}
        }
      ]
    },
    {
      "cell_type": "code",
      "source": [
        "a <- 33\n",
        "b <- 200\n",
        "\n",
        "if (b > a) {\n",
        "  print(\"b is greater than a\")\n",
        "}"
      ],
      "metadata": {
        "colab": {
          "base_uri": "https://localhost:8080/"
        },
        "id": "89qSJdg1QE9b",
        "outputId": "e5d1f22a-dac3-47e0-a87c-6cd3b53e1628"
      },
      "execution_count": 33,
      "outputs": [
        {
          "output_type": "stream",
          "name": "stdout",
          "text": [
            "[1] \"b is greater than a\"\n"
          ]
        }
      ]
    },
    {
      "cell_type": "code",
      "source": [
        "# {} - to define the scope in the code\n",
        "a <- 33\n",
        "b <- 33\n",
        "\n",
        "if (b > a) {\n",
        "  print(\"b is greater than a\")\n",
        "} else if (a == b) {\n",
        "  print (\"a and b are equal\")\n",
        "}"
      ],
      "metadata": {
        "colab": {
          "base_uri": "https://localhost:8080/"
        },
        "id": "tOWlkkwfQro_",
        "outputId": "b4d5c74d-f7d0-41fe-fd03-934f8a90f530"
      },
      "execution_count": 34,
      "outputs": [
        {
          "output_type": "stream",
          "name": "stdout",
          "text": [
            "[1] \"a and b are equal\"\n"
          ]
        }
      ]
    },
    {
      "cell_type": "code",
      "source": [
        "a <- 200\n",
        "b <- 33\n",
        "\n",
        "if (b > a) {\n",
        "  print(\"b is greater than a\")\n",
        "} else if (a == b) {\n",
        "  print(\"a and b are equal\")\n",
        "} else {\n",
        "  print(\"a is greater than b\")\n",
        "}"
      ],
      "metadata": {
        "colab": {
          "base_uri": "https://localhost:8080/"
        },
        "id": "Ryl9aKgRQ5Mn",
        "outputId": "1479a574-15a7-453d-c3f4-4032b1b9ed19"
      },
      "execution_count": 35,
      "outputs": [
        {
          "output_type": "stream",
          "name": "stdout",
          "text": [
            "[1] \"a is greater than b\"\n"
          ]
        }
      ]
    },
    {
      "cell_type": "code",
      "source": [
        "a <- 200\n",
        "b <- 33\n",
        "\n",
        "if (b > a) {\n",
        "  print(\"b is greater than a\")\n",
        "} else {\n",
        "  print(\"b is not greater than a\")\n",
        "}"
      ],
      "metadata": {
        "colab": {
          "base_uri": "https://localhost:8080/"
        },
        "id": "RO7pni64Q-QC",
        "outputId": "a0c7847b-5a31-4213-ee8d-f20b9689bbde"
      },
      "execution_count": 36,
      "outputs": [
        {
          "output_type": "stream",
          "name": "stdout",
          "text": [
            "[1] \"b is not greater than a\"\n"
          ]
        }
      ]
    },
    {
      "cell_type": "code",
      "source": [
        "# nested if statements\n",
        "x <- 41\n",
        "\n",
        "if (x > 10) {\n",
        "  print(\"Above ten\")\n",
        "  if (x > 20) {\n",
        "    print(\"and also above 20!\")\n",
        "  } else {\n",
        "    print(\"but not above 20.\")\n",
        "  }\n",
        "} else {\n",
        "  print(\"below 10.\")\n",
        "}"
      ],
      "metadata": {
        "colab": {
          "base_uri": "https://localhost:8080/"
        },
        "id": "Pha-W4GdREdR",
        "outputId": "c9d47891-54b9-4b68-af76-fe30b4e01346"
      },
      "execution_count": 37,
      "outputs": [
        {
          "output_type": "stream",
          "name": "stdout",
          "text": [
            "[1] \"Above ten\"\n",
            "[1] \"and also above 20!\"\n"
          ]
        }
      ]
    },
    {
      "cell_type": "code",
      "source": [
        "a <- 200\n",
        "b <- 33\n",
        "c <- 500\n",
        "\n",
        "if (a > b & c > a){\n",
        "  print(\"Both conditions are true\")\n",
        "}\n"
      ],
      "metadata": {
        "colab": {
          "base_uri": "https://localhost:8080/"
        },
        "id": "prtMrXhARZbR",
        "outputId": "9493883c-a80e-46b0-8c30-50c744109608"
      },
      "execution_count": 38,
      "outputs": [
        {
          "output_type": "stream",
          "name": "stdout",
          "text": [
            "[1] \"Both conditions are true\"\n"
          ]
        }
      ]
    },
    {
      "cell_type": "code",
      "source": [
        "a <- 200\n",
        "b <- 33\n",
        "c <- 500\n",
        "\n",
        "if (a > b | a > c){\n",
        "  print(\"At least one of the conditions is true\")\n",
        "}\n"
      ],
      "metadata": {
        "colab": {
          "base_uri": "https://localhost:8080/"
        },
        "id": "8FfP3nj0Riy0",
        "outputId": "a08dfc4f-56d1-4c80-fbf9-1df46d434e46"
      },
      "execution_count": 39,
      "outputs": [
        {
          "output_type": "stream",
          "name": "stdout",
          "text": [
            "[1] \"At least one of the conditions is true\"\n"
          ]
        }
      ]
    },
    {
      "cell_type": "markdown",
      "source": [
        "R has two loop commands:\n",
        "\n",
        "1. while loops - uncounable loop \n",
        "2. for loops -  countable loop "
      ],
      "metadata": {
        "id": "Y56pRlYnRqnI"
      }
    },
    {
      "cell_type": "code",
      "source": [
        "i <- 1\n",
        "while (i < 6) {\n",
        "  print(i)\n",
        "  i <- i + 1\n",
        "}\n",
        "# Note: remember to increment i, or else the loop will continue forever."
      ],
      "metadata": {
        "colab": {
          "base_uri": "https://localhost:8080/"
        },
        "id": "6DJLq27gR4Y0",
        "outputId": "02303cfd-9859-4c06-ecc2-75915052fa8a"
      },
      "execution_count": 40,
      "outputs": [
        {
          "output_type": "stream",
          "name": "stdout",
          "text": [
            "[1] 1\n",
            "[1] 2\n",
            "[1] 3\n",
            "[1] 4\n",
            "[1] 5\n"
          ]
        }
      ]
    },
    {
      "cell_type": "code",
      "source": [
        "# With the break statement, we can stop the loop even if the while condition is TRUE:\n",
        "i <- 1\n",
        "while (i < 6) {\n",
        "  print(i)\n",
        "  i <- i + 1\n",
        "  if (i == 4) {\n",
        "    break\n",
        "  }\n",
        "}\n"
      ],
      "metadata": {
        "colab": {
          "base_uri": "https://localhost:8080/"
        },
        "id": "_mXUVPrER8aL",
        "outputId": "b893ad52-2c64-46b1-d7b6-72dfb5836899"
      },
      "execution_count": 41,
      "outputs": [
        {
          "output_type": "stream",
          "name": "stdout",
          "text": [
            "[1] 1\n",
            "[1] 2\n",
            "[1] 3\n"
          ]
        }
      ]
    },
    {
      "cell_type": "code",
      "source": [
        "# With the next statement, we can skip an iteration without terminating the loop:\n",
        "# it is similar ot continue in python\n",
        "i <- 0\n",
        "while (i < 6) {\n",
        "  i <- i + 1\n",
        "  if (i == 3) {\n",
        "    next\n",
        "  }\n",
        "  print(i)\n",
        "}"
      ],
      "metadata": {
        "colab": {
          "base_uri": "https://localhost:8080/"
        },
        "id": "_-l6NsZ7SZ2g",
        "outputId": "93187253-80f2-4381-ecc1-f7c88fbc908e"
      },
      "execution_count": 42,
      "outputs": [
        {
          "output_type": "stream",
          "name": "stdout",
          "text": [
            "[1] 1\n",
            "[1] 2\n",
            "[1] 4\n",
            "[1] 5\n",
            "[1] 6\n"
          ]
        }
      ]
    },
    {
      "cell_type": "markdown",
      "source": [
        "Yahtzee!\n",
        "1. If .. Else Combined with a While Loop\n",
        "To demonstrate a practical example, let us say we play a game of Yahtzee!"
      ],
      "metadata": {
        "id": "ReWCQa3kTAFY"
      }
    },
    {
      "cell_type": "code",
      "source": [
        "dice <- 1\n",
        "while (dice <= 6) {\n",
        "  if (dice < 6) {\n",
        "    print(\"No Yahtzee\")\n",
        "  } else {\n",
        "    print(\"Yahtzee!\")\n",
        "  }\n",
        "  dice <- dice + 1\n",
        "}"
      ],
      "metadata": {
        "colab": {
          "base_uri": "https://localhost:8080/"
        },
        "id": "wJLrrc2CSl3A",
        "outputId": "f2baf1e6-12c2-4d51-ca8d-78293af3495d"
      },
      "execution_count": 43,
      "outputs": [
        {
          "output_type": "stream",
          "name": "stdout",
          "text": [
            "[1] \"No Yahtzee\"\n",
            "[1] \"No Yahtzee\"\n",
            "[1] \"No Yahtzee\"\n",
            "[1] \"No Yahtzee\"\n",
            "[1] \"No Yahtzee\"\n",
            "[1] \"Yahtzee!\"\n"
          ]
        }
      ]
    },
    {
      "cell_type": "code",
      "source": [
        "# A for loop is used for iterating over a sequence:\n",
        "for (x in 1:10) {\n",
        "  print(x)\n",
        "}"
      ],
      "metadata": {
        "colab": {
          "base_uri": "https://localhost:8080/"
        },
        "id": "USZpIlMQTMNu",
        "outputId": "d0b718fa-7355-403e-8ad5-cfe8eac8c357"
      },
      "execution_count": 44,
      "outputs": [
        {
          "output_type": "stream",
          "name": "stdout",
          "text": [
            "[1] 1\n",
            "[1] 2\n",
            "[1] 3\n",
            "[1] 4\n",
            "[1] 5\n",
            "[1] 6\n",
            "[1] 7\n",
            "[1] 8\n",
            "[1] 9\n",
            "[1] 10\n"
          ]
        }
      ]
    },
    {
      "cell_type": "code",
      "source": [
        "fruits <- list(\"apple\", \"banana\", \"cherry\")\n",
        "fruits\n",
        "# print(fruits)\n",
        "for (x in fruits) {\n",
        "  print(x)\n",
        "}"
      ],
      "metadata": {
        "colab": {
          "base_uri": "https://localhost:8080/",
          "height": 152
        },
        "id": "TF57glZCTa9p",
        "outputId": "ce5b5f44-2e2e-4d89-8574-51de4326a1a9"
      },
      "execution_count": 47,
      "outputs": [
        {
          "output_type": "display_data",
          "data": {
            "text/plain": [
              "[[1]]\n",
              "[1] \"apple\"\n",
              "\n",
              "[[2]]\n",
              "[1] \"banana\"\n",
              "\n",
              "[[3]]\n",
              "[1] \"cherry\"\n"
            ],
            "text/latex": "\\begin{enumerate}\n\\item 'apple'\n\\item 'banana'\n\\item 'cherry'\n\\end{enumerate}\n",
            "text/markdown": "1. 'apple'\n2. 'banana'\n3. 'cherry'\n\n\n",
            "text/html": [
              "<ol>\n",
              "\t<li>'apple'</li>\n",
              "\t<li>'banana'</li>\n",
              "\t<li>'cherry'</li>\n",
              "</ol>\n"
            ]
          },
          "metadata": {}
        },
        {
          "output_type": "stream",
          "name": "stdout",
          "text": [
            "[1] \"apple\"\n",
            "[1] \"banana\"\n",
            "[1] \"cherry\"\n"
          ]
        }
      ]
    },
    {
      "cell_type": "code",
      "source": [
        "dice <- c(1, 2, 3, 4, 5, 6)\n",
        "\n",
        "for (x in dice) {\n",
        "  print(x)\n",
        "}"
      ],
      "metadata": {
        "colab": {
          "base_uri": "https://localhost:8080/"
        },
        "id": "cGD44e1ATsXD",
        "outputId": "2511ed01-d421-48ec-f665-5122f87aea9b"
      },
      "execution_count": 48,
      "outputs": [
        {
          "output_type": "stream",
          "name": "stdout",
          "text": [
            "[1] 1\n",
            "[1] 2\n",
            "[1] 3\n",
            "[1] 4\n",
            "[1] 5\n",
            "[1] 6\n"
          ]
        }
      ]
    },
    {
      "cell_type": "code",
      "source": [
        "# The for loop does not require an indexing variable to set beforehand, like with while loops.\n",
        "# With the break statement, we can stop the loop before it has looped through all the items:\n",
        "fruits <- list(\"apple\", \"banana\", \"cherry\")\n",
        "\n",
        "for (x in fruits) {\n",
        "  if (x == \"cherry\") {\n",
        "    break\n",
        "  }\n",
        "  print(x)\n",
        "}"
      ],
      "metadata": {
        "colab": {
          "base_uri": "https://localhost:8080/"
        },
        "id": "SqFkYpDGUE2X",
        "outputId": "6e88a33a-9a32-45b9-a692-18d70bdd6422"
      },
      "execution_count": 1,
      "outputs": [
        {
          "output_type": "stream",
          "name": "stdout",
          "text": [
            "[1] \"apple\"\n",
            "[1] \"banana\"\n"
          ]
        }
      ]
    },
    {
      "cell_type": "code",
      "source": [
        "# With the next statement, we can skip an iteration without terminating the loop:\n",
        "fruits <- list(\"apple\", \"banana\", \"cherry\")\n",
        "\n",
        "for (x in fruits) {\n",
        "  if (x == \"banana\") {\n",
        "    next\n",
        "  }\n",
        "  print(x)\n",
        "}"
      ],
      "metadata": {
        "colab": {
          "base_uri": "https://localhost:8080/"
        },
        "id": "zc3VDX1JDB6o",
        "outputId": "8aed054f-e5cf-4be9-d335-57911e45e543"
      },
      "execution_count": 2,
      "outputs": [
        {
          "output_type": "stream",
          "name": "stdout",
          "text": [
            "[1] \"apple\"\n",
            "[1] \"cherry\"\n"
          ]
        }
      ]
    },
    {
      "cell_type": "code",
      "source": [
        "dice <- 1:6\n",
        "\n",
        "for(x in dice) {\n",
        "  if (x == 6) {\n",
        "    print(paste(\"The dice number is\", x, \"Yahtzee!\"))\n",
        "  } else {\n",
        "    print(paste(\"The dice number is\", x, \"Not Yahtzee\"))\n",
        "  }\n",
        "}\n"
      ],
      "metadata": {
        "colab": {
          "base_uri": "https://localhost:8080/"
        },
        "id": "RZEPU_ibDJz1",
        "outputId": "fda2c31b-6f13-4c6c-8e47-56d19129971b"
      },
      "execution_count": 3,
      "outputs": [
        {
          "output_type": "stream",
          "name": "stdout",
          "text": [
            "[1] \"The dice number is 1 Not Yahtzee\"\n",
            "[1] \"The dice number is 2 Not Yahtzee\"\n",
            "[1] \"The dice number is 3 Not Yahtzee\"\n",
            "[1] \"The dice number is 4 Not Yahtzee\"\n",
            "[1] \"The dice number is 5 Not Yahtzee\"\n",
            "[1] \"The dice number is 6 Yahtzee!\"\n"
          ]
        }
      ]
    },
    {
      "cell_type": "code",
      "source": [
        "1:6.9\n",
        "1:9\n",
        "1:2:3"
      ],
      "metadata": {
        "colab": {
          "base_uri": "https://localhost:8080/",
          "height": 106
        },
        "id": "a_ExXKFJDRjB",
        "outputId": "97bff5b2-f277-4859-bd52-73c5842a66be"
      },
      "execution_count": 8,
      "outputs": [
        {
          "output_type": "display_data",
          "data": {
            "text/plain": [
              "[1] 1 2 3 4 5 6"
            ],
            "text/latex": "\\begin{enumerate*}\n\\item 1\n\\item 2\n\\item 3\n\\item 4\n\\item 5\n\\item 6\n\\end{enumerate*}\n",
            "text/markdown": "1. 1\n2. 2\n3. 3\n4. 4\n5. 5\n6. 6\n\n\n",
            "text/html": [
              "<style>\n",
              ".list-inline {list-style: none; margin:0; padding: 0}\n",
              ".list-inline>li {display: inline-block}\n",
              ".list-inline>li:not(:last-child)::after {content: \"\\00b7\"; padding: 0 .5ex}\n",
              "</style>\n",
              "<ol class=list-inline><li>1</li><li>2</li><li>3</li><li>4</li><li>5</li><li>6</li></ol>\n"
            ]
          },
          "metadata": {}
        },
        {
          "output_type": "display_data",
          "data": {
            "text/plain": [
              "[1] 1 2 3 4 5 6 7 8 9"
            ],
            "text/latex": "\\begin{enumerate*}\n\\item 1\n\\item 2\n\\item 3\n\\item 4\n\\item 5\n\\item 6\n\\item 7\n\\item 8\n\\item 9\n\\end{enumerate*}\n",
            "text/markdown": "1. 1\n2. 2\n3. 3\n4. 4\n5. 5\n6. 6\n7. 7\n8. 8\n9. 9\n\n\n",
            "text/html": [
              "<style>\n",
              ".list-inline {list-style: none; margin:0; padding: 0}\n",
              ".list-inline>li {display: inline-block}\n",
              ".list-inline>li:not(:last-child)::after {content: \"\\00b7\"; padding: 0 .5ex}\n",
              "</style>\n",
              "<ol class=list-inline><li>1</li><li>2</li><li>3</li><li>4</li><li>5</li><li>6</li><li>7</li><li>8</li><li>9</li></ol>\n"
            ]
          },
          "metadata": {}
        },
        {
          "output_type": "stream",
          "name": "stderr",
          "text": [
            "Warning message in 1:2:3:\n",
            "“numerical expression has 2 elements: only the first used”\n"
          ]
        },
        {
          "output_type": "display_data",
          "data": {
            "text/plain": [
              "[1] 1 2 3"
            ],
            "text/latex": "\\begin{enumerate*}\n\\item 1\n\\item 2\n\\item 3\n\\end{enumerate*}\n",
            "text/markdown": "1. 1\n2. 2\n3. 3\n\n\n",
            "text/html": [
              "<style>\n",
              ".list-inline {list-style: none; margin:0; padding: 0}\n",
              ".list-inline>li {display: inline-block}\n",
              ".list-inline>li:not(:last-child)::after {content: \"\\00b7\"; padding: 0 .5ex}\n",
              "</style>\n",
              "<ol class=list-inline><li>1</li><li>2</li><li>3</li></ol>\n"
            ]
          },
          "metadata": {}
        }
      ]
    },
    {
      "cell_type": "code",
      "source": [
        "# Nested Loops\n",
        "# You can also have a loop inside of a loop:\n",
        "adj <- list(\"red\", \"big\", \"tasty\")\n",
        "\n",
        "fruits <- list(\"apple\", \"banana\", \"cherry\")\n",
        "  for (x in adj) {\n",
        "    for (y in fruits) {\n",
        "      print(paste(x, y))\n",
        "  }\n",
        "}"
      ],
      "metadata": {
        "colab": {
          "base_uri": "https://localhost:8080/"
        },
        "id": "drQ05HIoDOFu",
        "outputId": "d212641e-c3b4-45c1-def9-8dc68bb8fdcb"
      },
      "execution_count": 9,
      "outputs": [
        {
          "output_type": "stream",
          "name": "stdout",
          "text": [
            "[1] \"red apple\"\n",
            "[1] \"red banana\"\n",
            "[1] \"red cherry\"\n",
            "[1] \"big apple\"\n",
            "[1] \"big banana\"\n",
            "[1] \"big cherry\"\n",
            "[1] \"tasty apple\"\n",
            "[1] \"tasty banana\"\n",
            "[1] \"tasty cherry\"\n"
          ]
        }
      ]
    },
    {
      "cell_type": "markdown",
      "source": [
        "A function is a block of code which only runs when it is called.\n",
        "\n",
        "You can pass data, known as parameters, into a function.\n",
        "\n",
        "A function can return data as a result."
      ],
      "metadata": {
        "id": "__OTUIVeD0VO"
      }
    },
    {
      "cell_type": "code",
      "source": [
        "# To create a function, use the function() keyword:\n",
        "my_function <- function() { # create a function with the name my_function\n",
        "  print(\"Hello World!\")\n",
        "}"
      ],
      "metadata": {
        "id": "hdn915yQD2ay"
      },
      "execution_count": 10,
      "outputs": []
    },
    {
      "cell_type": "code",
      "source": [
        "# Call a Function\n",
        "# To call a function, use the function name followed by parenthesis, like my_function():\n",
        "my_function <- function() {\n",
        "  print(\"Hello World!\")\n",
        "}\n",
        "\n",
        "my_function() # call the function named my_function"
      ],
      "metadata": {
        "colab": {
          "base_uri": "https://localhost:8080/"
        },
        "id": "PslOO7pID9EG",
        "outputId": "b6b238d5-c559-4689-b13e-5c6a38adf3ec"
      },
      "execution_count": 11,
      "outputs": [
        {
          "output_type": "stream",
          "name": "stdout",
          "text": [
            "[1] \"Hello World!\"\n"
          ]
        }
      ]
    },
    {
      "cell_type": "code",
      "source": [
        "my_function <- function(fname) {\n",
        "  paste(fname, \"Griffin\")\n",
        "}\n",
        "\n",
        "my_function(\"Peter\")\n",
        "my_function(\"Lois\")\n",
        "my_function(\"Stewie\")"
      ],
      "metadata": {
        "colab": {
          "base_uri": "https://localhost:8080/",
          "height": 69
        },
        "id": "uaaWw9ixEIry",
        "outputId": "7d4149c6-636f-4435-a113-68bfdfb45756"
      },
      "execution_count": 12,
      "outputs": [
        {
          "output_type": "display_data",
          "data": {
            "text/plain": [
              "[1] \"Peter Griffin\""
            ],
            "text/latex": "'Peter Griffin'",
            "text/markdown": "'Peter Griffin'",
            "text/html": [
              "'Peter Griffin'"
            ]
          },
          "metadata": {}
        },
        {
          "output_type": "display_data",
          "data": {
            "text/plain": [
              "[1] \"Lois Griffin\""
            ],
            "text/latex": "'Lois Griffin'",
            "text/markdown": "'Lois Griffin'",
            "text/html": [
              "'Lois Griffin'"
            ]
          },
          "metadata": {}
        },
        {
          "output_type": "display_data",
          "data": {
            "text/plain": [
              "[1] \"Stewie Griffin\""
            ],
            "text/latex": "'Stewie Griffin'",
            "text/markdown": "'Stewie Griffin'",
            "text/html": [
              "'Stewie Griffin'"
            ]
          },
          "metadata": {}
        }
      ]
    },
    {
      "cell_type": "markdown",
      "source": [
        "Number of Arguments\n",
        "By default, a function must be called with the correct number of arguments. Meaning that if your function expects 2 arguments, you have to call the function with 2 arguments, not more, and not less:"
      ],
      "metadata": {
        "id": "8otgc3r0ENR2"
      }
    },
    {
      "cell_type": "code",
      "source": [
        "my_function <- function(fname, lname) {\n",
        "  paste(fname, lname)\n",
        "}\n",
        "\n",
        "my_function(\"Peter\", \"Griffin\")"
      ],
      "metadata": {
        "colab": {
          "base_uri": "https://localhost:8080/",
          "height": 35
        },
        "id": "51Qq_eLwEabF",
        "outputId": "bb28cdca-565c-43b6-8362-0eda9115c4b7"
      },
      "execution_count": 13,
      "outputs": [
        {
          "output_type": "display_data",
          "data": {
            "text/plain": [
              "[1] \"Peter Griffin\""
            ],
            "text/latex": "'Peter Griffin'",
            "text/markdown": "'Peter Griffin'",
            "text/html": [
              "'Peter Griffin'"
            ]
          },
          "metadata": {}
        }
      ]
    },
    {
      "cell_type": "code",
      "source": [
        "my_function <- function(fname, lname) {\n",
        "  paste(fname, lname)\n",
        "}\n",
        "\n",
        "my_function(\"Peter\")"
      ],
      "metadata": {
        "colab": {
          "base_uri": "https://localhost:8080/",
          "height": 153
        },
        "id": "8m-KIJPqEe_e",
        "outputId": "b3d5f650-ab4e-4c8e-c339-c903b4ee62ae"
      },
      "execution_count": 14,
      "outputs": [
        {
          "output_type": "error",
          "ename": "ERROR",
          "evalue": "ignored",
          "traceback": [
            "Error in paste(fname, lname): argument \"lname\" is missing, with no default\nTraceback:\n",
            "1. my_function(\"Peter\")",
            "2. paste(fname, lname)   # at line 2 of file <text>"
          ]
        }
      ]
    },
    {
      "cell_type": "code",
      "source": [
        "my_function <- function(country = \"Norway\") {\n",
        "  paste(\"I am from\", country)\n",
        "}\n",
        "\n",
        "my_function(\"Sweden\")\n",
        "my_function(\"India\")\n",
        "my_function() # will get the default value, which is Norway\n",
        "my_function(\"USA\")"
      ],
      "metadata": {
        "colab": {
          "base_uri": "https://localhost:8080/",
          "height": 86
        },
        "id": "dSI54fNEEjq7",
        "outputId": "e9ffeda2-a7c9-408b-8c99-2b1ee4ef20ea"
      },
      "execution_count": 15,
      "outputs": [
        {
          "output_type": "display_data",
          "data": {
            "text/plain": [
              "[1] \"I am from Sweden\""
            ],
            "text/latex": "'I am from Sweden'",
            "text/markdown": "'I am from Sweden'",
            "text/html": [
              "'I am from Sweden'"
            ]
          },
          "metadata": {}
        },
        {
          "output_type": "display_data",
          "data": {
            "text/plain": [
              "[1] \"I am from India\""
            ],
            "text/latex": "'I am from India'",
            "text/markdown": "'I am from India'",
            "text/html": [
              "'I am from India'"
            ]
          },
          "metadata": {}
        },
        {
          "output_type": "display_data",
          "data": {
            "text/plain": [
              "[1] \"I am from Norway\""
            ],
            "text/latex": "'I am from Norway'",
            "text/markdown": "'I am from Norway'",
            "text/html": [
              "'I am from Norway'"
            ]
          },
          "metadata": {}
        },
        {
          "output_type": "display_data",
          "data": {
            "text/plain": [
              "[1] \"I am from USA\""
            ],
            "text/latex": "'I am from USA'",
            "text/markdown": "'I am from USA'",
            "text/html": [
              "'I am from USA'"
            ]
          },
          "metadata": {}
        }
      ]
    },
    {
      "cell_type": "code",
      "source": [
        "# To let a function return a result, use the return() function:\n",
        "my_function <- function(x) {\n",
        "  return (5 * x)\n",
        "}\n",
        "\n",
        "print(my_function(3))\n",
        "print(my_function(5))\n",
        "print(my_function(9))"
      ],
      "metadata": {
        "colab": {
          "base_uri": "https://localhost:8080/"
        },
        "id": "i77pyqRVEm_S",
        "outputId": "2e7f840f-fe5d-4897-fa51-11d6d6cfc9fb"
      },
      "execution_count": 16,
      "outputs": [
        {
          "output_type": "stream",
          "name": "stdout",
          "text": [
            "[1] 15\n",
            "[1] 25\n",
            "[1] 45\n"
          ]
        }
      ]
    },
    {
      "cell_type": "code",
      "source": [
        "Nested_function <- function(x, y) {\n",
        "  a <- x + y\n",
        "  return(a)\n",
        "}\n",
        "\n",
        "Nested_function(Nested_function(2,2), Nested_function(3,3))"
      ],
      "metadata": {
        "colab": {
          "base_uri": "https://localhost:8080/",
          "height": 35
        },
        "id": "UjraMfvzEs6D",
        "outputId": "797daea1-c454-4b60-ae00-df307284bbff"
      },
      "execution_count": 17,
      "outputs": [
        {
          "output_type": "display_data",
          "data": {
            "text/plain": [
              "[1] 10"
            ],
            "text/latex": "10",
            "text/markdown": "10",
            "text/html": [
              "10"
            ]
          },
          "metadata": {}
        }
      ]
    },
    {
      "cell_type": "code",
      "source": [
        "Outer_func <- function(x) {\n",
        "  print(\"naveen\")\n",
        "  Inner_func <- function(y) {\n",
        "    print(\"dsn\")\n",
        "    a <- x + y\n",
        "    return(a)\n",
        "  }\n",
        "  return (Inner_func)\n",
        "}\n",
        "output <- Outer_func(3) # To call the Outer_func\n",
        "output(5)"
      ],
      "metadata": {
        "colab": {
          "base_uri": "https://localhost:8080/"
        },
        "id": "8CaKRbydEwmP",
        "outputId": "7b1a9870-f138-48fc-a076-0bd4a223d6fe"
      },
      "execution_count": 21,
      "outputs": [
        {
          "output_type": "stream",
          "name": "stdout",
          "text": [
            "[1] \"naveen\"\n"
          ]
        }
      ]
    },
    {
      "cell_type": "code",
      "source": [
        "tri_recursion <- function(k) {\n",
        "  if (k > 0) {\n",
        "    print(k)\n",
        "    result <- k + tri_recursion(k - 1)\n",
        "    print(result)\n",
        "  } else {\n",
        "    result = 0\n",
        "    return(result)\n",
        "  }\n",
        "}\n",
        "tri_recursion(5)"
      ],
      "metadata": {
        "colab": {
          "base_uri": "https://localhost:8080/"
        },
        "id": "8djQdkNmE1C_",
        "outputId": "e0624a6d-7c16-48e4-d2b6-6cad19cff890"
      },
      "execution_count": 26,
      "outputs": [
        {
          "output_type": "stream",
          "name": "stdout",
          "text": [
            "[1] 5\n",
            "[1] 4\n",
            "[1] 3\n",
            "[1] 2\n",
            "[1] 1\n",
            "[1] 1\n",
            "[1] 3\n",
            "[1] 6\n",
            "[1] 10\n",
            "[1] 15\n"
          ]
        }
      ]
    },
    {
      "cell_type": "code",
      "source": [
        "txt <- \"awesome\"\n",
        "my_function <- function() {\n",
        "  paste(\"R is\", txt)\n",
        "}\n",
        "\n",
        "my_function()"
      ],
      "metadata": {
        "colab": {
          "base_uri": "https://localhost:8080/",
          "height": 35
        },
        "id": "7_4mB0D-Go7X",
        "outputId": "5207b7d4-f34c-4239-a30c-4edac6a40417"
      },
      "execution_count": 27,
      "outputs": [
        {
          "output_type": "display_data",
          "data": {
            "text/plain": [
              "[1] \"R is awesome\""
            ],
            "text/latex": "'R is awesome'",
            "text/markdown": "'R is awesome'",
            "text/html": [
              "'R is awesome'"
            ]
          },
          "metadata": {}
        }
      ]
    },
    {
      "cell_type": "code",
      "source": [
        "txt <- \"global variable\"\n",
        "my_function <- function() {\n",
        "  txt = \"fantastic\"\n",
        "  paste(\"R is\", txt)\n",
        "}\n",
        "\n",
        "my_function()\n",
        "\n",
        "txt # print txt"
      ],
      "metadata": {
        "colab": {
          "base_uri": "https://localhost:8080/",
          "height": 52
        },
        "id": "q64DqNnJHB7j",
        "outputId": "efebf4fa-2af6-4c5c-bb13-54f04756c802"
      },
      "execution_count": 28,
      "outputs": [
        {
          "output_type": "display_data",
          "data": {
            "text/plain": [
              "[1] \"R is fantastic\""
            ],
            "text/latex": "'R is fantastic'",
            "text/markdown": "'R is fantastic'",
            "text/html": [
              "'R is fantastic'"
            ]
          },
          "metadata": {}
        },
        {
          "output_type": "display_data",
          "data": {
            "text/plain": [
              "[1] \"global variable\""
            ],
            "text/latex": "'global variable'",
            "text/markdown": "'global variable'",
            "text/html": [
              "'global variable'"
            ]
          },
          "metadata": {}
        }
      ]
    },
    {
      "cell_type": "code",
      "source": [
        "# If you use the assignment operator <<-, the variable belongs to the global scope:\n",
        "my_function <- function() {\n",
        "txt <<- \"fantastic\"\n",
        "  paste(\"R is\", txt)\n",
        "}\n",
        "\n",
        "my_function()\n",
        "\n",
        "print(txt)"
      ],
      "metadata": {
        "colab": {
          "base_uri": "https://localhost:8080/",
          "height": 52
        },
        "id": "MrAVykM0Ht4d",
        "outputId": "e0f62cae-cf87-4cb7-92bc-36e040ac4085"
      },
      "execution_count": 29,
      "outputs": [
        {
          "output_type": "display_data",
          "data": {
            "text/plain": [
              "[1] \"R is fantastic\""
            ],
            "text/latex": "'R is fantastic'",
            "text/markdown": "'R is fantastic'",
            "text/html": [
              "'R is fantastic'"
            ]
          },
          "metadata": {}
        },
        {
          "output_type": "stream",
          "name": "stdout",
          "text": [
            "[1] \"fantastic\"\n"
          ]
        }
      ]
    },
    {
      "cell_type": "markdown",
      "source": [
        "1. To change the value of a global variable inside a function, refer to the variable by using the global assignment operator <<-:"
      ],
      "metadata": {
        "id": "VXJ_spabIEl2"
      }
    },
    {
      "cell_type": "code",
      "source": [
        "txt <- \"awesome\"\n",
        "my_function <- function() {\n",
        "  txt <<- \"fantastic\"\n",
        "  paste(\"R is\", txt)\n",
        "}\n",
        "\n",
        "my_function()\n",
        "\n",
        "paste(\"R is\", txt)"
      ],
      "metadata": {
        "colab": {
          "base_uri": "https://localhost:8080/",
          "height": 52
        },
        "id": "HCSHXralITab",
        "outputId": "e7b86388-3a9a-40f3-b107-ff695278a3b0"
      },
      "execution_count": 30,
      "outputs": [
        {
          "output_type": "display_data",
          "data": {
            "text/plain": [
              "[1] \"R is fantastic\""
            ],
            "text/latex": "'R is fantastic'",
            "text/markdown": "'R is fantastic'",
            "text/html": [
              "'R is fantastic'"
            ]
          },
          "metadata": {}
        },
        {
          "output_type": "display_data",
          "data": {
            "text/plain": [
              "[1] \"R is fantastic\""
            ],
            "text/latex": "'R is fantastic'",
            "text/markdown": "'R is fantastic'",
            "text/html": [
              "'R is fantastic'"
            ]
          },
          "metadata": {}
        }
      ]
    },
    {
      "cell_type": "markdown",
      "source": [
        "# R vectors"
      ],
      "metadata": {
        "id": "fE9YYneBIari"
      }
    },
    {
      "cell_type": "markdown",
      "source": [
        "A vector is simply a list of items that are of the same type.\n",
        "\n",
        "To combine the list of items to a vector, use the c() function and separate the items by a comma.\n",
        "\n",
        "In the example below, we create a vector variable called fruits, that combine strings:"
      ],
      "metadata": {
        "id": "tp97ShYvIjyP"
      }
    },
    {
      "cell_type": "code",
      "source": [
        "# Vector of strings\n",
        "fruits <- c(\"banana\", \"apple\", \"orange\")\n",
        "\n",
        "# Print fruits\n",
        "fruits"
      ],
      "metadata": {
        "colab": {
          "base_uri": "https://localhost:8080/",
          "height": 35
        },
        "id": "e1VRQPopIyr7",
        "outputId": "ba18771c-fbe9-4a0f-cfc2-8a4425552413"
      },
      "execution_count": 32,
      "outputs": [
        {
          "output_type": "display_data",
          "data": {
            "text/plain": [
              "[1] \"banana\" \"apple\"  \"orange\""
            ],
            "text/latex": "\\begin{enumerate*}\n\\item 'banana'\n\\item 'apple'\n\\item 'orange'\n\\end{enumerate*}\n",
            "text/markdown": "1. 'banana'\n2. 'apple'\n3. 'orange'\n\n\n",
            "text/html": [
              "<style>\n",
              ".list-inline {list-style: none; margin:0; padding: 0}\n",
              ".list-inline>li {display: inline-block}\n",
              ".list-inline>li:not(:last-child)::after {content: \"\\00b7\"; padding: 0 .5ex}\n",
              "</style>\n",
              "<ol class=list-inline><li>'banana'</li><li>'apple'</li><li>'orange'</li></ol>\n"
            ]
          },
          "metadata": {}
        }
      ]
    },
    {
      "cell_type": "code",
      "source": [
        "# Vector of numerical values\n",
        "numbers <- c(1, 2, 3)\n",
        "\n",
        "# Print numbers\n",
        "numbers"
      ],
      "metadata": {
        "colab": {
          "base_uri": "https://localhost:8080/",
          "height": 35
        },
        "id": "o50yHxh-I2VP",
        "outputId": "9e710266-f113-4010-a496-d776bbf04913"
      },
      "execution_count": 33,
      "outputs": [
        {
          "output_type": "display_data",
          "data": {
            "text/plain": [
              "[1] 1 2 3"
            ],
            "text/latex": "\\begin{enumerate*}\n\\item 1\n\\item 2\n\\item 3\n\\end{enumerate*}\n",
            "text/markdown": "1. 1\n2. 2\n3. 3\n\n\n",
            "text/html": [
              "<style>\n",
              ".list-inline {list-style: none; margin:0; padding: 0}\n",
              ".list-inline>li {display: inline-block}\n",
              ".list-inline>li:not(:last-child)::after {content: \"\\00b7\"; padding: 0 .5ex}\n",
              "</style>\n",
              "<ol class=list-inline><li>1</li><li>2</li><li>3</li></ol>\n"
            ]
          },
          "metadata": {}
        }
      ]
    },
    {
      "cell_type": "code",
      "source": [
        "# To create a vector with numerical values in a sequence, use the : operator:\n",
        "numbers <- 1:10\n",
        "\n",
        "numbers"
      ],
      "metadata": {
        "colab": {
          "base_uri": "https://localhost:8080/",
          "height": 35
        },
        "id": "-G9LqyKWI8ir",
        "outputId": "63cc1599-14f6-49ab-d478-578cc8d51638"
      },
      "execution_count": 34,
      "outputs": [
        {
          "output_type": "display_data",
          "data": {
            "text/plain": [
              " [1]  1  2  3  4  5  6  7  8  9 10"
            ],
            "text/latex": "\\begin{enumerate*}\n\\item 1\n\\item 2\n\\item 3\n\\item 4\n\\item 5\n\\item 6\n\\item 7\n\\item 8\n\\item 9\n\\item 10\n\\end{enumerate*}\n",
            "text/markdown": "1. 1\n2. 2\n3. 3\n4. 4\n5. 5\n6. 6\n7. 7\n8. 8\n9. 9\n10. 10\n\n\n",
            "text/html": [
              "<style>\n",
              ".list-inline {list-style: none; margin:0; padding: 0}\n",
              ".list-inline>li {display: inline-block}\n",
              ".list-inline>li:not(:last-child)::after {content: \"\\00b7\"; padding: 0 .5ex}\n",
              "</style>\n",
              "<ol class=list-inline><li>1</li><li>2</li><li>3</li><li>4</li><li>5</li><li>6</li><li>7</li><li>8</li><li>9</li><li>10</li></ol>\n"
            ]
          },
          "metadata": {}
        }
      ]
    },
    {
      "cell_type": "markdown",
      "source": [
        "You can also create numerical values with decimals in a sequence, but note that if the last element does not belong to the sequence, it is not used:"
      ],
      "metadata": {
        "id": "B6QrD0n4JNRo"
      }
    },
    {
      "cell_type": "code",
      "source": [
        "# Vector with numerical decimals in a sequence\n",
        "numbers1 <- 1.5:6.5\n",
        "numbers1\n",
        "\n",
        "# Vector with numerical decimals in a sequence where the last element is not used\n",
        "numbers2 <- 1.5:6.3\n",
        "numbers2"
      ],
      "metadata": {
        "colab": {
          "base_uri": "https://localhost:8080/",
          "height": 52
        },
        "id": "s3YI0noQJbnz",
        "outputId": "8d0d4e5f-166e-480a-e583-bb082a60fb0d"
      },
      "execution_count": 35,
      "outputs": [
        {
          "output_type": "display_data",
          "data": {
            "text/plain": [
              "[1] 1.5 2.5 3.5 4.5 5.5 6.5"
            ],
            "text/latex": "\\begin{enumerate*}\n\\item 1.5\n\\item 2.5\n\\item 3.5\n\\item 4.5\n\\item 5.5\n\\item 6.5\n\\end{enumerate*}\n",
            "text/markdown": "1. 1.5\n2. 2.5\n3. 3.5\n4. 4.5\n5. 5.5\n6. 6.5\n\n\n",
            "text/html": [
              "<style>\n",
              ".list-inline {list-style: none; margin:0; padding: 0}\n",
              ".list-inline>li {display: inline-block}\n",
              ".list-inline>li:not(:last-child)::after {content: \"\\00b7\"; padding: 0 .5ex}\n",
              "</style>\n",
              "<ol class=list-inline><li>1.5</li><li>2.5</li><li>3.5</li><li>4.5</li><li>5.5</li><li>6.5</li></ol>\n"
            ]
          },
          "metadata": {}
        },
        {
          "output_type": "display_data",
          "data": {
            "text/plain": [
              "[1] 1.5 2.5 3.5 4.5 5.5"
            ],
            "text/latex": "\\begin{enumerate*}\n\\item 1.5\n\\item 2.5\n\\item 3.5\n\\item 4.5\n\\item 5.5\n\\end{enumerate*}\n",
            "text/markdown": "1. 1.5\n2. 2.5\n3. 3.5\n4. 4.5\n5. 5.5\n\n\n",
            "text/html": [
              "<style>\n",
              ".list-inline {list-style: none; margin:0; padding: 0}\n",
              ".list-inline>li {display: inline-block}\n",
              ".list-inline>li:not(:last-child)::after {content: \"\\00b7\"; padding: 0 .5ex}\n",
              "</style>\n",
              "<ol class=list-inline><li>1.5</li><li>2.5</li><li>3.5</li><li>4.5</li><li>5.5</li></ol>\n"
            ]
          },
          "metadata": {}
        }
      ]
    },
    {
      "cell_type": "code",
      "source": [
        "# we create a vector of logical values:\n",
        "# Vector of logical values\n",
        "log_values <- c(TRUE, FALSE, TRUE, FALSE)\n",
        "\n",
        "log_values"
      ],
      "metadata": {
        "colab": {
          "base_uri": "https://localhost:8080/",
          "height": 35
        },
        "id": "8zAf1oszJd4B",
        "outputId": "1b9c1b37-f7aa-4d83-8533-a854ed0ebd6b"
      },
      "execution_count": 36,
      "outputs": [
        {
          "output_type": "display_data",
          "data": {
            "text/plain": [
              "[1]  TRUE FALSE  TRUE FALSE"
            ],
            "text/latex": "\\begin{enumerate*}\n\\item TRUE\n\\item FALSE\n\\item TRUE\n\\item FALSE\n\\end{enumerate*}\n",
            "text/markdown": "1. TRUE\n2. FALSE\n3. TRUE\n4. FALSE\n\n\n",
            "text/html": [
              "<style>\n",
              ".list-inline {list-style: none; margin:0; padding: 0}\n",
              ".list-inline>li {display: inline-block}\n",
              ".list-inline>li:not(:last-child)::after {content: \"\\00b7\"; padding: 0 .5ex}\n",
              "</style>\n",
              "<ol class=list-inline><li>TRUE</li><li>FALSE</li><li>TRUE</li><li>FALSE</li></ol>\n"
            ]
          },
          "metadata": {}
        }
      ]
    },
    {
      "cell_type": "code",
      "source": [
        "# length()-to find out how many vetor has\n",
        "fruits <- c(\"banana\", \"apple\", \"orange\")\n",
        "\n",
        "length(fruits)"
      ],
      "metadata": {
        "colab": {
          "base_uri": "https://localhost:8080/",
          "height": 35
        },
        "id": "fk7iU9ZAJlvV",
        "outputId": "24bb7ed0-457c-49df-fcd5-53e88afef966"
      },
      "execution_count": 37,
      "outputs": [
        {
          "output_type": "display_data",
          "data": {
            "text/plain": [
              "[1] 3"
            ],
            "text/latex": "3",
            "text/markdown": "3",
            "text/html": [
              "3"
            ]
          },
          "metadata": {}
        }
      ]
    },
    {
      "cell_type": "code",
      "source": [
        "# To sort items in a vector alphabetically or numerically, use the sort() function:\n",
        "fruits <- c(\"banana\", \"apple\", \"orange\", \"mango\", \"lemon\")\n",
        "numbers <- c(13, 3, 5, 7, 20, 2)\n",
        "\n",
        "sort(fruits)  # Sort a string\n",
        "sort(numbers) # Sort numbers"
      ],
      "metadata": {
        "colab": {
          "base_uri": "https://localhost:8080/",
          "height": 52
        },
        "id": "8A_laXWBJ0rQ",
        "outputId": "97e46314-b04c-497a-9642-295cfd3f7e5b"
      },
      "execution_count": 38,
      "outputs": [
        {
          "output_type": "display_data",
          "data": {
            "text/plain": [
              "[1] \"apple\"  \"banana\" \"lemon\"  \"mango\"  \"orange\""
            ],
            "text/latex": "\\begin{enumerate*}\n\\item 'apple'\n\\item 'banana'\n\\item 'lemon'\n\\item 'mango'\n\\item 'orange'\n\\end{enumerate*}\n",
            "text/markdown": "1. 'apple'\n2. 'banana'\n3. 'lemon'\n4. 'mango'\n5. 'orange'\n\n\n",
            "text/html": [
              "<style>\n",
              ".list-inline {list-style: none; margin:0; padding: 0}\n",
              ".list-inline>li {display: inline-block}\n",
              ".list-inline>li:not(:last-child)::after {content: \"\\00b7\"; padding: 0 .5ex}\n",
              "</style>\n",
              "<ol class=list-inline><li>'apple'</li><li>'banana'</li><li>'lemon'</li><li>'mango'</li><li>'orange'</li></ol>\n"
            ]
          },
          "metadata": {}
        },
        {
          "output_type": "display_data",
          "data": {
            "text/plain": [
              "[1]  2  3  5  7 13 20"
            ],
            "text/latex": "\\begin{enumerate*}\n\\item 2\n\\item 3\n\\item 5\n\\item 7\n\\item 13\n\\item 20\n\\end{enumerate*}\n",
            "text/markdown": "1. 2\n2. 3\n3. 5\n4. 7\n5. 13\n6. 20\n\n\n",
            "text/html": [
              "<style>\n",
              ".list-inline {list-style: none; margin:0; padding: 0}\n",
              ".list-inline>li {display: inline-block}\n",
              ".list-inline>li:not(:last-child)::after {content: \"\\00b7\"; padding: 0 .5ex}\n",
              "</style>\n",
              "<ol class=list-inline><li>2</li><li>3</li><li>5</li><li>7</li><li>13</li><li>20</li></ol>\n"
            ]
          },
          "metadata": {}
        }
      ]
    },
    {
      "cell_type": "markdown",
      "source": [
        "You can access the vector items by referring to its index number inside brackets []. The first item has index 1, the second item has index 2, and so on:"
      ],
      "metadata": {
        "id": "VoBXUh_PKAiy"
      }
    },
    {
      "cell_type": "code",
      "source": [
        "fruits <- c(\"banana\", \"apple\", \"orange\")\n",
        "\n",
        "# Access the first item (banana)\n",
        "fruits[1]\n"
      ],
      "metadata": {
        "colab": {
          "base_uri": "https://localhost:8080/",
          "height": 35
        },
        "id": "9CBIB77WJ7g9",
        "outputId": "e235d128-23af-4b62-f857-05e85736584b"
      },
      "execution_count": 39,
      "outputs": [
        {
          "output_type": "display_data",
          "data": {
            "text/plain": [
              "[1] \"banana\""
            ],
            "text/latex": "'banana'",
            "text/markdown": "'banana'",
            "text/html": [
              "'banana'"
            ]
          },
          "metadata": {}
        }
      ]
    },
    {
      "cell_type": "code",
      "source": [
        "# You can also use negative index numbers to access all items except the ones specified:\n",
        "fruits <- c(\"banana\", \"apple\", \"orange\", \"mango\", \"lemon\")\n",
        "\n",
        "# Access all items except for the first item\n",
        "fruits[c(-1)]\n",
        "fruits[c(-3)]"
      ],
      "metadata": {
        "colab": {
          "base_uri": "https://localhost:8080/",
          "height": 52
        },
        "id": "3GhRkS8lKEp_",
        "outputId": "e01acca3-6e40-4a3f-f338-7e62517d4dc5"
      },
      "execution_count": 41,
      "outputs": [
        {
          "output_type": "display_data",
          "data": {
            "text/plain": [
              "[1] \"apple\"  \"orange\" \"mango\"  \"lemon\" "
            ],
            "text/latex": "\\begin{enumerate*}\n\\item 'apple'\n\\item 'orange'\n\\item 'mango'\n\\item 'lemon'\n\\end{enumerate*}\n",
            "text/markdown": "1. 'apple'\n2. 'orange'\n3. 'mango'\n4. 'lemon'\n\n\n",
            "text/html": [
              "<style>\n",
              ".list-inline {list-style: none; margin:0; padding: 0}\n",
              ".list-inline>li {display: inline-block}\n",
              ".list-inline>li:not(:last-child)::after {content: \"\\00b7\"; padding: 0 .5ex}\n",
              "</style>\n",
              "<ol class=list-inline><li>'apple'</li><li>'orange'</li><li>'mango'</li><li>'lemon'</li></ol>\n"
            ]
          },
          "metadata": {}
        },
        {
          "output_type": "display_data",
          "data": {
            "text/plain": [
              "[1] \"banana\" \"apple\"  \"mango\"  \"lemon\" "
            ],
            "text/latex": "\\begin{enumerate*}\n\\item 'banana'\n\\item 'apple'\n\\item 'mango'\n\\item 'lemon'\n\\end{enumerate*}\n",
            "text/markdown": "1. 'banana'\n2. 'apple'\n3. 'mango'\n4. 'lemon'\n\n\n",
            "text/html": [
              "<style>\n",
              ".list-inline {list-style: none; margin:0; padding: 0}\n",
              ".list-inline>li {display: inline-block}\n",
              ".list-inline>li:not(:last-child)::after {content: \"\\00b7\"; padding: 0 .5ex}\n",
              "</style>\n",
              "<ol class=list-inline><li>'banana'</li><li>'apple'</li><li>'mango'</li><li>'lemon'</li></ol>\n"
            ]
          },
          "metadata": {}
        }
      ]
    },
    {
      "cell_type": "code",
      "source": [
        "# To change the value of a specific item, refer to the index number:\n",
        "fruits <- c(\"banana\", \"apple\", \"orange\", \"mango\", \"lemon\")\n",
        "\n",
        "# Change \"banana\" to \"pear\"\n",
        "fruits[1] <- \"pear\"\n",
        "\n",
        "# Print fruits\n",
        "fruits"
      ],
      "metadata": {
        "colab": {
          "base_uri": "https://localhost:8080/",
          "height": 35
        },
        "id": "sFa241RqKNt4",
        "outputId": "00fb2ff7-6d68-46a9-bdd8-fa09b581a639"
      },
      "execution_count": 42,
      "outputs": [
        {
          "output_type": "display_data",
          "data": {
            "text/plain": [
              "[1] \"pear\"   \"apple\"  \"orange\" \"mango\"  \"lemon\" "
            ],
            "text/latex": "\\begin{enumerate*}\n\\item 'pear'\n\\item 'apple'\n\\item 'orange'\n\\item 'mango'\n\\item 'lemon'\n\\end{enumerate*}\n",
            "text/markdown": "1. 'pear'\n2. 'apple'\n3. 'orange'\n4. 'mango'\n5. 'lemon'\n\n\n",
            "text/html": [
              "<style>\n",
              ".list-inline {list-style: none; margin:0; padding: 0}\n",
              ".list-inline>li {display: inline-block}\n",
              ".list-inline>li:not(:last-child)::after {content: \"\\00b7\"; padding: 0 .5ex}\n",
              "</style>\n",
              "<ol class=list-inline><li>'pear'</li><li>'apple'</li><li>'orange'</li><li>'mango'</li><li>'lemon'</li></ol>\n"
            ]
          },
          "metadata": {}
        }
      ]
    },
    {
      "cell_type": "code",
      "source": [
        "# To repeat vectors, use the rep() function:\n",
        "repeat_each <- rep(c(1,2,3), each = 3)\n",
        "\n",
        "repeat_each"
      ],
      "metadata": {
        "colab": {
          "base_uri": "https://localhost:8080/",
          "height": 35
        },
        "id": "rFHnzUzkKaVW",
        "outputId": "efc2f1ae-661d-4bd9-f8df-f2bf33b0eb0e"
      },
      "execution_count": 43,
      "outputs": [
        {
          "output_type": "display_data",
          "data": {
            "text/plain": [
              "[1] 1 1 1 2 2 2 3 3 3"
            ],
            "text/latex": "\\begin{enumerate*}\n\\item 1\n\\item 1\n\\item 1\n\\item 2\n\\item 2\n\\item 2\n\\item 3\n\\item 3\n\\item 3\n\\end{enumerate*}\n",
            "text/markdown": "1. 1\n2. 1\n3. 1\n4. 2\n5. 2\n6. 2\n7. 3\n8. 3\n9. 3\n\n\n",
            "text/html": [
              "<style>\n",
              ".list-inline {list-style: none; margin:0; padding: 0}\n",
              ".list-inline>li {display: inline-block}\n",
              ".list-inline>li:not(:last-child)::after {content: \"\\00b7\"; padding: 0 .5ex}\n",
              "</style>\n",
              "<ol class=list-inline><li>1</li><li>1</li><li>1</li><li>2</li><li>2</li><li>2</li><li>3</li><li>3</li><li>3</li></ol>\n"
            ]
          },
          "metadata": {}
        }
      ]
    },
    {
      "cell_type": "code",
      "source": [
        "# Repeat the sequence of the vector:\n",
        "repeat_times <- rep(c(1,2,3), times = 3)\n",
        "\n",
        "repeat_times"
      ],
      "metadata": {
        "colab": {
          "base_uri": "https://localhost:8080/",
          "height": 35
        },
        "id": "DmImjil1KnXJ",
        "outputId": "552ec3a4-d770-4b92-df11-31587a8d3c83"
      },
      "execution_count": 44,
      "outputs": [
        {
          "output_type": "display_data",
          "data": {
            "text/plain": [
              "[1] 1 2 3 1 2 3 1 2 3"
            ],
            "text/latex": "\\begin{enumerate*}\n\\item 1\n\\item 2\n\\item 3\n\\item 1\n\\item 2\n\\item 3\n\\item 1\n\\item 2\n\\item 3\n\\end{enumerate*}\n",
            "text/markdown": "1. 1\n2. 2\n3. 3\n4. 1\n5. 2\n6. 3\n7. 1\n8. 2\n9. 3\n\n\n",
            "text/html": [
              "<style>\n",
              ".list-inline {list-style: none; margin:0; padding: 0}\n",
              ".list-inline>li {display: inline-block}\n",
              ".list-inline>li:not(:last-child)::after {content: \"\\00b7\"; padding: 0 .5ex}\n",
              "</style>\n",
              "<ol class=list-inline><li>1</li><li>2</li><li>3</li><li>1</li><li>2</li><li>3</li><li>1</li><li>2</li><li>3</li></ol>\n"
            ]
          },
          "metadata": {}
        }
      ]
    },
    {
      "cell_type": "code",
      "source": [
        "# Repeat each value independently:\n",
        "\n",
        "repeat_indepent <- rep(c(1,2,3), times = c(5,2,1))\n",
        "\n",
        "repeat_indepent"
      ],
      "metadata": {
        "colab": {
          "base_uri": "https://localhost:8080/",
          "height": 35
        },
        "id": "O9srfq6FKuif",
        "outputId": "0c2bdf94-b284-4338-ea2d-db1e773431af"
      },
      "execution_count": 45,
      "outputs": [
        {
          "output_type": "display_data",
          "data": {
            "text/plain": [
              "[1] 1 1 1 1 1 2 2 3"
            ],
            "text/latex": "\\begin{enumerate*}\n\\item 1\n\\item 1\n\\item 1\n\\item 1\n\\item 1\n\\item 2\n\\item 2\n\\item 3\n\\end{enumerate*}\n",
            "text/markdown": "1. 1\n2. 1\n3. 1\n4. 1\n5. 1\n6. 2\n7. 2\n8. 3\n\n\n",
            "text/html": [
              "<style>\n",
              ".list-inline {list-style: none; margin:0; padding: 0}\n",
              ".list-inline>li {display: inline-block}\n",
              ".list-inline>li:not(:last-child)::after {content: \"\\00b7\"; padding: 0 .5ex}\n",
              "</style>\n",
              "<ol class=list-inline><li>1</li><li>1</li><li>1</li><li>1</li><li>1</li><li>2</li><li>2</li><li>3</li></ol>\n"
            ]
          },
          "metadata": {}
        }
      ]
    },
    {
      "cell_type": "markdown",
      "source": [
        "##Generating Sequenced Vectors\n",
        "One of the examples on top, showed you how to create a vector with numerical values in a sequence with the : operator:"
      ],
      "metadata": {
        "id": "fzaWiK1eK5cV"
      }
    },
    {
      "cell_type": "code",
      "source": [
        "# To make bigger or smaller steps in a sequence, use the seq() function:\n",
        "numbers <- seq(from = 0, to = 100, by = 20)\n",
        "numbers"
      ],
      "metadata": {
        "colab": {
          "base_uri": "https://localhost:8080/",
          "height": 35
        },
        "id": "ld1tCrJrLBhc",
        "outputId": "0c8c7c33-51f3-46d6-dc1d-4f23a99062b6"
      },
      "execution_count": 46,
      "outputs": [
        {
          "output_type": "display_data",
          "data": {
            "text/plain": [
              "[1]   0  20  40  60  80 100"
            ],
            "text/latex": "\\begin{enumerate*}\n\\item 0\n\\item 20\n\\item 40\n\\item 60\n\\item 80\n\\item 100\n\\end{enumerate*}\n",
            "text/markdown": "1. 0\n2. 20\n3. 40\n4. 60\n5. 80\n6. 100\n\n\n",
            "text/html": [
              "<style>\n",
              ".list-inline {list-style: none; margin:0; padding: 0}\n",
              ".list-inline>li {display: inline-block}\n",
              ".list-inline>li:not(:last-child)::after {content: \"\\00b7\"; padding: 0 .5ex}\n",
              "</style>\n",
              "<ol class=list-inline><li>0</li><li>20</li><li>40</li><li>60</li><li>80</li><li>100</li></ol>\n"
            ]
          },
          "metadata": {}
        }
      ]
    },
    {
      "cell_type": "markdown",
      "source": [
        "#Lists\n",
        "A list in R can contain many different data types inside it. A list is a collection of data which is ordered and changeable.\n",
        "\n",
        "To create a list, use the list() function:"
      ],
      "metadata": {
        "id": "TBPzbMOrLWyZ"
      }
    },
    {
      "cell_type": "code",
      "source": [
        "# List of strings\n",
        "thislist <- list(\"zpple\", \"banana\", \"cherry\")\n",
        "\n",
        "# Print the list\n",
        "thislist"
      ],
      "metadata": {
        "colab": {
          "base_uri": "https://localhost:8080/",
          "height": 97
        },
        "id": "roEUs1PnLiwj",
        "outputId": "86d66745-01b7-4614-db30-159a497f0bd1"
      },
      "execution_count": 48,
      "outputs": [
        {
          "output_type": "display_data",
          "data": {
            "text/plain": [
              "[[1]]\n",
              "[1] \"zpple\"\n",
              "\n",
              "[[2]]\n",
              "[1] \"banana\"\n",
              "\n",
              "[[3]]\n",
              "[1] \"cherry\"\n"
            ],
            "text/latex": "\\begin{enumerate}\n\\item 'zpple'\n\\item 'banana'\n\\item 'cherry'\n\\end{enumerate}\n",
            "text/markdown": "1. 'zpple'\n2. 'banana'\n3. 'cherry'\n\n\n",
            "text/html": [
              "<ol>\n",
              "\t<li>'zpple'</li>\n",
              "\t<li>'banana'</li>\n",
              "\t<li>'cherry'</li>\n",
              "</ol>\n"
            ]
          },
          "metadata": {}
        }
      ]
    },
    {
      "cell_type": "markdown",
      "source": [
        "#Access Lists\n",
        "You can access the list items by referring to its index number, inside brackets. The first item has index 1, the second item has index 2, and so on:"
      ],
      "metadata": {
        "id": "XLa4hl4XLpmc"
      }
    },
    {
      "cell_type": "code",
      "source": [
        "# To change the value of a specific item, refer to the index number:\n",
        "thislist <- list(\"apple\", \"banana\", \"cherry\")\n",
        "thislist[1] <- \"blackcurrant\"\n",
        "\n",
        "# Print the updated list\n",
        "thislist"
      ],
      "metadata": {
        "colab": {
          "base_uri": "https://localhost:8080/",
          "height": 97
        },
        "id": "OzmfPEPRL0xK",
        "outputId": "7438bf25-257e-48e4-ecd7-341cce43f576"
      },
      "execution_count": 49,
      "outputs": [
        {
          "output_type": "display_data",
          "data": {
            "text/plain": [
              "[[1]]\n",
              "[1] \"blackcurrant\"\n",
              "\n",
              "[[2]]\n",
              "[1] \"banana\"\n",
              "\n",
              "[[3]]\n",
              "[1] \"cherry\"\n"
            ],
            "text/latex": "\\begin{enumerate}\n\\item 'blackcurrant'\n\\item 'banana'\n\\item 'cherry'\n\\end{enumerate}\n",
            "text/markdown": "1. 'blackcurrant'\n2. 'banana'\n3. 'cherry'\n\n\n",
            "text/html": [
              "<ol>\n",
              "\t<li>'blackcurrant'</li>\n",
              "\t<li>'banana'</li>\n",
              "\t<li>'cherry'</li>\n",
              "</ol>\n"
            ]
          },
          "metadata": {}
        }
      ]
    },
    {
      "cell_type": "code",
      "source": [
        "# To find out how many items a list has, use the length() function:\n",
        "thislist <- list(\"apple\", \"banana\", \"cherry\")\n",
        "\n",
        "length(thislist)"
      ],
      "metadata": {
        "colab": {
          "base_uri": "https://localhost:8080/",
          "height": 35
        },
        "id": "ohn3_LPfL98H",
        "outputId": "28747ee1-bc89-4c96-e267-d31beb68b3e9"
      },
      "execution_count": 50,
      "outputs": [
        {
          "output_type": "display_data",
          "data": {
            "text/plain": [
              "[1] 3"
            ],
            "text/latex": "3",
            "text/markdown": "3",
            "text/html": [
              "3"
            ]
          },
          "metadata": {}
        }
      ]
    },
    {
      "cell_type": "code",
      "source": [
        "# To find out if a specified item is present in a list, use the %in% operator:\n",
        "thislist <- list(\"apple\", \"banana\", \"cherry\")\n",
        "\n",
        "\"apple\" %in% thislist"
      ],
      "metadata": {
        "colab": {
          "base_uri": "https://localhost:8080/",
          "height": 35
        },
        "id": "FkXXnw4OMFuZ",
        "outputId": "00fecccd-f16c-4217-8541-8b5f292a9430"
      },
      "execution_count": 51,
      "outputs": [
        {
          "output_type": "display_data",
          "data": {
            "text/plain": [
              "[1] TRUE"
            ],
            "text/latex": "TRUE",
            "text/markdown": "TRUE",
            "text/html": [
              "TRUE"
            ]
          },
          "metadata": {}
        }
      ]
    },
    {
      "cell_type": "code",
      "source": [
        "# To add an item to the end of the list, use the append() function:\n",
        "thislist <- list(\"apple\", \"banana\", \"cherry\")\n",
        "\n",
        "append(thislist, \"orange\")"
      ],
      "metadata": {
        "colab": {
          "base_uri": "https://localhost:8080/",
          "height": 115
        },
        "id": "nCG6JBziMPk3",
        "outputId": "d0fb7650-c613-4da1-b619-090a2b5007b5"
      },
      "execution_count": 52,
      "outputs": [
        {
          "output_type": "display_data",
          "data": {
            "text/plain": [
              "[[1]]\n",
              "[1] \"apple\"\n",
              "\n",
              "[[2]]\n",
              "[1] \"banana\"\n",
              "\n",
              "[[3]]\n",
              "[1] \"cherry\"\n",
              "\n",
              "[[4]]\n",
              "[1] \"orange\"\n"
            ],
            "text/latex": "\\begin{enumerate}\n\\item 'apple'\n\\item 'banana'\n\\item 'cherry'\n\\item 'orange'\n\\end{enumerate}\n",
            "text/markdown": "1. 'apple'\n2. 'banana'\n3. 'cherry'\n4. 'orange'\n\n\n",
            "text/html": [
              "<ol>\n",
              "\t<li>'apple'</li>\n",
              "\t<li>'banana'</li>\n",
              "\t<li>'cherry'</li>\n",
              "\t<li>'orange'</li>\n",
              "</ol>\n"
            ]
          },
          "metadata": {}
        }
      ]
    },
    {
      "cell_type": "markdown",
      "source": [
        "To add an item to the right of a specified index, add \"after=index number\" in the append() function:"
      ],
      "metadata": {
        "id": "88Kgyn3-MY5X"
      }
    },
    {
      "cell_type": "code",
      "source": [
        "# Add \"orange\" to the list after \"banana\" (index 2):\n",
        "thislist <- list(\"apple\", \"banana\", \"cherry\")\n",
        "\n",
        "append(thislist, \"orange\", after = 2)"
      ],
      "metadata": {
        "colab": {
          "base_uri": "https://localhost:8080/",
          "height": 115
        },
        "id": "v14chTvDMg6v",
        "outputId": "856a1335-7b37-480a-d90e-ec5c937fe232"
      },
      "execution_count": 53,
      "outputs": [
        {
          "output_type": "display_data",
          "data": {
            "text/plain": [
              "[[1]]\n",
              "[1] \"apple\"\n",
              "\n",
              "[[2]]\n",
              "[1] \"banana\"\n",
              "\n",
              "[[3]]\n",
              "[1] \"orange\"\n",
              "\n",
              "[[4]]\n",
              "[1] \"cherry\"\n"
            ],
            "text/latex": "\\begin{enumerate}\n\\item 'apple'\n\\item 'banana'\n\\item 'orange'\n\\item 'cherry'\n\\end{enumerate}\n",
            "text/markdown": "1. 'apple'\n2. 'banana'\n3. 'orange'\n4. 'cherry'\n\n\n",
            "text/html": [
              "<ol>\n",
              "\t<li>'apple'</li>\n",
              "\t<li>'banana'</li>\n",
              "\t<li>'orange'</li>\n",
              "\t<li>'cherry'</li>\n",
              "</ol>\n"
            ]
          },
          "metadata": {}
        }
      ]
    },
    {
      "cell_type": "markdown",
      "source": [
        "You can also remove list items. The following example creates a new, updated list without an \"apple\" item:"
      ],
      "metadata": {
        "id": "6sQmbxEpMzzJ"
      }
    },
    {
      "cell_type": "code",
      "source": [
        "thislist <- list(\"apple\", \"banana\", \"cherry\")\n",
        "\n",
        "newlist <- thislist[-1]\n",
        "\n",
        "# Print the new list\n",
        "newlist"
      ],
      "metadata": {
        "colab": {
          "base_uri": "https://localhost:8080/",
          "height": 80
        },
        "id": "s7UkZ10QM3YA",
        "outputId": "8e78fcc4-0e31-4b95-8330-059c4ac70950"
      },
      "execution_count": 54,
      "outputs": [
        {
          "output_type": "display_data",
          "data": {
            "text/plain": [
              "[[1]]\n",
              "[1] \"banana\"\n",
              "\n",
              "[[2]]\n",
              "[1] \"cherry\"\n"
            ],
            "text/latex": "\\begin{enumerate}\n\\item 'banana'\n\\item 'cherry'\n\\end{enumerate}\n",
            "text/markdown": "1. 'banana'\n2. 'cherry'\n\n\n",
            "text/html": [
              "<ol>\n",
              "\t<li>'banana'</li>\n",
              "\t<li>'cherry'</li>\n",
              "</ol>\n"
            ]
          },
          "metadata": {}
        }
      ]
    },
    {
      "cell_type": "markdown",
      "source": [
        "You can specify a range of indexes by specifying where to start and where to end the range, by using the : operator:"
      ],
      "metadata": {
        "id": "_ncdWiWjM7oW"
      }
    },
    {
      "cell_type": "code",
      "source": [
        "thislist <- list(\"apple\", \"banana\", \"cherry\", \"orange\", \"kiwi\", \"melon\", \"mango\")\n",
        "\n",
        "(thislist)[2:5]\n",
        "# Note: The search will start at index 2 (included) and end at index 5 (included).\n",
        "\n",
        "# Remember that the first item has index 1."
      ],
      "metadata": {
        "colab": {
          "base_uri": "https://localhost:8080/",
          "height": 115
        },
        "id": "ontc8JOcNIJ1",
        "outputId": "0d4697ff-cbac-4ae0-c2ea-6e306400dfe0"
      },
      "execution_count": 55,
      "outputs": [
        {
          "output_type": "display_data",
          "data": {
            "text/plain": [
              "[[1]]\n",
              "[1] \"banana\"\n",
              "\n",
              "[[2]]\n",
              "[1] \"cherry\"\n",
              "\n",
              "[[3]]\n",
              "[1] \"orange\"\n",
              "\n",
              "[[4]]\n",
              "[1] \"kiwi\"\n"
            ],
            "text/latex": "\\begin{enumerate}\n\\item 'banana'\n\\item 'cherry'\n\\item 'orange'\n\\item 'kiwi'\n\\end{enumerate}\n",
            "text/markdown": "1. 'banana'\n2. 'cherry'\n3. 'orange'\n4. 'kiwi'\n\n\n",
            "text/html": [
              "<ol>\n",
              "\t<li>'banana'</li>\n",
              "\t<li>'cherry'</li>\n",
              "\t<li>'orange'</li>\n",
              "\t<li>'kiwi'</li>\n",
              "</ol>\n"
            ]
          },
          "metadata": {}
        }
      ]
    },
    {
      "cell_type": "code",
      "source": [
        "# You can loop through the list items by using a for loop:\n",
        "thislist <- list(\"apple\", \"banana\", \"cherry\")\n",
        "\n",
        "for (x in thislist) {\n",
        "  print(x)\n",
        "}"
      ],
      "metadata": {
        "colab": {
          "base_uri": "https://localhost:8080/"
        },
        "id": "krbFOcKtNLmf",
        "outputId": "e7d20289-a4af-4545-9a58-4e7bd98e4775"
      },
      "execution_count": 56,
      "outputs": [
        {
          "output_type": "stream",
          "name": "stdout",
          "text": [
            "[1] \"apple\"\n",
            "[1] \"banana\"\n",
            "[1] \"cherry\"\n"
          ]
        }
      ]
    },
    {
      "cell_type": "markdown",
      "source": [
        "#Join Two Lists\n",
        "There are several ways to join, or concatenate, two or more lists in R.\n",
        "\n",
        "The most common way is to use the c() function, which combines two elements together:"
      ],
      "metadata": {
        "id": "HbGov__fNcex"
      }
    },
    {
      "cell_type": "code",
      "source": [
        "list1 <- list(\"a\", \"b\", \"c\")\n",
        "list2 <- list(1,2,3)\n",
        "list3 <- c(list1,list2)\n",
        "\n",
        "list3"
      ],
      "metadata": {
        "colab": {
          "base_uri": "https://localhost:8080/",
          "height": 149
        },
        "id": "xdoT5uknN8XL",
        "outputId": "7b5a29a7-4f44-4564-91a4-4bfc39ea7333"
      },
      "execution_count": 57,
      "outputs": [
        {
          "output_type": "display_data",
          "data": {
            "text/plain": [
              "[[1]]\n",
              "[1] \"a\"\n",
              "\n",
              "[[2]]\n",
              "[1] \"b\"\n",
              "\n",
              "[[3]]\n",
              "[1] \"c\"\n",
              "\n",
              "[[4]]\n",
              "[1] 1\n",
              "\n",
              "[[5]]\n",
              "[1] 2\n",
              "\n",
              "[[6]]\n",
              "[1] 3\n"
            ],
            "text/latex": "\\begin{enumerate}\n\\item 'a'\n\\item 'b'\n\\item 'c'\n\\item 1\n\\item 2\n\\item 3\n\\end{enumerate}\n",
            "text/markdown": "1. 'a'\n2. 'b'\n3. 'c'\n4. 1\n5. 2\n6. 3\n\n\n",
            "text/html": [
              "<ol>\n",
              "\t<li>'a'</li>\n",
              "\t<li>'b'</li>\n",
              "\t<li>'c'</li>\n",
              "\t<li>1</li>\n",
              "\t<li>2</li>\n",
              "\t<li>3</li>\n",
              "</ol>\n"
            ]
          },
          "metadata": {}
        }
      ]
    },
    {
      "cell_type": "markdown",
      "source": [
        "#Matrices\n",
        "A matrix is a two dimensional data set with columns and rows.\n",
        "\n",
        "A column is a vertical representation of data, while a row is a horizontal representation of data.\n",
        "\n",
        "A matrix can be created with the matrix() function. Specify the nrow and ncol parameters to get the amount of rows and columns:"
      ],
      "metadata": {
        "id": "O_Kn6gtaOJY3"
      }
    },
    {
      "cell_type": "code",
      "source": [
        "# Create a matrix\n",
        "thismatrix <- matrix(c(1,2,3,4,5,6), nrow = 3, ncol = 2)\n",
        "\n",
        "# Print the matrix\n",
        "thismatrix\n",
        "# Remember the c() function is used to concatenate items together."
      ],
      "metadata": {
        "colab": {
          "base_uri": "https://localhost:8080/",
          "height": 198
        },
        "id": "HDSA92mVN_b3",
        "outputId": "63b4aeed-9594-4168-e424-3c90c8150a79"
      },
      "execution_count": 58,
      "outputs": [
        {
          "output_type": "display_data",
          "data": {
            "text/plain": [
              "     [,1] [,2]\n",
              "[1,] 1    4   \n",
              "[2,] 2    5   \n",
              "[3,] 3    6   "
            ],
            "text/latex": "A matrix: 3 × 2 of type dbl\n\\begin{tabular}{ll}\n\t 1 & 4\\\\\n\t 2 & 5\\\\\n\t 3 & 6\\\\\n\\end{tabular}\n",
            "text/markdown": "\nA matrix: 3 × 2 of type dbl\n\n| 1 | 4 |\n| 2 | 5 |\n| 3 | 6 |\n\n",
            "text/html": [
              "<table class=\"dataframe\">\n",
              "<caption>A matrix: 3 × 2 of type dbl</caption>\n",
              "<tbody>\n",
              "\t<tr><td>1</td><td>4</td></tr>\n",
              "\t<tr><td>2</td><td>5</td></tr>\n",
              "\t<tr><td>3</td><td>6</td></tr>\n",
              "</tbody>\n",
              "</table>\n"
            ]
          },
          "metadata": {}
        }
      ]
    },
    {
      "cell_type": "code",
      "source": [
        "thismatrix <- matrix(c(\"apple\", \"banana\", \"cherry\", \"orange\"), nrow = 2, ncol = 2)\n",
        "\n",
        "thismatrix"
      ],
      "metadata": {
        "colab": {
          "base_uri": "https://localhost:8080/",
          "height": 115
        },
        "id": "xl8_uJGeOl3h",
        "outputId": "65652d78-7a38-4926-b29d-287dd4acfaf2"
      },
      "execution_count": 59,
      "outputs": [
        {
          "output_type": "display_data",
          "data": {
            "text/plain": [
              "     [,1]   [,2]  \n",
              "[1,] apple  cherry\n",
              "[2,] banana orange"
            ],
            "text/latex": "A matrix: 2 × 2 of type chr\n\\begin{tabular}{ll}\n\t apple  & cherry\\\\\n\t banana & orange\\\\\n\\end{tabular}\n",
            "text/markdown": "\nA matrix: 2 × 2 of type chr\n\n| apple  | cherry |\n| banana | orange |\n\n",
            "text/html": [
              "<table class=\"dataframe\">\n",
              "<caption>A matrix: 2 × 2 of type chr</caption>\n",
              "<tbody>\n",
              "\t<tr><td>apple </td><td>cherry</td></tr>\n",
              "\t<tr><td>banana</td><td>orange</td></tr>\n",
              "</tbody>\n",
              "</table>\n"
            ]
          },
          "metadata": {}
        }
      ]
    },
    {
      "cell_type": "markdown",
      "source": [
        "You can access the items by using [ ] brackets. The first number \"1\" in the bracket specifies the row-position, while the second number \"2\" specifies the column-position:"
      ],
      "metadata": {
        "id": "dA1WOJMDOo5K"
      }
    },
    {
      "cell_type": "code",
      "source": [
        "thismatrix <- matrix(c(\"apple\", \"banana\", \"cherry\", \"orange\"), nrow = 2, ncol = 2)\n",
        "\n",
        "thismatrix[1, 2]"
      ],
      "metadata": {
        "colab": {
          "base_uri": "https://localhost:8080/",
          "height": 35
        },
        "id": "Qv9kdAfGPQxT",
        "outputId": "031d820d-76af-4c54-bad2-892a999210ce"
      },
      "execution_count": 60,
      "outputs": [
        {
          "output_type": "display_data",
          "data": {
            "text/plain": [
              "[1] \"cherry\""
            ],
            "text/latex": "'cherry'",
            "text/markdown": "'cherry'",
            "text/html": [
              "'cherry'"
            ]
          },
          "metadata": {}
        }
      ]
    },
    {
      "cell_type": "code",
      "source": [
        "# The whole row can be accessed if you specify a comma after the number in the bracket:\n",
        "thismatrix <- matrix(c(\"apple\", \"banana\", \"cherry\", \"orange\"), nrow = 2, ncol = 2)\n",
        "\n",
        "thismatrix[2,]"
      ],
      "metadata": {
        "colab": {
          "base_uri": "https://localhost:8080/",
          "height": 35
        },
        "id": "fqoddJLyPUg4",
        "outputId": "078a4af7-1cab-4ce4-ca17-a3f55f468038"
      },
      "execution_count": 61,
      "outputs": [
        {
          "output_type": "display_data",
          "data": {
            "text/plain": [
              "[1] \"banana\" \"orange\""
            ],
            "text/latex": "\\begin{enumerate*}\n\\item 'banana'\n\\item 'orange'\n\\end{enumerate*}\n",
            "text/markdown": "1. 'banana'\n2. 'orange'\n\n\n",
            "text/html": [
              "<style>\n",
              ".list-inline {list-style: none; margin:0; padding: 0}\n",
              ".list-inline>li {display: inline-block}\n",
              ".list-inline>li:not(:last-child)::after {content: \"\\00b7\"; padding: 0 .5ex}\n",
              "</style>\n",
              "<ol class=list-inline><li>'banana'</li><li>'orange'</li></ol>\n"
            ]
          },
          "metadata": {}
        }
      ]
    },
    {
      "cell_type": "code",
      "source": [
        "# The whole column can be accessed if you specify a comma before the number in the bracket:\n",
        "thismatrix <- matrix(c(\"apple\", \"banana\", \"cherry\", \"orange\"), nrow = 2, ncol = 2)\n",
        "\n",
        "thismatrix[,2]"
      ],
      "metadata": {
        "colab": {
          "base_uri": "https://localhost:8080/",
          "height": 35
        },
        "id": "xcmh64w9P9ua",
        "outputId": "906d80c2-2fbd-40ac-918c-3a4029a0fcdd"
      },
      "execution_count": 62,
      "outputs": [
        {
          "output_type": "display_data",
          "data": {
            "text/plain": [
              "[1] \"cherry\" \"orange\""
            ],
            "text/latex": "\\begin{enumerate*}\n\\item 'cherry'\n\\item 'orange'\n\\end{enumerate*}\n",
            "text/markdown": "1. 'cherry'\n2. 'orange'\n\n\n",
            "text/html": [
              "<style>\n",
              ".list-inline {list-style: none; margin:0; padding: 0}\n",
              ".list-inline>li {display: inline-block}\n",
              ".list-inline>li:not(:last-child)::after {content: \"\\00b7\"; padding: 0 .5ex}\n",
              "</style>\n",
              "<ol class=list-inline><li>'cherry'</li><li>'orange'</li></ol>\n"
            ]
          },
          "metadata": {}
        }
      ]
    },
    {
      "cell_type": "markdown",
      "source": [
        "#Access More Than One Row\n",
        "More than one row can be accessed if you use the c() function:"
      ],
      "metadata": {
        "id": "POFzlKTHQjA_"
      }
    },
    {
      "cell_type": "code",
      "source": [
        "thismatrix <- matrix(c(\"apple\", \"banana\", \"cherry\", \"orange\",\"grape\", \"pineapple\", \"pear\", \"melon\", \"fig\"), nrow = 3, ncol = 3)\n",
        "\n",
        "thismatrix\n",
        "thismatrix[, c(1,2)]"
      ],
      "metadata": {
        "colab": {
          "base_uri": "https://localhost:8080/",
          "height": 257
        },
        "id": "023y7Mc3QuTi",
        "outputId": "7d54bd0b-3ead-4728-9f1f-12367412bb49"
      },
      "execution_count": 64,
      "outputs": [
        {
          "output_type": "display_data",
          "data": {
            "text/plain": [
              "     [,1]   [,2]      [,3] \n",
              "[1,] apple  orange    pear \n",
              "[2,] banana grape     melon\n",
              "[3,] cherry pineapple fig  "
            ],
            "text/latex": "A matrix: 3 × 3 of type chr\n\\begin{tabular}{lll}\n\t apple  & orange    & pear \\\\\n\t banana & grape     & melon\\\\\n\t cherry & pineapple & fig  \\\\\n\\end{tabular}\n",
            "text/markdown": "\nA matrix: 3 × 3 of type chr\n\n| apple  | orange    | pear  |\n| banana | grape     | melon |\n| cherry | pineapple | fig   |\n\n",
            "text/html": [
              "<table class=\"dataframe\">\n",
              "<caption>A matrix: 3 × 3 of type chr</caption>\n",
              "<tbody>\n",
              "\t<tr><td>apple </td><td>orange   </td><td>pear </td></tr>\n",
              "\t<tr><td>banana</td><td>grape    </td><td>melon</td></tr>\n",
              "\t<tr><td>cherry</td><td>pineapple</td><td>fig  </td></tr>\n",
              "</tbody>\n",
              "</table>\n"
            ]
          },
          "metadata": {}
        },
        {
          "output_type": "display_data",
          "data": {
            "text/plain": [
              "     [,1]   [,2]     \n",
              "[1,] apple  orange   \n",
              "[2,] banana grape    \n",
              "[3,] cherry pineapple"
            ],
            "text/latex": "A matrix: 3 × 2 of type chr\n\\begin{tabular}{ll}\n\t apple  & orange   \\\\\n\t banana & grape    \\\\\n\t cherry & pineapple\\\\\n\\end{tabular}\n",
            "text/markdown": "\nA matrix: 3 × 2 of type chr\n\n| apple  | orange    |\n| banana | grape     |\n| cherry | pineapple |\n\n",
            "text/html": [
              "<table class=\"dataframe\">\n",
              "<caption>A matrix: 3 × 2 of type chr</caption>\n",
              "<tbody>\n",
              "\t<tr><td>apple </td><td>orange   </td></tr>\n",
              "\t<tr><td>banana</td><td>grape    </td></tr>\n",
              "\t<tr><td>cherry</td><td>pineapple</td></tr>\n",
              "</tbody>\n",
              "</table>\n"
            ]
          },
          "metadata": {}
        }
      ]
    },
    {
      "cell_type": "markdown",
      "source": [
        "#Add Rows and Columns\n",
        "Use the cbind() function to add additional columns in a Matrix:"
      ],
      "metadata": {
        "id": "xubRKOyLQzUy"
      }
    },
    {
      "cell_type": "code",
      "source": [
        "# the cells in the new column must be of the same length as the existing matrix.\n",
        "thismatrix <- matrix(c(\"apple\", \"banana\", \"cherry\", \"orange\",\"grape\", \"pineapple\", \"pear\", \"melon\", \"fig\"), nrow = 3, ncol = 3)\n",
        "\n",
        "newmatrix <- cbind(thismatrix, c(\"strawberry\", \"blueberry\", \"raspberry\"))\n",
        "\n",
        "# Print the new matrix\n",
        "newmatrix"
      ],
      "metadata": {
        "colab": {
          "base_uri": "https://localhost:8080/",
          "height": 128
        },
        "id": "uxzNWnbwRR98",
        "outputId": "0b374f1a-b99b-45fb-b18a-4b0bdb31bf04"
      },
      "execution_count": 65,
      "outputs": [
        {
          "output_type": "display_data",
          "data": {
            "text/plain": [
              "     [,1]   [,2]      [,3]  [,4]      \n",
              "[1,] apple  orange    pear  strawberry\n",
              "[2,] banana grape     melon blueberry \n",
              "[3,] cherry pineapple fig   raspberry "
            ],
            "text/latex": "A matrix: 3 × 4 of type chr\n\\begin{tabular}{llll}\n\t apple  & orange    & pear  & strawberry\\\\\n\t banana & grape     & melon & blueberry \\\\\n\t cherry & pineapple & fig   & raspberry \\\\\n\\end{tabular}\n",
            "text/markdown": "\nA matrix: 3 × 4 of type chr\n\n| apple  | orange    | pear  | strawberry |\n| banana | grape     | melon | blueberry  |\n| cherry | pineapple | fig   | raspberry  |\n\n",
            "text/html": [
              "<table class=\"dataframe\">\n",
              "<caption>A matrix: 3 × 4 of type chr</caption>\n",
              "<tbody>\n",
              "\t<tr><td>apple </td><td>orange   </td><td>pear </td><td>strawberry</td></tr>\n",
              "\t<tr><td>banana</td><td>grape    </td><td>melon</td><td>blueberry </td></tr>\n",
              "\t<tr><td>cherry</td><td>pineapple</td><td>fig  </td><td>raspberry </td></tr>\n",
              "</tbody>\n",
              "</table>\n"
            ]
          },
          "metadata": {}
        }
      ]
    },
    {
      "cell_type": "code",
      "source": [
        "# Note: The cells in the new row must be of the same length as the existing matrix.\n",
        "# Use the rbind() function to add additional rows in a Matrix:\n",
        "\n",
        "thismatrix <- matrix(c(\"apple\", \"banana\", \"cherry\", \"orange\",\"grape\", \"pineapple\", \"pear\", \"melon\", \"fig\"), nrow = 3, ncol = 3)\n",
        "\n",
        "newmatrix <- rbind(thismatrix, c(\"strawberry\", \"blueberry\", \"raspberry\"))\n",
        "\n",
        "# Print the new matrix\n",
        "newmatrix"
      ],
      "metadata": {
        "colab": {
          "base_uri": "https://localhost:8080/",
          "height": 160
        },
        "id": "yebg5rL_R8lA",
        "outputId": "e1f7bef7-5e86-4262-b20e-d762e7cfd34e"
      },
      "execution_count": 66,
      "outputs": [
        {
          "output_type": "display_data",
          "data": {
            "text/plain": [
              "     [,1]       [,2]      [,3]     \n",
              "[1,] apple      orange    pear     \n",
              "[2,] banana     grape     melon    \n",
              "[3,] cherry     pineapple fig      \n",
              "[4,] strawberry blueberry raspberry"
            ],
            "text/latex": "A matrix: 4 × 3 of type chr\n\\begin{tabular}{lll}\n\t apple      & orange    & pear     \\\\\n\t banana     & grape     & melon    \\\\\n\t cherry     & pineapple & fig      \\\\\n\t strawberry & blueberry & raspberry\\\\\n\\end{tabular}\n",
            "text/markdown": "\nA matrix: 4 × 3 of type chr\n\n| apple      | orange    | pear      |\n| banana     | grape     | melon     |\n| cherry     | pineapple | fig       |\n| strawberry | blueberry | raspberry |\n\n",
            "text/html": [
              "<table class=\"dataframe\">\n",
              "<caption>A matrix: 4 × 3 of type chr</caption>\n",
              "<tbody>\n",
              "\t<tr><td>apple     </td><td>orange   </td><td>pear     </td></tr>\n",
              "\t<tr><td>banana    </td><td>grape    </td><td>melon    </td></tr>\n",
              "\t<tr><td>cherry    </td><td>pineapple</td><td>fig      </td></tr>\n",
              "\t<tr><td>strawberry</td><td>blueberry</td><td>raspberry</td></tr>\n",
              "</tbody>\n",
              "</table>\n"
            ]
          },
          "metadata": {}
        }
      ]
    },
    {
      "cell_type": "code",
      "source": [
        "# Use the c() function to remove rows and columns in a Matrix:\n",
        "thismatrix <- matrix(c(\"apple\", \"banana\", \"cherry\", \"orange\", \"mango\", \"pineapple\"), nrow = 3, ncol =2)\n",
        "\n",
        "#Remove the first row and the first column\n",
        "thismatrix\n",
        "thismatrix <- thismatrix[-c(1), -c(1)]\n",
        "\n",
        "thismatrix"
      ],
      "metadata": {
        "colab": {
          "base_uri": "https://localhost:8080/",
          "height": 163
        },
        "id": "WnLpB_zNShlq",
        "outputId": "62f9bc07-4aa7-4f40-bd5e-a128bc6e7a78"
      },
      "execution_count": 67,
      "outputs": [
        {
          "output_type": "display_data",
          "data": {
            "text/plain": [
              "     [,1]   [,2]     \n",
              "[1,] apple  orange   \n",
              "[2,] banana mango    \n",
              "[3,] cherry pineapple"
            ],
            "text/latex": "A matrix: 3 × 2 of type chr\n\\begin{tabular}{ll}\n\t apple  & orange   \\\\\n\t banana & mango    \\\\\n\t cherry & pineapple\\\\\n\\end{tabular}\n",
            "text/markdown": "\nA matrix: 3 × 2 of type chr\n\n| apple  | orange    |\n| banana | mango     |\n| cherry | pineapple |\n\n",
            "text/html": [
              "<table class=\"dataframe\">\n",
              "<caption>A matrix: 3 × 2 of type chr</caption>\n",
              "<tbody>\n",
              "\t<tr><td>apple </td><td>orange   </td></tr>\n",
              "\t<tr><td>banana</td><td>mango    </td></tr>\n",
              "\t<tr><td>cherry</td><td>pineapple</td></tr>\n",
              "</tbody>\n",
              "</table>\n"
            ]
          },
          "metadata": {}
        },
        {
          "output_type": "display_data",
          "data": {
            "text/plain": [
              "[1] \"mango\"     \"pineapple\""
            ],
            "text/latex": "\\begin{enumerate*}\n\\item 'mango'\n\\item 'pineapple'\n\\end{enumerate*}\n",
            "text/markdown": "1. 'mango'\n2. 'pineapple'\n\n\n",
            "text/html": [
              "<style>\n",
              ".list-inline {list-style: none; margin:0; padding: 0}\n",
              ".list-inline>li {display: inline-block}\n",
              ".list-inline>li:not(:last-child)::after {content: \"\\00b7\"; padding: 0 .5ex}\n",
              "</style>\n",
              "<ol class=list-inline><li>'mango'</li><li>'pineapple'</li></ol>\n"
            ]
          },
          "metadata": {}
        }
      ]
    },
    {
      "cell_type": "code",
      "source": [
        "# To find out if a specified item is present in a matrix, use the %in% operator:\n",
        "thismatrix <- matrix(c(\"apple\", \"banana\", \"cherry\", \"orange\"), nrow = 2, ncol = 2)\n",
        "\n",
        "\"apple\" %in% thismatrix"
      ],
      "metadata": {
        "colab": {
          "base_uri": "https://localhost:8080/",
          "height": 35
        },
        "id": "aAvuo7y_UEEO",
        "outputId": "6b8abcfe-8662-4aa3-ca81-1073308a1117"
      },
      "execution_count": 68,
      "outputs": [
        {
          "output_type": "display_data",
          "data": {
            "text/plain": [
              "[1] TRUE"
            ],
            "text/latex": "TRUE",
            "text/markdown": "TRUE",
            "text/html": [
              "TRUE"
            ]
          },
          "metadata": {}
        }
      ]
    },
    {
      "cell_type": "code",
      "source": [
        "# Use the dim() function to find the amount of rows and columns in a Matrix:\n",
        "thismatrix <- matrix(c(\"apple\", \"banana\", \"cherry\", \"orange\"), nrow = 2, ncol = 2)\n",
        "\n",
        "dim(thismatrix)\n"
      ],
      "metadata": {
        "colab": {
          "base_uri": "https://localhost:8080/",
          "height": 35
        },
        "id": "X3nuznMYTzvZ",
        "outputId": "fb458983-e2f2-46d9-e516-c1ea5180a0e5"
      },
      "execution_count": 69,
      "outputs": [
        {
          "output_type": "display_data",
          "data": {
            "text/plain": [
              "[1] 2 2"
            ],
            "text/latex": "\\begin{enumerate*}\n\\item 2\n\\item 2\n\\end{enumerate*}\n",
            "text/markdown": "1. 2\n2. 2\n\n\n",
            "text/html": [
              "<style>\n",
              ".list-inline {list-style: none; margin:0; padding: 0}\n",
              ".list-inline>li {display: inline-block}\n",
              ".list-inline>li:not(:last-child)::after {content: \"\\00b7\"; padding: 0 .5ex}\n",
              "</style>\n",
              "<ol class=list-inline><li>2</li><li>2</li></ol>\n"
            ]
          },
          "metadata": {}
        }
      ]
    },
    {
      "cell_type": "code",
      "source": [
        "# Use the length() function to find the dimension of a Matrix:\n",
        "thismatrix <- matrix(c(\"apple\", \"banana\", \"cherry\", \"orange\"), nrow = 2, ncol = 2)\n",
        "\n",
        "length(thismatrix)\n",
        "# length = number of rows* number of columns"
      ],
      "metadata": {
        "colab": {
          "base_uri": "https://localhost:8080/",
          "height": 35
        },
        "id": "IJN0n52xURU5",
        "outputId": "2949c56e-07fb-442b-df61-463829e5a523"
      },
      "execution_count": 70,
      "outputs": [
        {
          "output_type": "display_data",
          "data": {
            "text/plain": [
              "[1] 4"
            ],
            "text/latex": "4",
            "text/markdown": "4",
            "text/html": [
              "4"
            ]
          },
          "metadata": {}
        }
      ]
    },
    {
      "cell_type": "markdown",
      "source": [
        "You can loop through a Matrix using a for loop. The loop will start at the first row, moving right:"
      ],
      "metadata": {
        "id": "QdcjroHKUfiD"
      }
    },
    {
      "cell_type": "code",
      "source": [
        "thismatrix <- matrix(c(\"apple\", \"banana\", \"cherry\", \"orange\"), nrow = 2, ncol = 2)\n",
        "thismatrix\n",
        "for (rows in 1:nrow(thismatrix)) {\n",
        "  for (columns in 1:ncol(thismatrix)) {\n",
        "    print(rows, columns)\n",
        "\n",
        "    print(thismatrix[rows, columns])\n",
        "  }\n",
        "}"
      ],
      "metadata": {
        "colab": {
          "base_uri": "https://localhost:8080/",
          "height": 260
        },
        "id": "t7r4jnfPU67a",
        "outputId": "aa130369-8f47-475f-d500-ee4c849ff6e3"
      },
      "execution_count": 72,
      "outputs": [
        {
          "output_type": "display_data",
          "data": {
            "text/plain": [
              "     [,1]   [,2]  \n",
              "[1,] apple  cherry\n",
              "[2,] banana orange"
            ],
            "text/latex": "A matrix: 2 × 2 of type chr\n\\begin{tabular}{ll}\n\t apple  & cherry\\\\\n\t banana & orange\\\\\n\\end{tabular}\n",
            "text/markdown": "\nA matrix: 2 × 2 of type chr\n\n| apple  | cherry |\n| banana | orange |\n\n",
            "text/html": [
              "<table class=\"dataframe\">\n",
              "<caption>A matrix: 2 × 2 of type chr</caption>\n",
              "<tbody>\n",
              "\t<tr><td>apple </td><td>cherry</td></tr>\n",
              "\t<tr><td>banana</td><td>orange</td></tr>\n",
              "</tbody>\n",
              "</table>\n"
            ]
          },
          "metadata": {}
        },
        {
          "output_type": "stream",
          "name": "stdout",
          "text": [
            "[1] 1\n",
            "[1] \"apple\"\n",
            "[1] 1\n",
            "[1] \"cherry\"\n",
            "[1] 2\n",
            "[1] \"banana\"\n",
            "[1] 2\n",
            "[1] \"orange\"\n"
          ]
        }
      ]
    },
    {
      "cell_type": "markdown",
      "source": [
        "Again, you can use the rbind() or cbind() function to combine two or more matrices together:"
      ],
      "metadata": {
        "id": "0F3v4WKtVAk2"
      }
    },
    {
      "cell_type": "code",
      "source": [
        "# Combine matrices\n",
        "Matrix1 <- matrix(c(\"apple\", \"banana\", \"cherry\", \"grape\"), nrow = 2, ncol = 2)\n",
        "Matrix2 <- matrix(c(\"orange\", \"mango\", \"pineapple\", \"watermelon\"), nrow = 2, ncol = 2)\n",
        "Matrix1\n",
        "Matrix2\n",
        "# Adding it as a rows\n",
        "Matrix_Combined <- rbind(Matrix1, Matrix2)\n",
        "Matrix_Combined\n",
        "\n",
        "# Adding it as a columns\n",
        "Matrix_Combined <- cbind(Matrix1, Matrix2)\n",
        "Matrix_Combined"
      ],
      "metadata": {
        "colab": {
          "base_uri": "https://localhost:8080/",
          "height": 452
        },
        "id": "QQXYEbrLVynz",
        "outputId": "c98d4c01-ebcd-4f39-d351-e4a55483cc68"
      },
      "execution_count": 73,
      "outputs": [
        {
          "output_type": "display_data",
          "data": {
            "text/plain": [
              "     [,1]   [,2]  \n",
              "[1,] apple  cherry\n",
              "[2,] banana grape "
            ],
            "text/latex": "A matrix: 2 × 2 of type chr\n\\begin{tabular}{ll}\n\t apple  & cherry\\\\\n\t banana & grape \\\\\n\\end{tabular}\n",
            "text/markdown": "\nA matrix: 2 × 2 of type chr\n\n| apple  | cherry |\n| banana | grape  |\n\n",
            "text/html": [
              "<table class=\"dataframe\">\n",
              "<caption>A matrix: 2 × 2 of type chr</caption>\n",
              "<tbody>\n",
              "\t<tr><td>apple </td><td>cherry</td></tr>\n",
              "\t<tr><td>banana</td><td>grape </td></tr>\n",
              "</tbody>\n",
              "</table>\n"
            ]
          },
          "metadata": {}
        },
        {
          "output_type": "display_data",
          "data": {
            "text/plain": [
              "     [,1]   [,2]      \n",
              "[1,] orange pineapple \n",
              "[2,] mango  watermelon"
            ],
            "text/latex": "A matrix: 2 × 2 of type chr\n\\begin{tabular}{ll}\n\t orange & pineapple \\\\\n\t mango  & watermelon\\\\\n\\end{tabular}\n",
            "text/markdown": "\nA matrix: 2 × 2 of type chr\n\n| orange | pineapple  |\n| mango  | watermelon |\n\n",
            "text/html": [
              "<table class=\"dataframe\">\n",
              "<caption>A matrix: 2 × 2 of type chr</caption>\n",
              "<tbody>\n",
              "\t<tr><td>orange</td><td>pineapple </td></tr>\n",
              "\t<tr><td>mango </td><td>watermelon</td></tr>\n",
              "</tbody>\n",
              "</table>\n"
            ]
          },
          "metadata": {}
        },
        {
          "output_type": "display_data",
          "data": {
            "text/plain": [
              "     [,1]   [,2]      \n",
              "[1,] apple  cherry    \n",
              "[2,] banana grape     \n",
              "[3,] orange pineapple \n",
              "[4,] mango  watermelon"
            ],
            "text/latex": "A matrix: 4 × 2 of type chr\n\\begin{tabular}{ll}\n\t apple  & cherry    \\\\\n\t banana & grape     \\\\\n\t orange & pineapple \\\\\n\t mango  & watermelon\\\\\n\\end{tabular}\n",
            "text/markdown": "\nA matrix: 4 × 2 of type chr\n\n| apple  | cherry     |\n| banana | grape      |\n| orange | pineapple  |\n| mango  | watermelon |\n\n",
            "text/html": [
              "<table class=\"dataframe\">\n",
              "<caption>A matrix: 4 × 2 of type chr</caption>\n",
              "<tbody>\n",
              "\t<tr><td>apple </td><td>cherry    </td></tr>\n",
              "\t<tr><td>banana</td><td>grape     </td></tr>\n",
              "\t<tr><td>orange</td><td>pineapple </td></tr>\n",
              "\t<tr><td>mango </td><td>watermelon</td></tr>\n",
              "</tbody>\n",
              "</table>\n"
            ]
          },
          "metadata": {}
        },
        {
          "output_type": "display_data",
          "data": {
            "text/plain": [
              "     [,1]   [,2]   [,3]   [,4]      \n",
              "[1,] apple  cherry orange pineapple \n",
              "[2,] banana grape  mango  watermelon"
            ],
            "text/latex": "A matrix: 2 × 4 of type chr\n\\begin{tabular}{llll}\n\t apple  & cherry & orange & pineapple \\\\\n\t banana & grape  & mango  & watermelon\\\\\n\\end{tabular}\n",
            "text/markdown": "\nA matrix: 2 × 4 of type chr\n\n| apple  | cherry | orange | pineapple  |\n| banana | grape  | mango  | watermelon |\n\n",
            "text/html": [
              "<table class=\"dataframe\">\n",
              "<caption>A matrix: 2 × 4 of type chr</caption>\n",
              "<tbody>\n",
              "\t<tr><td>apple </td><td>cherry</td><td>orange</td><td>pineapple </td></tr>\n",
              "\t<tr><td>banana</td><td>grape </td><td>mango </td><td>watermelon</td></tr>\n",
              "</tbody>\n",
              "</table>\n"
            ]
          },
          "metadata": {}
        }
      ]
    },
    {
      "cell_type": "code",
      "source": [
        "# Combine matrices\n",
        "Matrix1 <- matrix(c(1:4), nrow = 2, ncol = 2)\n",
        "Matrix2 <- matrix(c(5:8), nrow = 2, ncol = 2)\n",
        "\n",
        "# Adding it as a rows\n",
        "Matrix_Combined <- rbind(Matrix1, Matrix2)\n",
        "Matrix_Combined\n",
        "\n",
        "# Adding it as a columns\n",
        "Matrix_Combined <- cbind(Matrix1, Matrix2)\n",
        "Matrix_Combined"
      ],
      "metadata": {
        "colab": {
          "base_uri": "https://localhost:8080/",
          "height": 326
        },
        "id": "FFT4PTG9WNAE",
        "outputId": "76352223-268b-40eb-d072-7c4ad7b40bba"
      },
      "execution_count": 75,
      "outputs": [
        {
          "output_type": "display_data",
          "data": {
            "text/plain": [
              "     [,1] [,2]\n",
              "[1,] 1    3   \n",
              "[2,] 2    4   \n",
              "[3,] 5    7   \n",
              "[4,] 6    8   "
            ],
            "text/latex": "A matrix: 4 × 2 of type int\n\\begin{tabular}{ll}\n\t 1 & 3\\\\\n\t 2 & 4\\\\\n\t 5 & 7\\\\\n\t 6 & 8\\\\\n\\end{tabular}\n",
            "text/markdown": "\nA matrix: 4 × 2 of type int\n\n| 1 | 3 |\n| 2 | 4 |\n| 5 | 7 |\n| 6 | 8 |\n\n",
            "text/html": [
              "<table class=\"dataframe\">\n",
              "<caption>A matrix: 4 × 2 of type int</caption>\n",
              "<tbody>\n",
              "\t<tr><td>1</td><td>3</td></tr>\n",
              "\t<tr><td>2</td><td>4</td></tr>\n",
              "\t<tr><td>5</td><td>7</td></tr>\n",
              "\t<tr><td>6</td><td>8</td></tr>\n",
              "</tbody>\n",
              "</table>\n"
            ]
          },
          "metadata": {}
        },
        {
          "output_type": "display_data",
          "data": {
            "text/plain": [
              "     [,1] [,2] [,3] [,4]\n",
              "[1,] 1    3    5    7   \n",
              "[2,] 2    4    6    8   "
            ],
            "text/latex": "A matrix: 2 × 4 of type int\n\\begin{tabular}{llll}\n\t 1 & 3 & 5 & 7\\\\\n\t 2 & 4 & 6 & 8\\\\\n\\end{tabular}\n",
            "text/markdown": "\nA matrix: 2 × 4 of type int\n\n| 1 | 3 | 5 | 7 |\n| 2 | 4 | 6 | 8 |\n\n",
            "text/html": [
              "<table class=\"dataframe\">\n",
              "<caption>A matrix: 2 × 4 of type int</caption>\n",
              "<tbody>\n",
              "\t<tr><td>1</td><td>3</td><td>5</td><td>7</td></tr>\n",
              "\t<tr><td>2</td><td>4</td><td>6</td><td>8</td></tr>\n",
              "</tbody>\n",
              "</table>\n"
            ]
          },
          "metadata": {}
        }
      ]
    },
    {
      "cell_type": "markdown",
      "source": [
        "#Arrays\n",
        "Compared to matrices, arrays can have more than two dimensions.\n",
        "\n",
        "We can use the array() function to create an array, and the dim parameter to specify the dimensions:"
      ],
      "metadata": {
        "id": "6uabK-X4WmRB"
      }
    },
    {
      "cell_type": "code",
      "source": [
        "# An array with one dimension with values ranging from 1 to 24\n",
        "thisarray <- c(1:24)\n",
        "thisarray\n",
        "\n",
        "# An array with more than one dimension\n",
        "multiarray <- array(thisarray, dim = c(4, 3, 2))\n",
        "multiarray"
      ],
      "metadata": {
        "colab": {
          "base_uri": "https://localhost:8080/",
          "height": 52
        },
        "id": "PFYj8frGXCO7",
        "outputId": "e2906ef5-a186-49e2-cd9c-11c4984247d5"
      },
      "execution_count": 79,
      "outputs": [
        {
          "output_type": "display_data",
          "data": {
            "text/plain": [
              " [1]  1  2  3  4  5  6  7  8  9 10 11 12 13 14 15 16 17 18 19 20 21 22 23 24"
            ],
            "text/latex": "\\begin{enumerate*}\n\\item 1\n\\item 2\n\\item 3\n\\item 4\n\\item 5\n\\item 6\n\\item 7\n\\item 8\n\\item 9\n\\item 10\n\\item 11\n\\item 12\n\\item 13\n\\item 14\n\\item 15\n\\item 16\n\\item 17\n\\item 18\n\\item 19\n\\item 20\n\\item 21\n\\item 22\n\\item 23\n\\item 24\n\\end{enumerate*}\n",
            "text/markdown": "1. 1\n2. 2\n3. 3\n4. 4\n5. 5\n6. 6\n7. 7\n8. 8\n9. 9\n10. 10\n11. 11\n12. 12\n13. 13\n14. 14\n15. 15\n16. 16\n17. 17\n18. 18\n19. 19\n20. 20\n21. 21\n22. 22\n23. 23\n24. 24\n\n\n",
            "text/html": [
              "<style>\n",
              ".list-inline {list-style: none; margin:0; padding: 0}\n",
              ".list-inline>li {display: inline-block}\n",
              ".list-inline>li:not(:last-child)::after {content: \"\\00b7\"; padding: 0 .5ex}\n",
              "</style>\n",
              "<ol class=list-inline><li>1</li><li>2</li><li>3</li><li>4</li><li>5</li><li>6</li><li>7</li><li>8</li><li>9</li><li>10</li><li>11</li><li>12</li><li>13</li><li>14</li><li>15</li><li>16</li><li>17</li><li>18</li><li>19</li><li>20</li><li>21</li><li>22</li><li>23</li><li>24</li></ol>\n"
            ]
          },
          "metadata": {}
        },
        {
          "output_type": "display_data",
          "data": {
            "text/plain": [
              ", , 1\n",
              "\n",
              "     [,1] [,2] [,3]\n",
              "[1,]    1    5    9\n",
              "[2,]    2    6   10\n",
              "[3,]    3    7   11\n",
              "[4,]    4    8   12\n",
              "\n",
              ", , 2\n",
              "\n",
              "     [,1] [,2] [,3]\n",
              "[1,]   13   17   21\n",
              "[2,]   14   18   22\n",
              "[3,]   15   19   23\n",
              "[4,]   16   20   24\n"
            ],
            "text/latex": "\\begin{enumerate*}\n\\item 1\n\\item 2\n\\item 3\n\\item 4\n\\item 5\n\\item 6\n\\item 7\n\\item 8\n\\item 9\n\\item 10\n\\item 11\n\\item 12\n\\item 13\n\\item 14\n\\item 15\n\\item 16\n\\item 17\n\\item 18\n\\item 19\n\\item 20\n\\item 21\n\\item 22\n\\item 23\n\\item 24\n\\end{enumerate*}\n",
            "text/markdown": "1. 1\n2. 2\n3. 3\n4. 4\n5. 5\n6. 6\n7. 7\n8. 8\n9. 9\n10. 10\n11. 11\n12. 12\n13. 13\n14. 14\n15. 15\n16. 16\n17. 17\n18. 18\n19. 19\n20. 20\n21. 21\n22. 22\n23. 23\n24. 24\n\n\n",
            "text/html": [
              "<style>\n",
              ".list-inline {list-style: none; margin:0; padding: 0}\n",
              ".list-inline>li {display: inline-block}\n",
              ".list-inline>li:not(:last-child)::after {content: \"\\00b7\"; padding: 0 .5ex}\n",
              "</style>\n",
              "<ol class=list-inline><li>1</li><li>2</li><li>3</li><li>4</li><li>5</li><li>6</li><li>7</li><li>8</li><li>9</li><li>10</li><li>11</li><li>12</li><li>13</li><li>14</li><li>15</li><li>16</li><li>17</li><li>18</li><li>19</li><li>20</li><li>21</li><li>22</li><li>23</li><li>24</li></ol>\n"
            ]
          },
          "metadata": {}
        }
      ]
    },
    {
      "cell_type": "markdown",
      "source": [
        "Example Explained\n",
        "In the example above we create an array with the values 1 to 24.\n",
        "\n",
        "How does dim=c(4,3,2) work?\n",
        "The first and second number in the bracket specifies the amount of rows and columns.\n",
        "The last number in the bracket specifies how many dimensions we want.\n",
        "\n",
        "Note: Arrays can only have one data type."
      ],
      "metadata": {
        "id": "7S9qlPPnYOFW"
      }
    },
    {
      "cell_type": "code",
      "source": [
        "thisarray <- c(1:24)\n",
        "multiarray <- array(thisarray, dim = c(4, 3, 2))\n",
        "multiarray\n",
        "\n",
        "multiarray[2, 3, 2]\n",
        "# the syntax is as follow: array[row position, column position, matrix level]"
      ],
      "metadata": {
        "colab": {
          "base_uri": "https://localhost:8080/",
          "height": 52
        },
        "id": "twYge5tTXF-d",
        "outputId": "0dad6076-8ff0-4b52-f4d3-1768dcbae5a0"
      },
      "execution_count": 81,
      "outputs": [
        {
          "output_type": "display_data",
          "data": {
            "text/plain": [
              ", , 1\n",
              "\n",
              "     [,1] [,2] [,3]\n",
              "[1,]    1    5    9\n",
              "[2,]    2    6   10\n",
              "[3,]    3    7   11\n",
              "[4,]    4    8   12\n",
              "\n",
              ", , 2\n",
              "\n",
              "     [,1] [,2] [,3]\n",
              "[1,]   13   17   21\n",
              "[2,]   14   18   22\n",
              "[3,]   15   19   23\n",
              "[4,]   16   20   24\n"
            ],
            "text/latex": "\\begin{enumerate*}\n\\item 1\n\\item 2\n\\item 3\n\\item 4\n\\item 5\n\\item 6\n\\item 7\n\\item 8\n\\item 9\n\\item 10\n\\item 11\n\\item 12\n\\item 13\n\\item 14\n\\item 15\n\\item 16\n\\item 17\n\\item 18\n\\item 19\n\\item 20\n\\item 21\n\\item 22\n\\item 23\n\\item 24\n\\end{enumerate*}\n",
            "text/markdown": "1. 1\n2. 2\n3. 3\n4. 4\n5. 5\n6. 6\n7. 7\n8. 8\n9. 9\n10. 10\n11. 11\n12. 12\n13. 13\n14. 14\n15. 15\n16. 16\n17. 17\n18. 18\n19. 19\n20. 20\n21. 21\n22. 22\n23. 23\n24. 24\n\n\n",
            "text/html": [
              "<style>\n",
              ".list-inline {list-style: none; margin:0; padding: 0}\n",
              ".list-inline>li {display: inline-block}\n",
              ".list-inline>li:not(:last-child)::after {content: \"\\00b7\"; padding: 0 .5ex}\n",
              "</style>\n",
              "<ol class=list-inline><li>1</li><li>2</li><li>3</li><li>4</li><li>5</li><li>6</li><li>7</li><li>8</li><li>9</li><li>10</li><li>11</li><li>12</li><li>13</li><li>14</li><li>15</li><li>16</li><li>17</li><li>18</li><li>19</li><li>20</li><li>21</li><li>22</li><li>23</li><li>24</li></ol>\n"
            ]
          },
          "metadata": {}
        },
        {
          "output_type": "display_data",
          "data": {
            "text/plain": [
              "[1] 22"
            ],
            "text/latex": "22",
            "text/markdown": "22",
            "text/html": [
              "22"
            ]
          },
          "metadata": {}
        }
      ]
    },
    {
      "cell_type": "code",
      "source": [
        "# You can also access the whole row or column from a matrix in an array, by using the c() function:\n",
        "thisarray <- c(1:24)\n",
        "\n",
        "# Access all the items from the first row from matrix one\n",
        "multiarray <- array(thisarray, dim = c(4, 3, 2))\n",
        "multiarray[c(1),,1]\n",
        "\n",
        "# Access all the items from the first column from matrix one\n",
        "multiarray <- array(thisarray, dim = c(4, 3, 2))\n",
        "multiarray[,c(1),1]\n",
        "# A comma (,) before c() means that we want to access the column.\n",
        "\n",
        "# A comma (,) after c() means that we want to access the row."
      ],
      "metadata": {
        "colab": {
          "base_uri": "https://localhost:8080/",
          "height": 52
        },
        "id": "UY_21MIoXzHV",
        "outputId": "38d67803-9ba3-4b3f-b081-72161365238f"
      },
      "execution_count": 82,
      "outputs": [
        {
          "output_type": "display_data",
          "data": {
            "text/plain": [
              "[1] 1 5 9"
            ],
            "text/latex": "\\begin{enumerate*}\n\\item 1\n\\item 5\n\\item 9\n\\end{enumerate*}\n",
            "text/markdown": "1. 1\n2. 5\n3. 9\n\n\n",
            "text/html": [
              "<style>\n",
              ".list-inline {list-style: none; margin:0; padding: 0}\n",
              ".list-inline>li {display: inline-block}\n",
              ".list-inline>li:not(:last-child)::after {content: \"\\00b7\"; padding: 0 .5ex}\n",
              "</style>\n",
              "<ol class=list-inline><li>1</li><li>5</li><li>9</li></ol>\n"
            ]
          },
          "metadata": {}
        },
        {
          "output_type": "display_data",
          "data": {
            "text/plain": [
              "[1] 1 2 3 4"
            ],
            "text/latex": "\\begin{enumerate*}\n\\item 1\n\\item 2\n\\item 3\n\\item 4\n\\end{enumerate*}\n",
            "text/markdown": "1. 1\n2. 2\n3. 3\n4. 4\n\n\n",
            "text/html": [
              "<style>\n",
              ".list-inline {list-style: none; margin:0; padding: 0}\n",
              ".list-inline>li {display: inline-block}\n",
              ".list-inline>li:not(:last-child)::after {content: \"\\00b7\"; padding: 0 .5ex}\n",
              "</style>\n",
              "<ol class=list-inline><li>1</li><li>2</li><li>3</li><li>4</li></ol>\n"
            ]
          },
          "metadata": {}
        }
      ]
    },
    {
      "cell_type": "code",
      "source": [
        "# To find out if a specified item is present in an array, use the %in% operator:\n",
        "thisarray <- c(1:24)\n",
        "multiarray <- array(thisarray, dim = c(4, 3, 2))\n",
        "\n",
        "2 %in% multiarray"
      ],
      "metadata": {
        "colab": {
          "base_uri": "https://localhost:8080/",
          "height": 35
        },
        "id": "qte8yyhKY6vs",
        "outputId": "b73a4d85-b25d-4a67-f9e6-da41a2ef7970"
      },
      "execution_count": 83,
      "outputs": [
        {
          "output_type": "display_data",
          "data": {
            "text/plain": [
              "[1] TRUE"
            ],
            "text/latex": "TRUE",
            "text/markdown": "TRUE",
            "text/html": [
              "TRUE"
            ]
          },
          "metadata": {}
        }
      ]
    },
    {
      "cell_type": "code",
      "source": [
        "# Use the dim() function to find the amount of rows and columns in an array:\n",
        "# You can loop through the array items by using a for loop:\n",
        "thisarray <- c(1:24)\n",
        "multiarray <- array(thisarray, dim = c(4, 3, 2))\n",
        "multiarray\n",
        "dim(multiarray)\n",
        "length(multiarray)"
      ],
      "metadata": {
        "colab": {
          "base_uri": "https://localhost:8080/",
          "height": 69
        },
        "id": "fl4Wf3GiZkOg",
        "outputId": "14520fd2-3f21-43ad-c213-19cb095466da"
      },
      "execution_count": 85,
      "outputs": [
        {
          "output_type": "display_data",
          "data": {
            "text/plain": [
              ", , 1\n",
              "\n",
              "     [,1] [,2] [,3]\n",
              "[1,]    1    5    9\n",
              "[2,]    2    6   10\n",
              "[3,]    3    7   11\n",
              "[4,]    4    8   12\n",
              "\n",
              ", , 2\n",
              "\n",
              "     [,1] [,2] [,3]\n",
              "[1,]   13   17   21\n",
              "[2,]   14   18   22\n",
              "[3,]   15   19   23\n",
              "[4,]   16   20   24\n"
            ],
            "text/latex": "\\begin{enumerate*}\n\\item 1\n\\item 2\n\\item 3\n\\item 4\n\\item 5\n\\item 6\n\\item 7\n\\item 8\n\\item 9\n\\item 10\n\\item 11\n\\item 12\n\\item 13\n\\item 14\n\\item 15\n\\item 16\n\\item 17\n\\item 18\n\\item 19\n\\item 20\n\\item 21\n\\item 22\n\\item 23\n\\item 24\n\\end{enumerate*}\n",
            "text/markdown": "1. 1\n2. 2\n3. 3\n4. 4\n5. 5\n6. 6\n7. 7\n8. 8\n9. 9\n10. 10\n11. 11\n12. 12\n13. 13\n14. 14\n15. 15\n16. 16\n17. 17\n18. 18\n19. 19\n20. 20\n21. 21\n22. 22\n23. 23\n24. 24\n\n\n",
            "text/html": [
              "<style>\n",
              ".list-inline {list-style: none; margin:0; padding: 0}\n",
              ".list-inline>li {display: inline-block}\n",
              ".list-inline>li:not(:last-child)::after {content: \"\\00b7\"; padding: 0 .5ex}\n",
              "</style>\n",
              "<ol class=list-inline><li>1</li><li>2</li><li>3</li><li>4</li><li>5</li><li>6</li><li>7</li><li>8</li><li>9</li><li>10</li><li>11</li><li>12</li><li>13</li><li>14</li><li>15</li><li>16</li><li>17</li><li>18</li><li>19</li><li>20</li><li>21</li><li>22</li><li>23</li><li>24</li></ol>\n"
            ]
          },
          "metadata": {}
        },
        {
          "output_type": "display_data",
          "data": {
            "text/plain": [
              "[1] 4 3 2"
            ],
            "text/latex": "\\begin{enumerate*}\n\\item 4\n\\item 3\n\\item 2\n\\end{enumerate*}\n",
            "text/markdown": "1. 4\n2. 3\n3. 2\n\n\n",
            "text/html": [
              "<style>\n",
              ".list-inline {list-style: none; margin:0; padding: 0}\n",
              ".list-inline>li {display: inline-block}\n",
              ".list-inline>li:not(:last-child)::after {content: \"\\00b7\"; padding: 0 .5ex}\n",
              "</style>\n",
              "<ol class=list-inline><li>4</li><li>3</li><li>2</li></ol>\n"
            ]
          },
          "metadata": {}
        },
        {
          "output_type": "display_data",
          "data": {
            "text/plain": [
              "[1] 24"
            ],
            "text/latex": "24",
            "text/markdown": "24",
            "text/html": [
              "24"
            ]
          },
          "metadata": {}
        }
      ]
    },
    {
      "cell_type": "code",
      "source": [
        "# You can loop through the array items by using a for loop:\n",
        "thisarray <- c(1:24)\n",
        "multiarray <- array(thisarray, dim = c(4, 3, 2))\n",
        "\n",
        "for(x in multiarray){\n",
        "  print(x)\n",
        "}"
      ],
      "metadata": {
        "colab": {
          "base_uri": "https://localhost:8080/"
        },
        "id": "SIDXvz6yZtON",
        "outputId": "9978955a-d8f3-4dcc-9cce-b3165e3273b9"
      },
      "execution_count": 86,
      "outputs": [
        {
          "output_type": "stream",
          "name": "stdout",
          "text": [
            "[1] 1\n",
            "[1] 2\n",
            "[1] 3\n",
            "[1] 4\n",
            "[1] 5\n",
            "[1] 6\n",
            "[1] 7\n",
            "[1] 8\n",
            "[1] 9\n",
            "[1] 10\n",
            "[1] 11\n",
            "[1] 12\n",
            "[1] 13\n",
            "[1] 14\n",
            "[1] 15\n",
            "[1] 16\n",
            "[1] 17\n",
            "[1] 18\n",
            "[1] 19\n",
            "[1] 20\n",
            "[1] 21\n",
            "[1] 22\n",
            "[1] 23\n",
            "[1] 24\n"
          ]
        }
      ]
    },
    {
      "cell_type": "markdown",
      "source": [
        "#Data Frames\n",
        "Data Frames are data displayed in a format as a table.\n",
        "\n",
        "Data Frames can have different types of data inside it. While the first column can be character, the second and third can be numeric or logical. However, each column should have the same type of data.\n",
        "\n",
        "Use the data.frame() function to create a data frame:"
      ],
      "metadata": {
        "id": "k-__9EWtaGlK"
      }
    },
    {
      "cell_type": "code",
      "source": [
        "# Create a data frame\n",
        "Data_Frame <- data.frame (\n",
        "  Training = c(\"Strength\", \"Stamina\", \"Other\"),\n",
        "  Pulse = c(100, 150, 120),\n",
        "  Duration = c(60, 30, 45)\n",
        ")\n",
        "\n",
        "# Print the data frame\n",
        "Data_Frame"
      ],
      "metadata": {
        "colab": {
          "base_uri": "https://localhost:8080/",
          "height": 192
        },
        "id": "zCg_L-dEaa9t",
        "outputId": "e1c8e818-96b3-4df6-9511-1ec3718e2f07"
      },
      "execution_count": 87,
      "outputs": [
        {
          "output_type": "display_data",
          "data": {
            "text/plain": [
              "  Training Pulse Duration\n",
              "1 Strength 100   60      \n",
              "2 Stamina  150   30      \n",
              "3 Other    120   45      "
            ],
            "text/latex": "A data.frame: 3 × 3\n\\begin{tabular}{lll}\n Training & Pulse & Duration\\\\\n <chr> & <dbl> & <dbl>\\\\\n\\hline\n\t Strength & 100 & 60\\\\\n\t Stamina  & 150 & 30\\\\\n\t Other    & 120 & 45\\\\\n\\end{tabular}\n",
            "text/markdown": "\nA data.frame: 3 × 3\n\n| Training &lt;chr&gt; | Pulse &lt;dbl&gt; | Duration &lt;dbl&gt; |\n|---|---|---|\n| Strength | 100 | 60 |\n| Stamina  | 150 | 30 |\n| Other    | 120 | 45 |\n\n",
            "text/html": [
              "<table class=\"dataframe\">\n",
              "<caption>A data.frame: 3 × 3</caption>\n",
              "<thead>\n",
              "\t<tr><th scope=col>Training</th><th scope=col>Pulse</th><th scope=col>Duration</th></tr>\n",
              "\t<tr><th scope=col>&lt;chr&gt;</th><th scope=col>&lt;dbl&gt;</th><th scope=col>&lt;dbl&gt;</th></tr>\n",
              "</thead>\n",
              "<tbody>\n",
              "\t<tr><td>Strength</td><td>100</td><td>60</td></tr>\n",
              "\t<tr><td>Stamina </td><td>150</td><td>30</td></tr>\n",
              "\t<tr><td>Other   </td><td>120</td><td>45</td></tr>\n",
              "</tbody>\n",
              "</table>\n"
            ]
          },
          "metadata": {}
        }
      ]
    },
    {
      "cell_type": "code",
      "source": [
        "# Use the summary() function to summarize the data from a Data Frame:\n",
        "Data_Frame <- data.frame (\n",
        "  Training = c(\"Strength\", \"Stamina\", \"Other\"),\n",
        "  Pulse = c(100, 150, 120),\n",
        "  Duration = c(60, 30, 45)\n",
        ")\n",
        "\n",
        "Data_Frame\n",
        "\n",
        "summary(Data_Frame)"
      ],
      "metadata": {
        "colab": {
          "base_uri": "https://localhost:8080/",
          "height": 320
        },
        "id": "v-d_0zAsakwN",
        "outputId": "6355fe94-7ada-448d-f931-71a845cc6057"
      },
      "execution_count": 88,
      "outputs": [
        {
          "output_type": "display_data",
          "data": {
            "text/plain": [
              "  Training Pulse Duration\n",
              "1 Strength 100   60      \n",
              "2 Stamina  150   30      \n",
              "3 Other    120   45      "
            ],
            "text/latex": "A data.frame: 3 × 3\n\\begin{tabular}{lll}\n Training & Pulse & Duration\\\\\n <chr> & <dbl> & <dbl>\\\\\n\\hline\n\t Strength & 100 & 60\\\\\n\t Stamina  & 150 & 30\\\\\n\t Other    & 120 & 45\\\\\n\\end{tabular}\n",
            "text/markdown": "\nA data.frame: 3 × 3\n\n| Training &lt;chr&gt; | Pulse &lt;dbl&gt; | Duration &lt;dbl&gt; |\n|---|---|---|\n| Strength | 100 | 60 |\n| Stamina  | 150 | 30 |\n| Other    | 120 | 45 |\n\n",
            "text/html": [
              "<table class=\"dataframe\">\n",
              "<caption>A data.frame: 3 × 3</caption>\n",
              "<thead>\n",
              "\t<tr><th scope=col>Training</th><th scope=col>Pulse</th><th scope=col>Duration</th></tr>\n",
              "\t<tr><th scope=col>&lt;chr&gt;</th><th scope=col>&lt;dbl&gt;</th><th scope=col>&lt;dbl&gt;</th></tr>\n",
              "</thead>\n",
              "<tbody>\n",
              "\t<tr><td>Strength</td><td>100</td><td>60</td></tr>\n",
              "\t<tr><td>Stamina </td><td>150</td><td>30</td></tr>\n",
              "\t<tr><td>Other   </td><td>120</td><td>45</td></tr>\n",
              "</tbody>\n",
              "</table>\n"
            ]
          },
          "metadata": {}
        },
        {
          "output_type": "display_data",
          "data": {
            "text/plain": [
              "   Training             Pulse          Duration   \n",
              " Length:3           Min.   :100.0   Min.   :30.0  \n",
              " Class :character   1st Qu.:110.0   1st Qu.:37.5  \n",
              " Mode  :character   Median :120.0   Median :45.0  \n",
              "                    Mean   :123.3   Mean   :45.0  \n",
              "                    3rd Qu.:135.0   3rd Qu.:52.5  \n",
              "                    Max.   :150.0   Max.   :60.0  "
            ]
          },
          "metadata": {}
        }
      ]
    },
    {
      "cell_type": "markdown",
      "source": [
        "We can use single brackets [ ], double brackets [[ ]] or $ to access columns from a data frame:"
      ],
      "metadata": {
        "id": "hqBWjLnSaxug"
      }
    },
    {
      "cell_type": "code",
      "source": [
        "Data_Frame <- data.frame (\n",
        "  Training = c(\"Strength\", \"Stamina\", \"Other\"),\n",
        "  Pulse = c(100, 150, 120),\n",
        "  Duration = c(60, 30, 45)\n",
        ")\n",
        "\n",
        "Data_Frame[1]\n",
        "\n",
        "Data_Frame[[\"Training\"]]\n",
        "\n",
        "Data_Frame$Training"
      ],
      "metadata": {
        "colab": {
          "base_uri": "https://localhost:8080/",
          "height": 261
        },
        "id": "rOno9zgca7Vy",
        "outputId": "3169a12c-3bc4-4143-a0aa-4d2163254b93"
      },
      "execution_count": 89,
      "outputs": [
        {
          "output_type": "display_data",
          "data": {
            "text/plain": [
              "  Training\n",
              "1 Strength\n",
              "2 Stamina \n",
              "3 Other   "
            ],
            "text/latex": "A data.frame: 3 × 1\n\\begin{tabular}{l}\n Training\\\\\n <chr>\\\\\n\\hline\n\t Strength\\\\\n\t Stamina \\\\\n\t Other   \\\\\n\\end{tabular}\n",
            "text/markdown": "\nA data.frame: 3 × 1\n\n| Training &lt;chr&gt; |\n|---|\n| Strength |\n| Stamina  |\n| Other    |\n\n",
            "text/html": [
              "<table class=\"dataframe\">\n",
              "<caption>A data.frame: 3 × 1</caption>\n",
              "<thead>\n",
              "\t<tr><th scope=col>Training</th></tr>\n",
              "\t<tr><th scope=col>&lt;chr&gt;</th></tr>\n",
              "</thead>\n",
              "<tbody>\n",
              "\t<tr><td>Strength</td></tr>\n",
              "\t<tr><td>Stamina </td></tr>\n",
              "\t<tr><td>Other   </td></tr>\n",
              "</tbody>\n",
              "</table>\n"
            ]
          },
          "metadata": {}
        },
        {
          "output_type": "display_data",
          "data": {
            "text/plain": [
              "[1] \"Strength\" \"Stamina\"  \"Other\"   "
            ],
            "text/latex": "\\begin{enumerate*}\n\\item 'Strength'\n\\item 'Stamina'\n\\item 'Other'\n\\end{enumerate*}\n",
            "text/markdown": "1. 'Strength'\n2. 'Stamina'\n3. 'Other'\n\n\n",
            "text/html": [
              "<style>\n",
              ".list-inline {list-style: none; margin:0; padding: 0}\n",
              ".list-inline>li {display: inline-block}\n",
              ".list-inline>li:not(:last-child)::after {content: \"\\00b7\"; padding: 0 .5ex}\n",
              "</style>\n",
              "<ol class=list-inline><li>'Strength'</li><li>'Stamina'</li><li>'Other'</li></ol>\n"
            ]
          },
          "metadata": {}
        },
        {
          "output_type": "display_data",
          "data": {
            "text/plain": [
              "[1] \"Strength\" \"Stamina\"  \"Other\"   "
            ],
            "text/latex": "\\begin{enumerate*}\n\\item 'Strength'\n\\item 'Stamina'\n\\item 'Other'\n\\end{enumerate*}\n",
            "text/markdown": "1. 'Strength'\n2. 'Stamina'\n3. 'Other'\n\n\n",
            "text/html": [
              "<style>\n",
              ".list-inline {list-style: none; margin:0; padding: 0}\n",
              ".list-inline>li {display: inline-block}\n",
              ".list-inline>li:not(:last-child)::after {content: \"\\00b7\"; padding: 0 .5ex}\n",
              "</style>\n",
              "<ol class=list-inline><li>'Strength'</li><li>'Stamina'</li><li>'Other'</li></ol>\n"
            ]
          },
          "metadata": {}
        }
      ]
    },
    {
      "cell_type": "code",
      "source": [
        "# Use the rbind() function to add new rows in a Data Frame:\n",
        "Data_Frame <- data.frame (\n",
        "  Training = c(\"Strength\", \"Stamina\", \"Other\"),\n",
        "  Pulse = c(100, 150, 120),\n",
        "  Duration = c(60, 30, 45)\n",
        ")\n",
        "\n",
        "# Add a new row\n",
        "New_row_DF <- rbind(Data_Frame, c(\"Strength\", 110, 110))\n",
        "\n",
        "# Print the new row\n",
        "New_row_DF"
      ],
      "metadata": {
        "colab": {
          "base_uri": "https://localhost:8080/",
          "height": 223
        },
        "id": "fpq0L7TPbGzV",
        "outputId": "693b7e1b-9fdb-463f-e0a3-3a52cfaa2081"
      },
      "execution_count": 90,
      "outputs": [
        {
          "output_type": "display_data",
          "data": {
            "text/plain": [
              "  Training Pulse Duration\n",
              "1 Strength 100   60      \n",
              "2 Stamina  150   30      \n",
              "3 Other    120   45      \n",
              "4 Strength 110   110     "
            ],
            "text/latex": "A data.frame: 4 × 3\n\\begin{tabular}{lll}\n Training & Pulse & Duration\\\\\n <chr> & <chr> & <chr>\\\\\n\\hline\n\t Strength & 100 & 60 \\\\\n\t Stamina  & 150 & 30 \\\\\n\t Other    & 120 & 45 \\\\\n\t Strength & 110 & 110\\\\\n\\end{tabular}\n",
            "text/markdown": "\nA data.frame: 4 × 3\n\n| Training &lt;chr&gt; | Pulse &lt;chr&gt; | Duration &lt;chr&gt; |\n|---|---|---|\n| Strength | 100 | 60  |\n| Stamina  | 150 | 30  |\n| Other    | 120 | 45  |\n| Strength | 110 | 110 |\n\n",
            "text/html": [
              "<table class=\"dataframe\">\n",
              "<caption>A data.frame: 4 × 3</caption>\n",
              "<thead>\n",
              "\t<tr><th scope=col>Training</th><th scope=col>Pulse</th><th scope=col>Duration</th></tr>\n",
              "\t<tr><th scope=col>&lt;chr&gt;</th><th scope=col>&lt;chr&gt;</th><th scope=col>&lt;chr&gt;</th></tr>\n",
              "</thead>\n",
              "<tbody>\n",
              "\t<tr><td>Strength</td><td>100</td><td>60 </td></tr>\n",
              "\t<tr><td>Stamina </td><td>150</td><td>30 </td></tr>\n",
              "\t<tr><td>Other   </td><td>120</td><td>45 </td></tr>\n",
              "\t<tr><td>Strength</td><td>110</td><td>110</td></tr>\n",
              "</tbody>\n",
              "</table>\n"
            ]
          },
          "metadata": {}
        }
      ]
    },
    {
      "cell_type": "code",
      "source": [
        "# Use the cbind() function to add new columns in a Data Frame:\n",
        "Data_Frame <- data.frame (\n",
        "  Training = c(\"Strength\", \"Stamina\", \"Other\"),\n",
        "  Pulse = c(100, 150, 120),\n",
        "  Duration = c(60, 30, 45)\n",
        ")\n",
        "\n",
        "# Add a new column\n",
        "New_col_DF <- cbind(Data_Frame, Steps = c(1000, 6000, 2000))\n",
        "\n",
        "# Print the new column\n",
        "New_col_DF"
      ],
      "metadata": {
        "colab": {
          "base_uri": "https://localhost:8080/",
          "height": 192
        },
        "id": "FybMu1CUcPhY",
        "outputId": "ac9d887e-5831-4e40-9bce-321302d4089c"
      },
      "execution_count": 91,
      "outputs": [
        {
          "output_type": "display_data",
          "data": {
            "text/plain": [
              "  Training Pulse Duration Steps\n",
              "1 Strength 100   60       1000 \n",
              "2 Stamina  150   30       6000 \n",
              "3 Other    120   45       2000 "
            ],
            "text/latex": "A data.frame: 3 × 4\n\\begin{tabular}{llll}\n Training & Pulse & Duration & Steps\\\\\n <chr> & <dbl> & <dbl> & <dbl>\\\\\n\\hline\n\t Strength & 100 & 60 & 1000\\\\\n\t Stamina  & 150 & 30 & 6000\\\\\n\t Other    & 120 & 45 & 2000\\\\\n\\end{tabular}\n",
            "text/markdown": "\nA data.frame: 3 × 4\n\n| Training &lt;chr&gt; | Pulse &lt;dbl&gt; | Duration &lt;dbl&gt; | Steps &lt;dbl&gt; |\n|---|---|---|---|\n| Strength | 100 | 60 | 1000 |\n| Stamina  | 150 | 30 | 6000 |\n| Other    | 120 | 45 | 2000 |\n\n",
            "text/html": [
              "<table class=\"dataframe\">\n",
              "<caption>A data.frame: 3 × 4</caption>\n",
              "<thead>\n",
              "\t<tr><th scope=col>Training</th><th scope=col>Pulse</th><th scope=col>Duration</th><th scope=col>Steps</th></tr>\n",
              "\t<tr><th scope=col>&lt;chr&gt;</th><th scope=col>&lt;dbl&gt;</th><th scope=col>&lt;dbl&gt;</th><th scope=col>&lt;dbl&gt;</th></tr>\n",
              "</thead>\n",
              "<tbody>\n",
              "\t<tr><td>Strength</td><td>100</td><td>60</td><td>1000</td></tr>\n",
              "\t<tr><td>Stamina </td><td>150</td><td>30</td><td>6000</td></tr>\n",
              "\t<tr><td>Other   </td><td>120</td><td>45</td><td>2000</td></tr>\n",
              "</tbody>\n",
              "</table>\n"
            ]
          },
          "metadata": {}
        }
      ]
    },
    {
      "cell_type": "code",
      "source": [
        "# Use the c() function to remove rows and columns in a Data Frame:\n",
        "Data_Frame <- data.frame (\n",
        "  Training = c(\"Strength\", \"Stamina\", \"Other\"),\n",
        "  Pulse = c(100, 150, 120),\n",
        "  Duration = c(60, 30, 45)\n",
        ")\n",
        "\n",
        "# Remove the first row and column\n",
        "Data_Frame_New <- Data_Frame[-c(1), -c(1)]\n",
        "\n",
        "# Print the new data frame\n",
        "Data_Frame_New"
      ],
      "metadata": {
        "colab": {
          "base_uri": "https://localhost:8080/",
          "height": 161
        },
        "id": "TU28TNfRcZo2",
        "outputId": "396000e2-577b-47a7-e7e6-acc1fbfaff24"
      },
      "execution_count": 92,
      "outputs": [
        {
          "output_type": "display_data",
          "data": {
            "text/plain": [
              "  Pulse Duration\n",
              "2 150   30      \n",
              "3 120   45      "
            ],
            "text/latex": "A data.frame: 2 × 2\n\\begin{tabular}{r|ll}\n  & Pulse & Duration\\\\\n  & <dbl> & <dbl>\\\\\n\\hline\n\t2 & 150 & 30\\\\\n\t3 & 120 & 45\\\\\n\\end{tabular}\n",
            "text/markdown": "\nA data.frame: 2 × 2\n\n| <!--/--> | Pulse &lt;dbl&gt; | Duration &lt;dbl&gt; |\n|---|---|---|\n| 2 | 150 | 30 |\n| 3 | 120 | 45 |\n\n",
            "text/html": [
              "<table class=\"dataframe\">\n",
              "<caption>A data.frame: 2 × 2</caption>\n",
              "<thead>\n",
              "\t<tr><th></th><th scope=col>Pulse</th><th scope=col>Duration</th></tr>\n",
              "\t<tr><th></th><th scope=col>&lt;dbl&gt;</th><th scope=col>&lt;dbl&gt;</th></tr>\n",
              "</thead>\n",
              "<tbody>\n",
              "\t<tr><th scope=row>2</th><td>150</td><td>30</td></tr>\n",
              "\t<tr><th scope=row>3</th><td>120</td><td>45</td></tr>\n",
              "</tbody>\n",
              "</table>\n"
            ]
          },
          "metadata": {}
        }
      ]
    },
    {
      "cell_type": "code",
      "source": [
        "# Use the dim() function to find the amount of rows and columns in a Data Frame:\n",
        "# Use the length() function to find the number of columns in a Data Frame (similar to ncol()):\n",
        "Data_Frame <- data.frame (\n",
        "  Training = c(\"Strength\", \"Stamina\", \"Other\"),\n",
        "  Pulse = c(100, 150, 120),\n",
        "  Duration = c(60, 30, 45)\n",
        ")\n",
        "\n",
        "dim(Data_Frame)\n",
        "length(Data_Frame)"
      ],
      "metadata": {
        "colab": {
          "base_uri": "https://localhost:8080/",
          "height": 52
        },
        "id": "Ipw3LVuycfZd",
        "outputId": "42672015-9bc1-4115-d010-b0bd115e46a4"
      },
      "execution_count": 94,
      "outputs": [
        {
          "output_type": "display_data",
          "data": {
            "text/plain": [
              "[1] 3 3"
            ],
            "text/latex": "\\begin{enumerate*}\n\\item 3\n\\item 3\n\\end{enumerate*}\n",
            "text/markdown": "1. 3\n2. 3\n\n\n",
            "text/html": [
              "<style>\n",
              ".list-inline {list-style: none; margin:0; padding: 0}\n",
              ".list-inline>li {display: inline-block}\n",
              ".list-inline>li:not(:last-child)::after {content: \"\\00b7\"; padding: 0 .5ex}\n",
              "</style>\n",
              "<ol class=list-inline><li>3</li><li>3</li></ol>\n"
            ]
          },
          "metadata": {}
        },
        {
          "output_type": "display_data",
          "data": {
            "text/plain": [
              "[1] 3"
            ],
            "text/latex": "3",
            "text/markdown": "3",
            "text/html": [
              "3"
            ]
          },
          "metadata": {}
        }
      ]
    },
    {
      "cell_type": "markdown",
      "source": [
        "You can also use the ncol() function to find the number of columns and nrow() to find the number of rows:"
      ],
      "metadata": {
        "id": "_rv_QG0ecw21"
      }
    },
    {
      "cell_type": "code",
      "source": [
        "Data_Frame <- data.frame (\n",
        "  Training = c(\"Strength\", \"Stamina\", \"Other\"),\n",
        "  Pulse = c(100, 150, 120),\n",
        "  Duration = c(60, 30, 45)\n",
        ")\n",
        "\n",
        "ncol(Data_Frame)\n",
        "nrow(Data_Frame)\n"
      ],
      "metadata": {
        "colab": {
          "base_uri": "https://localhost:8080/",
          "height": 52
        },
        "id": "vr2HSGBFdAju",
        "outputId": "ad60a3c0-ce2b-447d-8874-d4ae58ca7e5b"
      },
      "execution_count": 95,
      "outputs": [
        {
          "output_type": "display_data",
          "data": {
            "text/plain": [
              "[1] 3"
            ],
            "text/latex": "3",
            "text/markdown": "3",
            "text/html": [
              "3"
            ]
          },
          "metadata": {}
        },
        {
          "output_type": "display_data",
          "data": {
            "text/plain": [
              "[1] 3"
            ],
            "text/latex": "3",
            "text/markdown": "3",
            "text/html": [
              "3"
            ]
          },
          "metadata": {}
        }
      ]
    },
    {
      "cell_type": "code",
      "source": [
        "# Use the rbind() function to combine two or more data frames in R vertically:\n",
        "Data_Frame1 <- data.frame (\n",
        "  Training = c(\"Strength\", \"Stamina\", \"Other\"),\n",
        "  Pulse = c(100, 150, 120),\n",
        "  Duration = c(60, 30, 45)\n",
        ")\n",
        "\n",
        "Data_Frame2 <- data.frame (\n",
        "  Training = c(\"Stamina\", \"Stamina\", \"Strength\"),\n",
        "  Pulse = c(140, 150, 160),\n",
        "  Duration = c(30, 30, 20)\n",
        ")\n",
        "\n",
        "New_Data_Frame <- rbind(Data_Frame1, Data_Frame2)\n",
        "New_Data_Frame"
      ],
      "metadata": {
        "colab": {
          "base_uri": "https://localhost:8080/",
          "height": 286
        },
        "id": "vixLho8tdFyl",
        "outputId": "6a273384-4952-4fef-c99b-31111e14f924"
      },
      "execution_count": 96,
      "outputs": [
        {
          "output_type": "display_data",
          "data": {
            "text/plain": [
              "  Training Pulse Duration\n",
              "1 Strength 100   60      \n",
              "2 Stamina  150   30      \n",
              "3 Other    120   45      \n",
              "4 Stamina  140   30      \n",
              "5 Stamina  150   30      \n",
              "6 Strength 160   20      "
            ],
            "text/latex": "A data.frame: 6 × 3\n\\begin{tabular}{lll}\n Training & Pulse & Duration\\\\\n <chr> & <dbl> & <dbl>\\\\\n\\hline\n\t Strength & 100 & 60\\\\\n\t Stamina  & 150 & 30\\\\\n\t Other    & 120 & 45\\\\\n\t Stamina  & 140 & 30\\\\\n\t Stamina  & 150 & 30\\\\\n\t Strength & 160 & 20\\\\\n\\end{tabular}\n",
            "text/markdown": "\nA data.frame: 6 × 3\n\n| Training &lt;chr&gt; | Pulse &lt;dbl&gt; | Duration &lt;dbl&gt; |\n|---|---|---|\n| Strength | 100 | 60 |\n| Stamina  | 150 | 30 |\n| Other    | 120 | 45 |\n| Stamina  | 140 | 30 |\n| Stamina  | 150 | 30 |\n| Strength | 160 | 20 |\n\n",
            "text/html": [
              "<table class=\"dataframe\">\n",
              "<caption>A data.frame: 6 × 3</caption>\n",
              "<thead>\n",
              "\t<tr><th scope=col>Training</th><th scope=col>Pulse</th><th scope=col>Duration</th></tr>\n",
              "\t<tr><th scope=col>&lt;chr&gt;</th><th scope=col>&lt;dbl&gt;</th><th scope=col>&lt;dbl&gt;</th></tr>\n",
              "</thead>\n",
              "<tbody>\n",
              "\t<tr><td>Strength</td><td>100</td><td>60</td></tr>\n",
              "\t<tr><td>Stamina </td><td>150</td><td>30</td></tr>\n",
              "\t<tr><td>Other   </td><td>120</td><td>45</td></tr>\n",
              "\t<tr><td>Stamina </td><td>140</td><td>30</td></tr>\n",
              "\t<tr><td>Stamina </td><td>150</td><td>30</td></tr>\n",
              "\t<tr><td>Strength</td><td>160</td><td>20</td></tr>\n",
              "</tbody>\n",
              "</table>\n"
            ]
          },
          "metadata": {}
        }
      ]
    },
    {
      "cell_type": "code",
      "source": [
        "# And use the cbind() function to combine two or more data frames in R horizontally:\n",
        "Data_Frame3 <- data.frame (\n",
        "  Training = c(\"Strength\", \"Stamina\", \"Other\"),\n",
        "  Pulse = c(100, 150, 120),\n",
        "  Duration = c(60, 30, 45)\n",
        ")\n",
        "\n",
        "Data_Frame4 <- data.frame (\n",
        "  Steps = c(3000, 6000, 2000),\n",
        "  Calories = c(300, 400, 300)\n",
        ")\n",
        "\n",
        "New_Data_Frame1 <- cbind(Data_Frame3, Data_Frame4)\n",
        "New_Data_Frame1"
      ],
      "metadata": {
        "colab": {
          "base_uri": "https://localhost:8080/",
          "height": 192
        },
        "id": "vicsf6EsdUDe",
        "outputId": "a52ba53a-3e0f-4b05-87c1-cbfdacc19ffa"
      },
      "execution_count": 98,
      "outputs": [
        {
          "output_type": "display_data",
          "data": {
            "text/plain": [
              "  Training Pulse Duration Steps Calories\n",
              "1 Strength 100   60       3000  300     \n",
              "2 Stamina  150   30       6000  400     \n",
              "3 Other    120   45       2000  300     "
            ],
            "text/latex": "A data.frame: 3 × 5\n\\begin{tabular}{lllll}\n Training & Pulse & Duration & Steps & Calories\\\\\n <chr> & <dbl> & <dbl> & <dbl> & <dbl>\\\\\n\\hline\n\t Strength & 100 & 60 & 3000 & 300\\\\\n\t Stamina  & 150 & 30 & 6000 & 400\\\\\n\t Other    & 120 & 45 & 2000 & 300\\\\\n\\end{tabular}\n",
            "text/markdown": "\nA data.frame: 3 × 5\n\n| Training &lt;chr&gt; | Pulse &lt;dbl&gt; | Duration &lt;dbl&gt; | Steps &lt;dbl&gt; | Calories &lt;dbl&gt; |\n|---|---|---|---|---|\n| Strength | 100 | 60 | 3000 | 300 |\n| Stamina  | 150 | 30 | 6000 | 400 |\n| Other    | 120 | 45 | 2000 | 300 |\n\n",
            "text/html": [
              "<table class=\"dataframe\">\n",
              "<caption>A data.frame: 3 × 5</caption>\n",
              "<thead>\n",
              "\t<tr><th scope=col>Training</th><th scope=col>Pulse</th><th scope=col>Duration</th><th scope=col>Steps</th><th scope=col>Calories</th></tr>\n",
              "\t<tr><th scope=col>&lt;chr&gt;</th><th scope=col>&lt;dbl&gt;</th><th scope=col>&lt;dbl&gt;</th><th scope=col>&lt;dbl&gt;</th><th scope=col>&lt;dbl&gt;</th></tr>\n",
              "</thead>\n",
              "<tbody>\n",
              "\t<tr><td>Strength</td><td>100</td><td>60</td><td>3000</td><td>300</td></tr>\n",
              "\t<tr><td>Stamina </td><td>150</td><td>30</td><td>6000</td><td>400</td></tr>\n",
              "\t<tr><td>Other   </td><td>120</td><td>45</td><td>2000</td><td>300</td></tr>\n",
              "</tbody>\n",
              "</table>\n"
            ]
          },
          "metadata": {}
        }
      ]
    },
    {
      "cell_type": "markdown",
      "source": [
        "#Factors\n",
        "Factors are used to categorize data. Examples of factors are:\n",
        "\n",
        "Demography: Male/Female\n",
        "Music: Rock, Pop, Classic, Jazz\n",
        "Training: Strength, Stamina\n",
        "To create a factor, use the factor() function and add a vector as argument:"
      ],
      "metadata": {
        "id": "NdtmU6QXddRh"
      }
    },
    {
      "cell_type": "code",
      "source": [
        "# Create a factor\n",
        "music_genre <- factor(c(\"Jazz\", \"Rock\", \"Classic\", \"Classic\", \"Pop\", \"Jazz\", \"Rock\", \"Jazz\"))\n",
        "\n",
        "# Print the factor\n",
        "music_genre"
      ],
      "metadata": {
        "colab": {
          "base_uri": "https://localhost:8080/",
          "height": 69
        },
        "id": "PLBlMvILdw2m",
        "outputId": "df80b4ed-b04d-42aa-9fa3-2a63da5ee944"
      },
      "execution_count": 99,
      "outputs": [
        {
          "output_type": "display_data",
          "data": {
            "text/plain": [
              "[1] Jazz    Rock    Classic Classic Pop     Jazz    Rock    Jazz   \n",
              "Levels: Classic Jazz Pop Rock"
            ],
            "text/latex": "\\begin{enumerate*}\n\\item Jazz\n\\item Rock\n\\item Classic\n\\item Classic\n\\item Pop\n\\item Jazz\n\\item Rock\n\\item Jazz\n\\end{enumerate*}\n\n\\emph{Levels}: \\begin{enumerate*}\n\\item 'Classic'\n\\item 'Jazz'\n\\item 'Pop'\n\\item 'Rock'\n\\end{enumerate*}\n",
            "text/markdown": "1. Jazz\n2. Rock\n3. Classic\n4. Classic\n5. Pop\n6. Jazz\n7. Rock\n8. Jazz\n\n\n\n**Levels**: 1. 'Classic'\n2. 'Jazz'\n3. 'Pop'\n4. 'Rock'\n\n\n",
            "text/html": [
              "<style>\n",
              ".list-inline {list-style: none; margin:0; padding: 0}\n",
              ".list-inline>li {display: inline-block}\n",
              ".list-inline>li:not(:last-child)::after {content: \"\\00b7\"; padding: 0 .5ex}\n",
              "</style>\n",
              "<ol class=list-inline><li>Jazz</li><li>Rock</li><li>Classic</li><li>Classic</li><li>Pop</li><li>Jazz</li><li>Rock</li><li>Jazz</li></ol>\n",
              "\n",
              "<details>\n",
              "\t<summary style=display:list-item;cursor:pointer>\n",
              "\t\t<strong>Levels</strong>:\n",
              "\t</summary>\n",
              "\t<style>\n",
              "\t.list-inline {list-style: none; margin:0; padding: 0}\n",
              "\t.list-inline>li {display: inline-block}\n",
              "\t.list-inline>li:not(:last-child)::after {content: \"\\00b7\"; padding: 0 .5ex}\n",
              "\t</style>\n",
              "\t<ol class=list-inline><li>'Classic'</li><li>'Jazz'</li><li>'Pop'</li><li>'Rock'</li></ol>\n",
              "</details>"
            ]
          },
          "metadata": {}
        }
      ]
    },
    {
      "cell_type": "code",
      "source": [
        "# To only print the levels, use the levels() function:\n",
        "music_genre <- factor(c(\"Jazz\", \"Rock\", \"Classic\", \"Classic\", \"Pop\", \"Jazz\", \"Rock\", \"Jazz\"))\n",
        "\n",
        "levels(music_genre)"
      ],
      "metadata": {
        "colab": {
          "base_uri": "https://localhost:8080/",
          "height": 35
        },
        "id": "YhWI_8_Rd1M4",
        "outputId": "9f9f71d8-bdbc-41fd-e73f-be27400712df"
      },
      "execution_count": 100,
      "outputs": [
        {
          "output_type": "display_data",
          "data": {
            "text/plain": [
              "[1] \"Classic\" \"Jazz\"    \"Pop\"     \"Rock\"   "
            ],
            "text/latex": "\\begin{enumerate*}\n\\item 'Classic'\n\\item 'Jazz'\n\\item 'Pop'\n\\item 'Rock'\n\\end{enumerate*}\n",
            "text/markdown": "1. 'Classic'\n2. 'Jazz'\n3. 'Pop'\n4. 'Rock'\n\n\n",
            "text/html": [
              "<style>\n",
              ".list-inline {list-style: none; margin:0; padding: 0}\n",
              ".list-inline>li {display: inline-block}\n",
              ".list-inline>li:not(:last-child)::after {content: \"\\00b7\"; padding: 0 .5ex}\n",
              "</style>\n",
              "<ol class=list-inline><li>'Classic'</li><li>'Jazz'</li><li>'Pop'</li><li>'Rock'</li></ol>\n"
            ]
          },
          "metadata": {}
        }
      ]
    },
    {
      "cell_type": "code",
      "source": [
        "# You can also set the levels, by adding the levels argument inside the factor() function:\n",
        "music_genre <- factor(c(\"Jazz\", \"Rock\", \"Classic\", \"Classic\", \"Pop\", \"Jazz\", \"Rock\", \"Jazz\"), levels = c(\"Classic\", \"Jazz\", \"Pop\", \"Rock\", \"Other\"))\n",
        "\n",
        "levels(music_genre)"
      ],
      "metadata": {
        "colab": {
          "base_uri": "https://localhost:8080/",
          "height": 35
        },
        "id": "coffYcHxeN-R",
        "outputId": "a8afadb6-effc-4438-ff88-887e7f8c848c"
      },
      "execution_count": 101,
      "outputs": [
        {
          "output_type": "display_data",
          "data": {
            "text/plain": [
              "[1] \"Classic\" \"Jazz\"    \"Pop\"     \"Rock\"    \"Other\"  "
            ],
            "text/latex": "\\begin{enumerate*}\n\\item 'Classic'\n\\item 'Jazz'\n\\item 'Pop'\n\\item 'Rock'\n\\item 'Other'\n\\end{enumerate*}\n",
            "text/markdown": "1. 'Classic'\n2. 'Jazz'\n3. 'Pop'\n4. 'Rock'\n5. 'Other'\n\n\n",
            "text/html": [
              "<style>\n",
              ".list-inline {list-style: none; margin:0; padding: 0}\n",
              ".list-inline>li {display: inline-block}\n",
              ".list-inline>li:not(:last-child)::after {content: \"\\00b7\"; padding: 0 .5ex}\n",
              "</style>\n",
              "<ol class=list-inline><li>'Classic'</li><li>'Jazz'</li><li>'Pop'</li><li>'Rock'</li><li>'Other'</li></ol>\n"
            ]
          },
          "metadata": {}
        }
      ]
    },
    {
      "cell_type": "code",
      "source": [
        "# Use the length() function to find out how many items there are in the factor:  factor length\n",
        "music_genre <- factor(c(\"Jazz\", \"Rock\", \"Classic\", \"Classic\", \"Pop\", \"Jazz\", \"Rock\", \"Jazz\"))\n",
        "\n",
        "length(music_genre)\n",
        "length(levels(music_genre))"
      ],
      "metadata": {
        "colab": {
          "base_uri": "https://localhost:8080/",
          "height": 52
        },
        "id": "Vmyi7vkUeYeQ",
        "outputId": "8a0a048b-faa7-4bed-8677-b62c368a9cc0"
      },
      "execution_count": 104,
      "outputs": [
        {
          "output_type": "display_data",
          "data": {
            "text/plain": [
              "[1] 8"
            ],
            "text/latex": "8",
            "text/markdown": "8",
            "text/html": [
              "8"
            ]
          },
          "metadata": {}
        },
        {
          "output_type": "display_data",
          "data": {
            "text/plain": [
              "[1] 4"
            ],
            "text/latex": "4",
            "text/markdown": "4",
            "text/html": [
              "4"
            ]
          },
          "metadata": {}
        }
      ]
    },
    {
      "cell_type": "code",
      "source": [
        "music_genre <- factor(c(\"Jazz\", \"Rock\", \"Classic\", \"Classic\", \"Pop\", \"Jazz\", \"Rock\", \"Jazz\"))\n",
        "\n",
        "music_genre[3]"
      ],
      "metadata": {
        "colab": {
          "base_uri": "https://localhost:8080/",
          "height": 52
        },
        "id": "_aE3Ac_1ejzy",
        "outputId": "541a5edc-e3a9-4079-aa72-46434bd2f3fd"
      },
      "execution_count": 103,
      "outputs": [
        {
          "output_type": "display_data",
          "data": {
            "text/plain": [
              "[1] Classic\n",
              "Levels: Classic Jazz Pop Rock"
            ],
            "text/latex": "Classic\n\\emph{Levels}: \\begin{enumerate*}\n\\item 'Classic'\n\\item 'Jazz'\n\\item 'Pop'\n\\item 'Rock'\n\\end{enumerate*}\n",
            "text/markdown": "Classic\n**Levels**: 1. 'Classic'\n2. 'Jazz'\n3. 'Pop'\n4. 'Rock'\n\n\n",
            "text/html": [
              "Classic\n",
              "<details>\n",
              "\t<summary style=display:list-item;cursor:pointer>\n",
              "\t\t<strong>Levels</strong>:\n",
              "\t</summary>\n",
              "\t<style>\n",
              "\t.list-inline {list-style: none; margin:0; padding: 0}\n",
              "\t.list-inline>li {display: inline-block}\n",
              "\t.list-inline>li:not(:last-child)::after {content: \"\\00b7\"; padding: 0 .5ex}\n",
              "\t</style>\n",
              "\t<ol class=list-inline><li>'Classic'</li><li>'Jazz'</li><li>'Pop'</li><li>'Rock'</li></ol>\n",
              "</details>"
            ]
          },
          "metadata": {}
        }
      ]
    },
    {
      "cell_type": "code",
      "source": [
        "# To change the value of a specific item, refer to the index number:\n",
        "music_genre <- factor(c(\"Jazz\", \"Rock\", \"Classic\", \"Classic\", \"Pop\", \"Jazz\", \"Rock\", \"Jazz\"))\n",
        "\n",
        "music_genre[3] <- \"Pop\"\n",
        "music_genre\n",
        "\n",
        "music_genre[3]"
      ],
      "metadata": {
        "colab": {
          "base_uri": "https://localhost:8080/",
          "height": 86
        },
        "id": "bGp9RflSeoyy",
        "outputId": "315cde14-1a5c-45d2-fa28-69bfb086740a"
      },
      "execution_count": 106,
      "outputs": [
        {
          "output_type": "display_data",
          "data": {
            "text/plain": [
              "[1] Jazz    Rock    Pop     Classic Pop     Jazz    Rock    Jazz   \n",
              "Levels: Classic Jazz Pop Rock"
            ],
            "text/latex": "\\begin{enumerate*}\n\\item Jazz\n\\item Rock\n\\item Pop\n\\item Classic\n\\item Pop\n\\item Jazz\n\\item Rock\n\\item Jazz\n\\end{enumerate*}\n\n\\emph{Levels}: \\begin{enumerate*}\n\\item 'Classic'\n\\item 'Jazz'\n\\item 'Pop'\n\\item 'Rock'\n\\end{enumerate*}\n",
            "text/markdown": "1. Jazz\n2. Rock\n3. Pop\n4. Classic\n5. Pop\n6. Jazz\n7. Rock\n8. Jazz\n\n\n\n**Levels**: 1. 'Classic'\n2. 'Jazz'\n3. 'Pop'\n4. 'Rock'\n\n\n",
            "text/html": [
              "<style>\n",
              ".list-inline {list-style: none; margin:0; padding: 0}\n",
              ".list-inline>li {display: inline-block}\n",
              ".list-inline>li:not(:last-child)::after {content: \"\\00b7\"; padding: 0 .5ex}\n",
              "</style>\n",
              "<ol class=list-inline><li>Jazz</li><li>Rock</li><li>Pop</li><li>Classic</li><li>Pop</li><li>Jazz</li><li>Rock</li><li>Jazz</li></ol>\n",
              "\n",
              "<details>\n",
              "\t<summary style=display:list-item;cursor:pointer>\n",
              "\t\t<strong>Levels</strong>:\n",
              "\t</summary>\n",
              "\t<style>\n",
              "\t.list-inline {list-style: none; margin:0; padding: 0}\n",
              "\t.list-inline>li {display: inline-block}\n",
              "\t.list-inline>li:not(:last-child)::after {content: \"\\00b7\"; padding: 0 .5ex}\n",
              "\t</style>\n",
              "\t<ol class=list-inline><li>'Classic'</li><li>'Jazz'</li><li>'Pop'</li><li>'Rock'</li></ol>\n",
              "</details>"
            ]
          },
          "metadata": {}
        },
        {
          "output_type": "display_data",
          "data": {
            "text/plain": [
              "[1] Pop\n",
              "Levels: Classic Jazz Pop Rock"
            ],
            "text/latex": "Pop\n\\emph{Levels}: \\begin{enumerate*}\n\\item 'Classic'\n\\item 'Jazz'\n\\item 'Pop'\n\\item 'Rock'\n\\end{enumerate*}\n",
            "text/markdown": "Pop\n**Levels**: 1. 'Classic'\n2. 'Jazz'\n3. 'Pop'\n4. 'Rock'\n\n\n",
            "text/html": [
              "Pop\n",
              "<details>\n",
              "\t<summary style=display:list-item;cursor:pointer>\n",
              "\t\t<strong>Levels</strong>:\n",
              "\t</summary>\n",
              "\t<style>\n",
              "\t.list-inline {list-style: none; margin:0; padding: 0}\n",
              "\t.list-inline>li {display: inline-block}\n",
              "\t.list-inline>li:not(:last-child)::after {content: \"\\00b7\"; padding: 0 .5ex}\n",
              "\t</style>\n",
              "\t<ol class=list-inline><li>'Classic'</li><li>'Jazz'</li><li>'Pop'</li><li>'Rock'</li></ol>\n",
              "</details>"
            ]
          },
          "metadata": {}
        }
      ]
    },
    {
      "cell_type": "markdown",
      "source": [
        "Note that you cannot change the value of a specific item if it is not already specified in the factor. The following example will produce an error:"
      ],
      "metadata": {
        "id": "yhmqP17ifD9d"
      }
    },
    {
      "cell_type": "code",
      "source": [
        "music_genre <- factor(c(\"Jazz\", \"Rock\", \"Classic\", \"Classic\", \"Pop\", \"Jazz\", \"Rock\", \"Jazz\"))\n",
        "\n",
        "music_genre[3] <- \"Opera\"\n",
        "\n",
        "music_genre[3]"
      ],
      "metadata": {
        "colab": {
          "base_uri": "https://localhost:8080/",
          "height": 106
        },
        "id": "cpXGWkTLfttb",
        "outputId": "ed5d9087-1321-4817-ebe4-05767a444aa5"
      },
      "execution_count": 107,
      "outputs": [
        {
          "output_type": "stream",
          "name": "stderr",
          "text": [
            "Warning message in `[<-.factor`(`*tmp*`, 3, value = \"Opera\"):\n",
            "“invalid factor level, NA generated”\n"
          ]
        },
        {
          "output_type": "display_data",
          "data": {
            "text/plain": [
              "[1] <NA>\n",
              "Levels: Classic Jazz Pop Rock"
            ],
            "text/latex": "<NA>\n\\emph{Levels}: \\begin{enumerate*}\n\\item 'Classic'\n\\item 'Jazz'\n\\item 'Pop'\n\\item 'Rock'\n\\end{enumerate*}\n",
            "text/markdown": "&lt;NA&gt;\n**Levels**: 1. 'Classic'\n2. 'Jazz'\n3. 'Pop'\n4. 'Rock'\n\n\n",
            "text/html": [
              "&lt;NA&gt;\n",
              "<details>\n",
              "\t<summary style=display:list-item;cursor:pointer>\n",
              "\t\t<strong>Levels</strong>:\n",
              "\t</summary>\n",
              "\t<style>\n",
              "\t.list-inline {list-style: none; margin:0; padding: 0}\n",
              "\t.list-inline>li {display: inline-block}\n",
              "\t.list-inline>li:not(:last-child)::after {content: \"\\00b7\"; padding: 0 .5ex}\n",
              "\t</style>\n",
              "\t<ol class=list-inline><li>'Classic'</li><li>'Jazz'</li><li>'Pop'</li><li>'Rock'</li></ol>\n",
              "</details>"
            ]
          },
          "metadata": {}
        }
      ]
    },
    {
      "cell_type": "code",
      "source": [
        "# However, if you have already specified it inside the levels argument, it will work:\n",
        "music_genre <- factor(c(\"Jazz\", \"Rock\", \"Classic\", \"Classic\", \"Pop\", \"Jazz\", \"Rock\", \"Jazz\"), levels = c(\"Classic\", \"Jazz\", \"Pop\", \"Rock\", \"Opera\"))\n",
        "\n",
        "music_genre[3] <- \"Opera\"\n",
        "\n",
        "music_genre[3]"
      ],
      "metadata": {
        "colab": {
          "base_uri": "https://localhost:8080/",
          "height": 69
        },
        "id": "scvtEodtfxWY",
        "outputId": "5b990dcd-ab04-491c-a8e9-af5ed0fce0d2"
      },
      "execution_count": 108,
      "outputs": [
        {
          "output_type": "display_data",
          "data": {
            "text/plain": [
              "[1] Opera\n",
              "Levels: Classic Jazz Pop Rock Opera"
            ],
            "text/latex": "Opera\n\\emph{Levels}: \\begin{enumerate*}\n\\item 'Classic'\n\\item 'Jazz'\n\\item 'Pop'\n\\item 'Rock'\n\\item 'Opera'\n\\end{enumerate*}\n",
            "text/markdown": "Opera\n**Levels**: 1. 'Classic'\n2. 'Jazz'\n3. 'Pop'\n4. 'Rock'\n5. 'Opera'\n\n\n",
            "text/html": [
              "Opera\n",
              "<details>\n",
              "\t<summary style=display:list-item;cursor:pointer>\n",
              "\t\t<strong>Levels</strong>:\n",
              "\t</summary>\n",
              "\t<style>\n",
              "\t.list-inline {list-style: none; margin:0; padding: 0}\n",
              "\t.list-inline>li {display: inline-block}\n",
              "\t.list-inline>li:not(:last-child)::after {content: \"\\00b7\"; padding: 0 .5ex}\n",
              "\t</style>\n",
              "\t<ol class=list-inline><li>'Classic'</li><li>'Jazz'</li><li>'Pop'</li><li>'Rock'</li><li>'Opera'</li></ol>\n",
              "</details>"
            ]
          },
          "metadata": {}
        }
      ]
    },
    {
      "cell_type": "markdown",
      "source": [
        "#Plot\n",
        "The plot() function is used to draw points (markers) in a diagram.\n",
        "\n",
        "The function takes parameters for specifying points in the diagram.\n",
        "\n",
        "Parameter 1 specifies points on the x-axis.\n",
        "\n",
        "Parameter 2 specifies points on the y-axis.\n",
        "\n",
        "At its simplest, you can use the plot() function to plot two numbers against each other:"
      ],
      "metadata": {
        "id": "5vZqbrRRgIno"
      }
    },
    {
      "cell_type": "code",
      "source": [
        "plot(1,3)"
      ],
      "metadata": {
        "colab": {
          "base_uri": "https://localhost:8080/",
          "height": 437
        },
        "id": "QDEgAQDcf6ts",
        "outputId": "02d09132-ea43-47cc-f68a-ab1ff323968d"
      },
      "execution_count": 110,
      "outputs": [
        {
          "output_type": "display_data",
          "data": {
            "image/png": "[encoded data removed]",
            "text/plain": [
              "plot without title"
            ]
          },
          "metadata": {
            "image/png": {
              "width": 420,
              "height": 420
            }
          }
        }
      ]
    },
    {
      "cell_type": "code",
      "source": [
        "# to draw more points use vectors\n",
        "plot(c(1, 8), c(3, 10))"
      ],
      "metadata": {
        "colab": {
          "base_uri": "https://localhost:8080/",
          "height": 437
        },
        "id": "l0-UZ078gkUj",
        "outputId": "3acc978d-f9fc-4277-8f91-e895f5e4f3c9"
      },
      "execution_count": 111,
      "outputs": [
        {
          "output_type": "display_data",
          "data": {
            "image/png": "[encoded data removed]",
            "text/plain": [
              "plot without title"
            ]
          },
          "metadata": {
            "image/png": {
              "width": 420,
              "height": 420
            }
          }
        }
      ]
    },
    {
      "cell_type": "markdown",
      "source": [
        "##Multiple Points\n",
        "You can plot as many points as you like, just make sure you have the same number of points in both axis:"
      ],
      "metadata": {
        "id": "sGgVOvg5gxt9"
      }
    },
    {
      "cell_type": "code",
      "source": [
        "plot(c(1, 2, 3, 4, 5), c(3, 7, 8, 9, 12))"
      ],
      "metadata": {
        "colab": {
          "base_uri": "https://localhost:8080/",
          "height": 437
        },
        "id": "SBoAQYLjg5UT",
        "outputId": "44aa91ee-aeb1-4125-ca0b-0e68e4a1788a"
      },
      "execution_count": 112,
      "outputs": [
        {
          "output_type": "display_data",
          "data": {
            "image/png": "[encoded data removed]",
            "text/plain": [
              "plot without title"
            ]
          },
          "metadata": {
            "image/png": {
              "width": 420,
              "height": 420
            }
          }
        }
      ]
    },
    {
      "cell_type": "code",
      "source": [
        "# For better organization, when you have many values, it is better to use variables:\n",
        "x <- c(1, 2, 3, 4, 5)\n",
        "y <- c(3, 7, 8, 9, 12)\n",
        "\n",
        "plot(x, y)"
      ],
      "metadata": {
        "colab": {
          "base_uri": "https://localhost:8080/",
          "height": 437
        },
        "id": "VFX_VqlQhEXx",
        "outputId": "8ff6c8a6-f63b-4e28-8f32-1a1718466734"
      },
      "execution_count": 113,
      "outputs": [
        {
          "output_type": "display_data",
          "data": {
            "image/png": "[encoded data removed]",
            "text/plain": [
              "plot without title"
            ]
          },
          "metadata": {
            "image/png": {
              "width": 420,
              "height": 420
            }
          }
        }
      ]
    },
    {
      "cell_type": "markdown",
      "source": [
        "##Sequences of Points\n",
        "If you want to draw dots in a sequence, on both the x-axis and the y-axis, use the : operator:\n",
        "\n"
      ],
      "metadata": {
        "id": "QdoyzrJUhLPz"
      }
    },
    {
      "cell_type": "code",
      "source": [
        "plot(1:10)"
      ],
      "metadata": {
        "colab": {
          "base_uri": "https://localhost:8080/",
          "height": 437
        },
        "id": "vWEIP557hUPd",
        "outputId": "99846510-5a74-49f5-e91c-3083c676e1a7"
      },
      "execution_count": 114,
      "outputs": [
        {
          "output_type": "display_data",
          "data": {
            "image/png": "[encoded data removed]",
            "text/plain": [
              "plot without title"
            ]
          },
          "metadata": {
            "image/png": {
              "width": 420,
              "height": 420
            }
          }
        }
      ]
    },
    {
      "cell_type": "markdown",
      "source": [
        "The plot() function also takes a type parameter with the value l to draw a line to connect all the points in the diagram:"
      ],
      "metadata": {
        "id": "Zhcvd9yThXUH"
      }
    },
    {
      "cell_type": "code",
      "source": [
        "plot(1:10, type=\"l\")"
      ],
      "metadata": {
        "colab": {
          "base_uri": "https://localhost:8080/",
          "height": 437
        },
        "id": "lvUBa_8ohfLh",
        "outputId": "46659c1b-3001-42c6-dfd2-bad47ddc1e3a"
      },
      "execution_count": 116,
      "outputs": [
        {
          "output_type": "display_data",
          "data": {
            "image/png": "[encoded data removed]",
            "text/plain": [
              "plot without title"
            ]
          },
          "metadata": {
            "image/png": {
              "width": 420,
              "height": 420
            }
          }
        }
      ]
    },
    {
      "cell_type": "markdown",
      "source": [
        "The plot() function also accept other parameters, such as main, xlab and ylab if you want to customize the graph with a main title and different labels for the x and y-axis:"
      ],
      "metadata": {
        "id": "_eRMlrzuhlcU"
      }
    },
    {
      "cell_type": "code",
      "source": [
        "plot(1:10, main=\"My Graph\", xlab=\"The x-axis\", ylab=\"The y axis\")"
      ],
      "metadata": {
        "colab": {
          "base_uri": "https://localhost:8080/",
          "height": 437
        },
        "id": "lyu2GWqwh28_",
        "outputId": "511ae5c6-5a14-4ffc-b08f-ac24205e4edd"
      },
      "execution_count": 117,
      "outputs": [
        {
          "output_type": "display_data",
          "data": {
            "image/png": "[encoded data removed]",
            "text/plain": [
              "Plot with title “My Graph”"
            ]
          },
          "metadata": {
            "image/png": {
              "width": 420,
              "height": 420
            }
          }
        }
      ]
    },
    {
      "cell_type": "markdown",
      "source": [
        "##Graph Appearance\n",
        "There are many other parameters you can use to change the appearance of the points.\n",
        "\n",
        "Colors\n",
        "Use col=\"color\" to add a color to the points:"
      ],
      "metadata": {
        "id": "Iw5oIcW0iDtj"
      }
    },
    {
      "cell_type": "code",
      "source": [
        "plot(1:10, col = 'blue')"
      ],
      "metadata": {
        "colab": {
          "base_uri": "https://localhost:8080/",
          "height": 437
        },
        "id": "mFv-pzwSiKif",
        "outputId": "9871d1cd-b3d2-4bdd-f0ea-be8893e249cd"
      },
      "execution_count": 118,
      "outputs": [
        {
          "output_type": "display_data",
          "data": {
            "image/png": "[encoded data removed]",
            "text/plain": [
              "plot without title"
            ]
          },
          "metadata": {
            "image/png": {
              "width": 420,
              "height": 420
            }
          }
        }
      ]
    },
    {
      "cell_type": "markdown",
      "source": [
        "##Size\n",
        "Use cex=number to change the size of the points (1 is default, while 0.5 means 50% smaller, and 2 means 100% larger):"
      ],
      "metadata": {
        "id": "_FnEZEf9iQxc"
      }
    },
    {
      "cell_type": "code",
      "source": [
        "plot(1:10, cex = 2)"
      ],
      "metadata": {
        "colab": {
          "base_uri": "https://localhost:8080/",
          "height": 437
        },
        "id": "LHIf_KYiiXEa",
        "outputId": "da72c9b0-3914-464d-f75a-2be571e5fdfe"
      },
      "execution_count": 119,
      "outputs": [
        {
          "output_type": "display_data",
          "data": {
            "image/png": "[encoded data removed]",
            "text/plain": [
              "plot without title"
            ]
          },
          "metadata": {
            "image/png": {
              "width": 420,
              "height": 420
            }
          }
        }
      ]
    },
    {
      "cell_type": "code",
      "source": [
        "plot(1:10, cex = 5)\n",
        "# cex = n   n from  1 to n where n is non zero positive number"
      ],
      "metadata": {
        "colab": {
          "base_uri": "https://localhost:8080/",
          "height": 437
        },
        "id": "PyrZDZVQiioq",
        "outputId": "e2bfc963-cb1d-43be-dfab-c716acb10f5e"
      },
      "execution_count": 127,
      "outputs": [
        {
          "output_type": "display_data",
          "data": {
            "image/png": "[encoded data removed]",
            "text/plain": [
              "plot without title"
            ]
          },
          "metadata": {
            "image/png": {
              "width": 420,
              "height": 420
            }
          }
        }
      ]
    },
    {
      "cell_type": "code",
      "source": [
        "# Point Shape\n",
        "# Use pch with a value from 0 to 25 to change the point shape format:\n",
        "plot(1:10, pch=3, cex= 6)\n",
        "# see the diffrent symbols for diffrent pch values in w3 schools"
      ],
      "metadata": {
        "colab": {
          "base_uri": "https://localhost:8080/",
          "height": 437
        },
        "id": "EiAM6EgNsT0b",
        "outputId": "65a8bd3f-56fe-4186-c4fa-09061913b24c"
      },
      "execution_count": 134,
      "outputs": [
        {
          "output_type": "display_data",
          "data": {
            "image/png": "[encoded data removed]",
            "text/plain": [
              "plot without title"
            ]
          },
          "metadata": {
            "image/png": {
              "width": 420,
              "height": 420
            }
          }
        }
      ]
    },
    {
      "cell_type": "markdown",
      "source": [
        "#Line Graphs\n",
        "A line graph has a line that connects all the points in a diagram.\n",
        "\n",
        "To create a line, use the plot() function and add the type parameter with a value of \"l\":"
      ],
      "metadata": {
        "id": "lSiYL2sqzPQ7"
      }
    },
    {
      "cell_type": "code",
      "source": [
        "plot(1:10, type = 'l')"
      ],
      "metadata": {
        "colab": {
          "base_uri": "https://localhost:8080/",
          "height": 437
        },
        "id": "lt-z-8Cb2q_5",
        "outputId": "2ab81afc-8356-4467-847b-93b120710cc7"
      },
      "execution_count": 140,
      "outputs": [
        {
          "output_type": "display_data",
          "data": {
            "image/png": "[encoded data removed]",
            "text/plain": [
              "plot without title"
            ]
          },
          "metadata": {
            "image/png": {
              "width": 420,
              "height": 420
            }
          }
        }
      ]
    },
    {
      "cell_type": "code",
      "source": [
        "# The line color is black by default. To change the color, use the col parameter:\n",
        "plot(1:10, type = \"l\", col = \"blue\")"
      ],
      "metadata": {
        "colab": {
          "base_uri": "https://localhost:8080/",
          "height": 437
        },
        "id": "b4spjGrg2vhv",
        "outputId": "6c81bf32-cbb9-4a71-941c-d2d17fc2a947"
      },
      "execution_count": 141,
      "outputs": [
        {
          "output_type": "display_data",
          "data": {
            "image/png": "[encoded data removed]",
            "text/plain": [
              "plot without title"
            ]
          },
          "metadata": {
            "image/png": {
              "width": 420,
              "height": 420
            }
          }
        }
      ]
    },
    {
      "cell_type": "markdown",
      "source": [
        "# To change the width of the line, use the lwd parameter (1 is default, while 0.5 means 50% smaller, and 2 means 100% larger):"
      ],
      "metadata": {
        "id": "BHfd6A9r281o"
      }
    },
    {
      "cell_type": "code",
      "source": [
        "plot(1:10, type = \"l\", lwd = 2)\n",
        "plot(1:10, type = \"l\", lwd = 50)"
      ],
      "metadata": {
        "colab": {
          "base_uri": "https://localhost:8080/",
          "height": 857
        },
        "id": "Aod4xUaV3EnX",
        "outputId": "55332b58-6622-4193-dc4b-126970db8d7e"
      },
      "execution_count": 145,
      "outputs": [
        {
          "output_type": "display_data",
          "data": {
            "image/png": "[encoded data removed]",
            "text/plain": [
              "plot without title"
            ]
          },
          "metadata": {
            "image/png": {
              "width": 420,
              "height": 420
            }
          }
        },
        {
          "output_type": "display_data",
          "data": {
            "image/png": "[encoded data removed]",
            "text/plain": [
              "plot without title"
            ]
          },
          "metadata": {
            "image/png": {
              "width": 420,
              "height": 420
            }
          }
        }
      ]
    },
    {
      "cell_type": "markdown",
      "source": [
        "#Line Styles\n",
        "The line is solid by default. Use the lty parameter with a value from 0 to 6 to specify the line format.\n",
        "\n",
        "For example, lty=3 will display a dotted line instead of a solid line:"
      ],
      "metadata": {
        "id": "znye9lZx3LLm"
      }
    },
    {
      "cell_type": "code",
      "source": [
        "plot(1:10, type = \"l\", lwd = 5, lty = 3)"
      ],
      "metadata": {
        "colab": {
          "base_uri": "https://localhost:8080/",
          "height": 437
        },
        "id": "LLzuAjdN3eQH",
        "outputId": "fa2a37ff-de64-40c4-a123-519d001cec82"
      },
      "execution_count": 146,
      "outputs": [
        {
          "output_type": "display_data",
          "data": {
            "image/png": "[encoded data removed]",
            "text/plain": [
              "plot without title"
            ]
          },
          "metadata": {
            "image/png": {
              "width": 420,
              "height": 420
            }
          }
        }
      ]
    },
    {
      "cell_type": "markdown",
      "source": [
        "Available parameter values for lty:\n",
        "\n",
        "0. .removes the line\n",
        "1. displays a solid line\n",
        "2. .displays a dashed line\n",
        "3. .displays a dotted line\n",
        "4. .displays a \"dot dashed\" line\n",
        "5. .displays a \"long dashed\" line\n",
        "6. .displays a \"two dashed\" line"
      ],
      "metadata": {
        "id": "Eydje4y73lZl"
      }
    },
    {
      "cell_type": "markdown",
      "source": [
        "To display more than one line in a graph, use the plot() function together with the lines() function:"
      ],
      "metadata": {
        "id": "wU3G1P0J3sHR"
      }
    },
    {
      "cell_type": "code",
      "source": [
        "line1 <- c(1,2,3,4,5,10)\n",
        "line2 <- c(2,5,7,8,9,10)\n",
        "\n",
        "plot(line1, type = \"l\", col = \"blue\")\n",
        "lines(line2, type=\"l\", col = \"red\")"
      ],
      "metadata": {
        "colab": {
          "base_uri": "https://localhost:8080/",
          "height": 437
        },
        "id": "qxFnKODw4KM1",
        "outputId": "fd34cce8-b3a7-4894-eb31-eb849edb846c"
      },
      "execution_count": 147,
      "outputs": [
        {
          "output_type": "display_data",
          "data": {
            "image/png": "[encoded data removed]",
            "text/plain": [
              "plot without title"
            ]
          },
          "metadata": {
            "image/png": {
              "width": 420,
              "height": 420
            }
          }
        }
      ]
    },
    {
      "cell_type": "markdown",
      "source": [
        "#Scatter Plots\n",
        "You learned from the Plot chapter that the plot() function is used to plot numbers against each other.\n",
        "\n",
        "A \"scatter plot\" is a type of plot used to display the relationship between two numerical variables, and plots one dot for each observation.\n",
        "\n",
        "It needs two vectors of same length, one for the x-axis (horizontal) and one for the y-axis (vertical):"
      ],
      "metadata": {
        "id": "ch52uSnu4MqM"
      }
    },
    {
      "cell_type": "code",
      "source": [
        "x <- c(5,7,8,7,2,2,9,4,11,12,9,6)\n",
        "y <- c(99,86,87,88,111,103,87,94,78,77,85,86)\n",
        "\n",
        "plot(x, y)"
      ],
      "metadata": {
        "colab": {
          "base_uri": "https://localhost:8080/",
          "height": 437
        },
        "id": "oK9VmXP94psq",
        "outputId": "9489c046-eec8-4b0b-914c-2bdf294768fb"
      },
      "execution_count": 148,
      "outputs": [
        {
          "output_type": "display_data",
          "data": {
            "image/png": "[encoded data removed]",
            "text/plain": [
              "plot without title"
            ]
          },
          "metadata": {
            "image/png": {
              "width": 420,
              "height": 420
            }
          }
        }
      ]
    },
    {
      "cell_type": "markdown",
      "source": [
        "The observation in the example above should show the result of 12 cars passing by.\n",
        "\n",
        "That might not be clear for someone who sees the graph for the first time, so let's add a header and different labels to describe the scatter plot better:"
      ],
      "metadata": {
        "id": "ycY9af_34yYw"
      }
    },
    {
      "cell_type": "code",
      "source": [
        "x <- c(5,7,8,7,2,2,9,4,11,12,9,6)\n",
        "y <- c(99,86,87,88,111,103,87,94,78,77,85,86)\n",
        "\n",
        "plot(x, y, main=\"Observation of Cars\", xlab=\"Car age\", ylab=\"Car speed\")"
      ],
      "metadata": {
        "colab": {
          "base_uri": "https://localhost:8080/",
          "height": 437
        },
        "id": "OxJlHslf5BQV",
        "outputId": "17f7ef68-80c5-4432-875e-a708301d628e"
      },
      "execution_count": 149,
      "outputs": [
        {
          "output_type": "display_data",
          "data": {
            "image/png": "[encoded data removed]",
            "text/plain": [
              "Plot with title “Observation of Cars”"
            ]
          },
          "metadata": {
            "image/png": {
              "width": 420,
              "height": 420
            }
          }
        }
      ]
    },
    {
      "cell_type": "markdown",
      "source": [
        "#Compare Plots\n",
        "In the example above, there seems to be a relationship between the car speed and age, but what if we plot the observations from another day as well? Will the scatter plot tell us something else?\n",
        "\n",
        "To compare the plot with another plot, use the points() function:"
      ],
      "metadata": {
        "id": "RN7q3FSn5E9f"
      }
    },
    {
      "cell_type": "code",
      "source": [
        "# day one, the age and speed of 12 cars:\n",
        "x1 <- c(5,7,8,7,2,2,9,4,11,12,9,6)\n",
        "y1 <- c(99,86,87,88,111,103,87,94,78,77,85,86)\n",
        "\n",
        "# day two, the age and speed of 15 cars:\n",
        "x2 <- c(2,2,8,1,15,8,12,9,7,3,11,4,7,14,12)\n",
        "y2 <- c(100,105,84,105,90,99,90,95,94,100,79,112,91,80,85)\n",
        "\n",
        "plot(x1, y1, main=\"Observation of Cars\", xlab=\"Car age\", ylab=\"Car speed\", col=\"red\", cex=2)\n",
        "points(x2, y2, col=\"blue\", cex=2)"
      ],
      "metadata": {
        "colab": {
          "base_uri": "https://localhost:8080/",
          "height": 437
        },
        "id": "mvAri3Gr5hpV",
        "outputId": "7a2bb706-28d0-4e3d-cb17-93594b0331bd"
      },
      "execution_count": 150,
      "outputs": [
        {
          "output_type": "display_data",
          "data": {
            "image/png": "[encoded data removed]",
            "text/plain": [
              "Plot with title “Observation of Cars”"
            ]
          },
          "metadata": {
            "image/png": {
              "width": 420,
              "height": 420
            }
          }
        }
      ]
    },
    {
      "cell_type": "markdown",
      "source": [
        "Conclusion of observation: By comparing the two plots, I think it is safe to say that they both gives us the same conclusion: the newer the car, the faster it drives."
      ],
      "metadata": {
        "id": "Mg1x_nbu5xnQ"
      }
    },
    {
      "cell_type": "markdown",
      "source": [
        "#Pie Charts\n",
        "A pie chart is a circular graphical view of data.\n",
        "\n",
        "Use the pie() function to draw pie charts:"
      ],
      "metadata": {
        "id": "gk-NTei86AnE"
      }
    },
    {
      "cell_type": "code",
      "source": [
        "# Create a vector of pies\n",
        "x <- c(10,20,30,40)\n",
        "\n",
        "# Display the pie chart\n",
        "pie(x)\n"
      ],
      "metadata": {
        "id": "irjLywc-6LV6"
      },
      "execution_count": null,
      "outputs": []
    },
    {
      "cell_type": "markdown",
      "source": [
        "By default, the plotting of the first pie starts from the x-axis and move counterclockwise.\n",
        "\n",
        "Note: The size of each pie is determined by comparing the value with all the other values, by using this formula:\n",
        "\n",
        "The value divided by the sum of all values: x/sum(x)"
      ],
      "metadata": {
        "id": "jW8PgliR6jRi"
      }
    },
    {
      "cell_type": "markdown",
      "source": [
        "#Start Angle\n",
        "You can change the start angle of the pie chart with the init.angle parameter.\n",
        "\n",
        "The value of init.angle is defined with angle in degrees, where default angle is 0."
      ],
      "metadata": {
        "id": "7nYDBU2f69u9"
      }
    },
    {
      "cell_type": "code",
      "source": [
        "# Create a vector of pies\n",
        "x <- c(10,20,30,40)\n",
        "\n",
        "# Display the pie chart and start the first pie at 90 degrees\n",
        "pie(x, init.angle = 90)"
      ],
      "metadata": {
        "colab": {
          "base_uri": "https://localhost:8080/",
          "height": 437
        },
        "id": "xAj5LLm07Gz5",
        "outputId": "221551f3-dac1-43dd-f217-76ad2a3b2b6d"
      },
      "execution_count": 152,
      "outputs": [
        {
          "output_type": "display_data",
          "data": {
            "image/png": "[encoded data removed]",
            "text/plain": [
              "plot without title"
            ]
          },
          "metadata": {
            "image/png": {
              "width": 420,
              "height": 420
            }
          }
        }
      ]
    },
    {
      "cell_type": "markdown",
      "source": [
        "##Labels and Header\n",
        "Use the label parameter to add a label to the pie chart, and use the main parameter to add a header:"
      ],
      "metadata": {
        "id": "hZ6ENb5k7NvL"
      }
    },
    {
      "cell_type": "code",
      "source": [
        "# Create a vector of pies\n",
        "x <- c(10,20,30,40)\n",
        "\n",
        "# Create a vector of labels\n",
        "mylabel <- c(\"Apples\", \"Bananas\", \"Cherries\", \"Dates\")\n",
        "\n",
        "# Display the pie chart with labels\n",
        "pie(x, label = mylabel, main = \"Fruits\")"
      ],
      "metadata": {
        "colab": {
          "base_uri": "https://localhost:8080/",
          "height": 437
        },
        "id": "r7vVxW737dri",
        "outputId": "150a4013-1e2f-4ce3-de19-6c6911af393a"
      },
      "execution_count": 153,
      "outputs": [
        {
          "output_type": "display_data",
          "data": {
            "image/png": "[encoded data removed]",
            "text/plain": [
              "Plot with title “Fruits”"
            ]
          },
          "metadata": {
            "image/png": {
              "width": 420,
              "height": 420
            }
          }
        }
      ]
    },
    {
      "cell_type": "code",
      "source": [
        "# You can add a color to each pie with the col parameter:\n",
        "# Create a vector of colors\n",
        "colors <- c(\"blue\", \"yellow\", \"green\", \"black\")\n",
        "\n",
        "# Display the pie chart with colors\n",
        "pie(x, label = mylabel, main = \"Fruits\", col = colors)"
      ],
      "metadata": {
        "colab": {
          "base_uri": "https://localhost:8080/",
          "height": 437
        },
        "id": "xbY_7nAY7mjM",
        "outputId": "8ed9a446-e499-4a1d-b828-5acc47b70e19"
      },
      "execution_count": 154,
      "outputs": [
        {
          "output_type": "display_data",
          "data": {
            "image/png": "[encoded data removed]",
            "text/plain": [
              "Plot with title “Fruits”"
            ]
          },
          "metadata": {
            "image/png": {
              "width": 420,
              "height": 420
            }
          }
        }
      ]
    },
    {
      "cell_type": "code",
      "source": [
        "# Legend\n",
        "# To add a list of explanation for each pie, use the legend() function:\n",
        "# Create a vector of labels\n",
        "mylabel <- c(\"Apples\", \"Bananas\", \"Cherries\", \"Dates\")\n",
        "\n",
        "# Create a vector of colors\n",
        "colors <- c(\"blue\", \"yellow\", \"green\", \"black\")\n",
        "\n",
        "# Display the pie chart with colors\n",
        "pie(x, label = mylabel, main = \"Pie Chart\", col = colors)\n",
        "\n",
        "# Display the explanation box\n",
        "legend(\"bottomright\", mylabel, fill = colors)"
      ],
      "metadata": {
        "colab": {
          "base_uri": "https://localhost:8080/",
          "height": 437
        },
        "id": "rD5WsX_u7-ow",
        "outputId": "216bab14-c306-4136-804e-6302cfddef3b"
      },
      "execution_count": 155,
      "outputs": [
        {
          "output_type": "display_data",
          "data": {
            "image/png": "[encoded data removed]",
            "text/plain": [
              "Plot with title “Pie Chart”"
            ]
          },
          "metadata": {
            "image/png": {
              "width": 420,
              "height": 420
            }
          }
        }
      ]
    },
    {
      "cell_type": "markdown",
      "source": [
        "The legend can be positioned as either:\n",
        "\n",
        "bottomright, bottom, bottomleft, left, topleft, top, topright, right, center"
      ],
      "metadata": {
        "id": "0AsGdWAP8LzT"
      }
    },
    {
      "cell_type": "markdown",
      "source": [
        "#Bar Charts\n",
        "A bar chart uses rectangular bars to visualize data. Bar charts can be displayed horizontally or vertically. The height or length of the bars are proportional to the values they represent.\n",
        "\n",
        "Use the barplot() function to draw a vertical bar chart:"
      ],
      "metadata": {
        "id": "fI6Z_-qT7zm6"
      }
    },
    {
      "cell_type": "code",
      "source": [
        "# x-axis values\n",
        "x <- c(\"A\", \"B\", \"C\", \"D\")\n",
        "\n",
        "# y-axis values\n",
        "y <- c(2, 4, 6, 8)\n",
        "\n",
        "barplot(y, names.arg = x)"
      ],
      "metadata": {
        "colab": {
          "base_uri": "https://localhost:8080/",
          "height": 437
        },
        "id": "6HehrQRG8Xhr",
        "outputId": "1cde2e8f-a627-48cf-fabe-8538cb2b0977"
      },
      "execution_count": 156,
      "outputs": [
        {
          "output_type": "display_data",
          "data": {
            "image/png": "[encoded data removed]",
            "text/plain": [
              "plot without title"
            ]
          },
          "metadata": {
            "image/png": {
              "width": 420,
              "height": 420
            }
          }
        }
      ]
    },
    {
      "cell_type": "code",
      "source": [
        "# Use the col parameter to change the color of the bars:\n",
        "x <- c(\"A\", \"B\", \"C\", \"D\")\n",
        "y <- c(2, 4, 6, 8)\n",
        "\n",
        "barplot(y, names.arg = x, col = \"red\")"
      ],
      "metadata": {
        "colab": {
          "base_uri": "https://localhost:8080/",
          "height": 437
        },
        "id": "7Y0vsYFw8bw4",
        "outputId": "eee20bde-f3e4-4e71-ab0b-62a300552b78"
      },
      "execution_count": 157,
      "outputs": [
        {
          "output_type": "display_data",
          "data": {
            "image/png": "[encoded data removed]",
            "text/plain": [
              "plot without title"
            ]
          },
          "metadata": {
            "image/png": {
              "width": 420,
              "height": 420
            }
          }
        }
      ]
    },
    {
      "cell_type": "code",
      "source": [
        "# Density / Bar Texture\n",
        "# To change the bar texture, use the density parameter:\n",
        "x <- c(\"A\", \"B\", \"C\", \"D\")\n",
        "y <- c(2, 4, 6, 8)\n",
        "\n",
        "barplot(y, names.arg = x, density = 5)"
      ],
      "metadata": {
        "colab": {
          "base_uri": "https://localhost:8080/",
          "height": 437
        },
        "id": "Iee82Os29Gh1",
        "outputId": "ff819d17-1a66-42f9-8b0a-80e9187148f7"
      },
      "execution_count": 160,
      "outputs": [
        {
          "output_type": "display_data",
          "data": {
            "image/png": "[encoded data removed]",
            "text/plain": [
              "plot without title"
            ]
          },
          "metadata": {
            "image/png": {
              "width": 420,
              "height": 420
            }
          }
        }
      ]
    },
    {
      "cell_type": "code",
      "source": [
        "# Use the width parameter to change the width of the bars:\n",
        "x <- c(\"A\", \"B\", \"C\", \"D\")\n",
        "y <- c(2, 4, 6, 8)\n",
        "\n",
        "barplot(y, names.arg = x, width = c(1,2,3,4))"
      ],
      "metadata": {
        "colab": {
          "base_uri": "https://localhost:8080/",
          "height": 437
        },
        "id": "LUkG7Frw9b4z",
        "outputId": "ec22c521-b0e1-4bfd-9990-7ed207c54920"
      },
      "execution_count": 159,
      "outputs": [
        {
          "output_type": "display_data",
          "data": {
            "image/png": "[encoded data removed]",
            "text/plain": [
              "plot without title"
            ]
          },
          "metadata": {
            "image/png": {
              "width": 420,
              "height": 420
            }
          }
        }
      ]
    },
    {
      "cell_type": "code",
      "source": [
        "# Horizontal Bars\n",
        "# If you want the bars to be displayed horizontally instead of vertically, use horiz=TRUE:\n",
        "x <- c(\"A\", \"B\", \"C\", \"D\")\n",
        "y <- c(2, 4, 6, 8)\n",
        "\n",
        "barplot(y, names.arg = x, horiz = TRUE)"
      ],
      "metadata": {
        "colab": {
          "base_uri": "https://localhost:8080/",
          "height": 437
        },
        "id": "3Baw9_Sz9VUS",
        "outputId": "96fa98c5-b2de-4b07-aee6-b67d0e5c2088"
      },
      "execution_count": 161,
      "outputs": [
        {
          "output_type": "display_data",
          "data": {
            "image/png": "[encoded data removed]",
            "text/plain": [
              "plot without title"
            ]
          },
          "metadata": {
            "image/png": {
              "width": 420,
              "height": 420
            }
          }
        }
      ]
    },
    {
      "cell_type": "code",
      "source": [
        "mtcars"
      ],
      "metadata": {
        "colab": {
          "base_uri": "https://localhost:8080/",
          "height": 1000
        },
        "id": "VR8hMSld9zj2",
        "outputId": "98df73da-22fc-4e1d-ff20-3f03896fa19e"
      },
      "execution_count": 1,
      "outputs": [
        {
          "output_type": "display_data",
          "data": {
            "text/plain": [
              "                    mpg  cyl disp  hp  drat wt    qsec  vs am gear carb\n",
              "Mazda RX4           21.0 6   160.0 110 3.90 2.620 16.46 0  1  4    4   \n",
              "Mazda RX4 Wag       21.0 6   160.0 110 3.90 2.875 17.02 0  1  4    4   \n",
              "Datsun 710          22.8 4   108.0  93 3.85 2.320 18.61 1  1  4    1   \n",
              "Hornet 4 Drive      21.4 6   258.0 110 3.08 3.215 19.44 1  0  3    1   \n",
              "Hornet Sportabout   18.7 8   360.0 175 3.15 3.440 17.02 0  0  3    2   \n",
              "Valiant             18.1 6   225.0 105 2.76 3.460 20.22 1  0  3    1   \n",
              "Duster 360          14.3 8   360.0 245 3.21 3.570 15.84 0  0  3    4   \n",
              "Merc 240D           24.4 4   146.7  62 3.69 3.190 20.00 1  0  4    2   \n",
              "Merc 230            22.8 4   140.8  95 3.92 3.150 22.90 1  0  4    2   \n",
              "Merc 280            19.2 6   167.6 123 3.92 3.440 18.30 1  0  4    4   \n",
              "Merc 280C           17.8 6   167.6 123 3.92 3.440 18.90 1  0  4    4   \n",
              "Merc 450SE          16.4 8   275.8 180 3.07 4.070 17.40 0  0  3    3   \n",
              "Merc 450SL          17.3 8   275.8 180 3.07 3.730 17.60 0  0  3    3   \n",
              "Merc 450SLC         15.2 8   275.8 180 3.07 3.780 18.00 0  0  3    3   \n",
              "Cadillac Fleetwood  10.4 8   472.0 205 2.93 5.250 17.98 0  0  3    4   \n",
              "Lincoln Continental 10.4 8   460.0 215 3.00 5.424 17.82 0  0  3    4   \n",
              "Chrysler Imperial   14.7 8   440.0 230 3.23 5.345 17.42 0  0  3    4   \n",
              "Fiat 128            32.4 4    78.7  66 4.08 2.200 19.47 1  1  4    1   \n",
              "Honda Civic         30.4 4    75.7  52 4.93 1.615 18.52 1  1  4    2   \n",
              "Toyota Corolla      33.9 4    71.1  65 4.22 1.835 19.90 1  1  4    1   \n",
              "Toyota Corona       21.5 4   120.1  97 3.70 2.465 20.01 1  0  3    1   \n",
              "Dodge Challenger    15.5 8   318.0 150 2.76 3.520 16.87 0  0  3    2   \n",
              "AMC Javelin         15.2 8   304.0 150 3.15 3.435 17.30 0  0  3    2   \n",
              "Camaro Z28          13.3 8   350.0 245 3.73 3.840 15.41 0  0  3    4   \n",
              "Pontiac Firebird    19.2 8   400.0 175 3.08 3.845 17.05 0  0  3    2   \n",
              "Fiat X1-9           27.3 4    79.0  66 4.08 1.935 18.90 1  1  4    1   \n",
              "Porsche 914-2       26.0 4   120.3  91 4.43 2.140 16.70 0  1  5    2   \n",
              "Lotus Europa        30.4 4    95.1 113 3.77 1.513 16.90 1  1  5    2   \n",
              "Ford Pantera L      15.8 8   351.0 264 4.22 3.170 14.50 0  1  5    4   \n",
              "Ferrari Dino        19.7 6   145.0 175 3.62 2.770 15.50 0  1  5    6   \n",
              "Maserati Bora       15.0 8   301.0 335 3.54 3.570 14.60 0  1  5    8   \n",
              "Volvo 142E          21.4 4   121.0 109 4.11 2.780 18.60 1  1  4    2   "
            ],
            "text/latex": "A data.frame: 32 × 11\n\\begin{tabular}{r|lllllllllll}\n  & mpg & cyl & disp & hp & drat & wt & qsec & vs & am & gear & carb\\\\\n  & <dbl> & <dbl> & <dbl> & <dbl> & <dbl> & <dbl> & <dbl> & <dbl> & <dbl> & <dbl> & <dbl>\\\\\n\\hline\n\tMazda RX4 & 21.0 & 6 & 160.0 & 110 & 3.90 & 2.620 & 16.46 & 0 & 1 & 4 & 4\\\\\n\tMazda RX4 Wag & 21.0 & 6 & 160.0 & 110 & 3.90 & 2.875 & 17.02 & 0 & 1 & 4 & 4\\\\\n\tDatsun 710 & 22.8 & 4 & 108.0 &  93 & 3.85 & 2.320 & 18.61 & 1 & 1 & 4 & 1\\\\\n\tHornet 4 Drive & 21.4 & 6 & 258.0 & 110 & 3.08 & 3.215 & 19.44 & 1 & 0 & 3 & 1\\\\\n\tHornet Sportabout & 18.7 & 8 & 360.0 & 175 & 3.15 & 3.440 & 17.02 & 0 & 0 & 3 & 2\\\\\n\tValiant & 18.1 & 6 & 225.0 & 105 & 2.76 & 3.460 & 20.22 & 1 & 0 & 3 & 1\\\\\n\tDuster 360 & 14.3 & 8 & 360.0 & 245 & 3.21 & 3.570 & 15.84 & 0 & 0 & 3 & 4\\\\\n\tMerc 240D & 24.4 & 4 & 146.7 &  62 & 3.69 & 3.190 & 20.00 & 1 & 0 & 4 & 2\\\\\n\tMerc 230 & 22.8 & 4 & 140.8 &  95 & 3.92 & 3.150 & 22.90 & 1 & 0 & 4 & 2\\\\\n\tMerc 280 & 19.2 & 6 & 167.6 & 123 & 3.92 & 3.440 & 18.30 & 1 & 0 & 4 & 4\\\\\n\tMerc 280C & 17.8 & 6 & 167.6 & 123 & 3.92 & 3.440 & 18.90 & 1 & 0 & 4 & 4\\\\\n\tMerc 450SE & 16.4 & 8 & 275.8 & 180 & 3.07 & 4.070 & 17.40 & 0 & 0 & 3 & 3\\\\\n\tMerc 450SL & 17.3 & 8 & 275.8 & 180 & 3.07 & 3.730 & 17.60 & 0 & 0 & 3 & 3\\\\\n\tMerc 450SLC & 15.2 & 8 & 275.8 & 180 & 3.07 & 3.780 & 18.00 & 0 & 0 & 3 & 3\\\\\n\tCadillac Fleetwood & 10.4 & 8 & 472.0 & 205 & 2.93 & 5.250 & 17.98 & 0 & 0 & 3 & 4\\\\\n\tLincoln Continental & 10.4 & 8 & 460.0 & 215 & 3.00 & 5.424 & 17.82 & 0 & 0 & 3 & 4\\\\\n\tChrysler Imperial & 14.7 & 8 & 440.0 & 230 & 3.23 & 5.345 & 17.42 & 0 & 0 & 3 & 4\\\\\n\tFiat 128 & 32.4 & 4 &  78.7 &  66 & 4.08 & 2.200 & 19.47 & 1 & 1 & 4 & 1\\\\\n\tHonda Civic & 30.4 & 4 &  75.7 &  52 & 4.93 & 1.615 & 18.52 & 1 & 1 & 4 & 2\\\\\n\tToyota Corolla & 33.9 & 4 &  71.1 &  65 & 4.22 & 1.835 & 19.90 & 1 & 1 & 4 & 1\\\\\n\tToyota Corona & 21.5 & 4 & 120.1 &  97 & 3.70 & 2.465 & 20.01 & 1 & 0 & 3 & 1\\\\\n\tDodge Challenger & 15.5 & 8 & 318.0 & 150 & 2.76 & 3.520 & 16.87 & 0 & 0 & 3 & 2\\\\\n\tAMC Javelin & 15.2 & 8 & 304.0 & 150 & 3.15 & 3.435 & 17.30 & 0 & 0 & 3 & 2\\\\\n\tCamaro Z28 & 13.3 & 8 & 350.0 & 245 & 3.73 & 3.840 & 15.41 & 0 & 0 & 3 & 4\\\\\n\tPontiac Firebird & 19.2 & 8 & 400.0 & 175 & 3.08 & 3.845 & 17.05 & 0 & 0 & 3 & 2\\\\\n\tFiat X1-9 & 27.3 & 4 &  79.0 &  66 & 4.08 & 1.935 & 18.90 & 1 & 1 & 4 & 1\\\\\n\tPorsche 914-2 & 26.0 & 4 & 120.3 &  91 & 4.43 & 2.140 & 16.70 & 0 & 1 & 5 & 2\\\\\n\tLotus Europa & 30.4 & 4 &  95.1 & 113 & 3.77 & 1.513 & 16.90 & 1 & 1 & 5 & 2\\\\\n\tFord Pantera L & 15.8 & 8 & 351.0 & 264 & 4.22 & 3.170 & 14.50 & 0 & 1 & 5 & 4\\\\\n\tFerrari Dino & 19.7 & 6 & 145.0 & 175 & 3.62 & 2.770 & 15.50 & 0 & 1 & 5 & 6\\\\\n\tMaserati Bora & 15.0 & 8 & 301.0 & 335 & 3.54 & 3.570 & 14.60 & 0 & 1 & 5 & 8\\\\\n\tVolvo 142E & 21.4 & 4 & 121.0 & 109 & 4.11 & 2.780 & 18.60 & 1 & 1 & 4 & 2\\\\\n\\end{tabular}\n",
            "text/markdown": "\nA data.frame: 32 × 11\n\n| <!--/--> | mpg &lt;dbl&gt; | cyl &lt;dbl&gt; | disp &lt;dbl&gt; | hp &lt;dbl&gt; | drat &lt;dbl&gt; | wt &lt;dbl&gt; | qsec &lt;dbl&gt; | vs &lt;dbl&gt; | am &lt;dbl&gt; | gear &lt;dbl&gt; | carb &lt;dbl&gt; |\n|---|---|---|---|---|---|---|---|---|---|---|---|\n| Mazda RX4 | 21.0 | 6 | 160.0 | 110 | 3.90 | 2.620 | 16.46 | 0 | 1 | 4 | 4 |\n| Mazda RX4 Wag | 21.0 | 6 | 160.0 | 110 | 3.90 | 2.875 | 17.02 | 0 | 1 | 4 | 4 |\n| Datsun 710 | 22.8 | 4 | 108.0 |  93 | 3.85 | 2.320 | 18.61 | 1 | 1 | 4 | 1 |\n| Hornet 4 Drive | 21.4 | 6 | 258.0 | 110 | 3.08 | 3.215 | 19.44 | 1 | 0 | 3 | 1 |\n| Hornet Sportabout | 18.7 | 8 | 360.0 | 175 | 3.15 | 3.440 | 17.02 | 0 | 0 | 3 | 2 |\n| Valiant | 18.1 | 6 | 225.0 | 105 | 2.76 | 3.460 | 20.22 | 1 | 0 | 3 | 1 |\n| Duster 360 | 14.3 | 8 | 360.0 | 245 | 3.21 | 3.570 | 15.84 | 0 | 0 | 3 | 4 |\n| Merc 240D | 24.4 | 4 | 146.7 |  62 | 3.69 | 3.190 | 20.00 | 1 | 0 | 4 | 2 |\n| Merc 230 | 22.8 | 4 | 140.8 |  95 | 3.92 | 3.150 | 22.90 | 1 | 0 | 4 | 2 |\n| Merc 280 | 19.2 | 6 | 167.6 | 123 | 3.92 | 3.440 | 18.30 | 1 | 0 | 4 | 4 |\n| Merc 280C | 17.8 | 6 | 167.6 | 123 | 3.92 | 3.440 | 18.90 | 1 | 0 | 4 | 4 |\n| Merc 450SE | 16.4 | 8 | 275.8 | 180 | 3.07 | 4.070 | 17.40 | 0 | 0 | 3 | 3 |\n| Merc 450SL | 17.3 | 8 | 275.8 | 180 | 3.07 | 3.730 | 17.60 | 0 | 0 | 3 | 3 |\n| Merc 450SLC | 15.2 | 8 | 275.8 | 180 | 3.07 | 3.780 | 18.00 | 0 | 0 | 3 | 3 |\n| Cadillac Fleetwood | 10.4 | 8 | 472.0 | 205 | 2.93 | 5.250 | 17.98 | 0 | 0 | 3 | 4 |\n| Lincoln Continental | 10.4 | 8 | 460.0 | 215 | 3.00 | 5.424 | 17.82 | 0 | 0 | 3 | 4 |\n| Chrysler Imperial | 14.7 | 8 | 440.0 | 230 | 3.23 | 5.345 | 17.42 | 0 | 0 | 3 | 4 |\n| Fiat 128 | 32.4 | 4 |  78.7 |  66 | 4.08 | 2.200 | 19.47 | 1 | 1 | 4 | 1 |\n| Honda Civic | 30.4 | 4 |  75.7 |  52 | 4.93 | 1.615 | 18.52 | 1 | 1 | 4 | 2 |\n| Toyota Corolla | 33.9 | 4 |  71.1 |  65 | 4.22 | 1.835 | 19.90 | 1 | 1 | 4 | 1 |\n| Toyota Corona | 21.5 | 4 | 120.1 |  97 | 3.70 | 2.465 | 20.01 | 1 | 0 | 3 | 1 |\n| Dodge Challenger | 15.5 | 8 | 318.0 | 150 | 2.76 | 3.520 | 16.87 | 0 | 0 | 3 | 2 |\n| AMC Javelin | 15.2 | 8 | 304.0 | 150 | 3.15 | 3.435 | 17.30 | 0 | 0 | 3 | 2 |\n| Camaro Z28 | 13.3 | 8 | 350.0 | 245 | 3.73 | 3.840 | 15.41 | 0 | 0 | 3 | 4 |\n| Pontiac Firebird | 19.2 | 8 | 400.0 | 175 | 3.08 | 3.845 | 17.05 | 0 | 0 | 3 | 2 |\n| Fiat X1-9 | 27.3 | 4 |  79.0 |  66 | 4.08 | 1.935 | 18.90 | 1 | 1 | 4 | 1 |\n| Porsche 914-2 | 26.0 | 4 | 120.3 |  91 | 4.43 | 2.140 | 16.70 | 0 | 1 | 5 | 2 |\n| Lotus Europa | 30.4 | 4 |  95.1 | 113 | 3.77 | 1.513 | 16.90 | 1 | 1 | 5 | 2 |\n| Ford Pantera L | 15.8 | 8 | 351.0 | 264 | 4.22 | 3.170 | 14.50 | 0 | 1 | 5 | 4 |\n| Ferrari Dino | 19.7 | 6 | 145.0 | 175 | 3.62 | 2.770 | 15.50 | 0 | 1 | 5 | 6 |\n| Maserati Bora | 15.0 | 8 | 301.0 | 335 | 3.54 | 3.570 | 14.60 | 0 | 1 | 5 | 8 |\n| Volvo 142E | 21.4 | 4 | 121.0 | 109 | 4.11 | 2.780 | 18.60 | 1 | 1 | 4 | 2 |\n\n",
            "text/html": [
              "<table class=\"dataframe\">\n",
              "<caption>A data.frame: 32 × 11</caption>\n",
              "<thead>\n",
              "\t<tr><th></th><th scope=col>mpg</th><th scope=col>cyl</th><th scope=col>disp</th><th scope=col>hp</th><th scope=col>drat</th><th scope=col>wt</th><th scope=col>qsec</th><th scope=col>vs</th><th scope=col>am</th><th scope=col>gear</th><th scope=col>carb</th></tr>\n",
              "\t<tr><th></th><th scope=col>&lt;dbl&gt;</th><th scope=col>&lt;dbl&gt;</th><th scope=col>&lt;dbl&gt;</th><th scope=col>&lt;dbl&gt;</th><th scope=col>&lt;dbl&gt;</th><th scope=col>&lt;dbl&gt;</th><th scope=col>&lt;dbl&gt;</th><th scope=col>&lt;dbl&gt;</th><th scope=col>&lt;dbl&gt;</th><th scope=col>&lt;dbl&gt;</th><th scope=col>&lt;dbl&gt;</th></tr>\n",
              "</thead>\n",
              "<tbody>\n",
              "\t<tr><th scope=row>Mazda RX4</th><td>21.0</td><td>6</td><td>160.0</td><td>110</td><td>3.90</td><td>2.620</td><td>16.46</td><td>0</td><td>1</td><td>4</td><td>4</td></tr>\n",
              "\t<tr><th scope=row>Mazda RX4 Wag</th><td>21.0</td><td>6</td><td>160.0</td><td>110</td><td>3.90</td><td>2.875</td><td>17.02</td><td>0</td><td>1</td><td>4</td><td>4</td></tr>\n",
              "\t<tr><th scope=row>Datsun 710</th><td>22.8</td><td>4</td><td>108.0</td><td> 93</td><td>3.85</td><td>2.320</td><td>18.61</td><td>1</td><td>1</td><td>4</td><td>1</td></tr>\n",
              "\t<tr><th scope=row>Hornet 4 Drive</th><td>21.4</td><td>6</td><td>258.0</td><td>110</td><td>3.08</td><td>3.215</td><td>19.44</td><td>1</td><td>0</td><td>3</td><td>1</td></tr>\n",
              "\t<tr><th scope=row>Hornet Sportabout</th><td>18.7</td><td>8</td><td>360.0</td><td>175</td><td>3.15</td><td>3.440</td><td>17.02</td><td>0</td><td>0</td><td>3</td><td>2</td></tr>\n",
              "\t<tr><th scope=row>Valiant</th><td>18.1</td><td>6</td><td>225.0</td><td>105</td><td>2.76</td><td>3.460</td><td>20.22</td><td>1</td><td>0</td><td>3</td><td>1</td></tr>\n",
              "\t<tr><th scope=row>Duster 360</th><td>14.3</td><td>8</td><td>360.0</td><td>245</td><td>3.21</td><td>3.570</td><td>15.84</td><td>0</td><td>0</td><td>3</td><td>4</td></tr>\n",
              "\t<tr><th scope=row>Merc 240D</th><td>24.4</td><td>4</td><td>146.7</td><td> 62</td><td>3.69</td><td>3.190</td><td>20.00</td><td>1</td><td>0</td><td>4</td><td>2</td></tr>\n",
              "\t<tr><th scope=row>Merc 230</th><td>22.8</td><td>4</td><td>140.8</td><td> 95</td><td>3.92</td><td>3.150</td><td>22.90</td><td>1</td><td>0</td><td>4</td><td>2</td></tr>\n",
              "\t<tr><th scope=row>Merc 280</th><td>19.2</td><td>6</td><td>167.6</td><td>123</td><td>3.92</td><td>3.440</td><td>18.30</td><td>1</td><td>0</td><td>4</td><td>4</td></tr>\n",
              "\t<tr><th scope=row>Merc 280C</th><td>17.8</td><td>6</td><td>167.6</td><td>123</td><td>3.92</td><td>3.440</td><td>18.90</td><td>1</td><td>0</td><td>4</td><td>4</td></tr>\n",
              "\t<tr><th scope=row>Merc 450SE</th><td>16.4</td><td>8</td><td>275.8</td><td>180</td><td>3.07</td><td>4.070</td><td>17.40</td><td>0</td><td>0</td><td>3</td><td>3</td></tr>\n",
              "\t<tr><th scope=row>Merc 450SL</th><td>17.3</td><td>8</td><td>275.8</td><td>180</td><td>3.07</td><td>3.730</td><td>17.60</td><td>0</td><td>0</td><td>3</td><td>3</td></tr>\n",
              "\t<tr><th scope=row>Merc 450SLC</th><td>15.2</td><td>8</td><td>275.8</td><td>180</td><td>3.07</td><td>3.780</td><td>18.00</td><td>0</td><td>0</td><td>3</td><td>3</td></tr>\n",
              "\t<tr><th scope=row>Cadillac Fleetwood</th><td>10.4</td><td>8</td><td>472.0</td><td>205</td><td>2.93</td><td>5.250</td><td>17.98</td><td>0</td><td>0</td><td>3</td><td>4</td></tr>\n",
              "\t<tr><th scope=row>Lincoln Continental</th><td>10.4</td><td>8</td><td>460.0</td><td>215</td><td>3.00</td><td>5.424</td><td>17.82</td><td>0</td><td>0</td><td>3</td><td>4</td></tr>\n",
              "\t<tr><th scope=row>Chrysler Imperial</th><td>14.7</td><td>8</td><td>440.0</td><td>230</td><td>3.23</td><td>5.345</td><td>17.42</td><td>0</td><td>0</td><td>3</td><td>4</td></tr>\n",
              "\t<tr><th scope=row>Fiat 128</th><td>32.4</td><td>4</td><td> 78.7</td><td> 66</td><td>4.08</td><td>2.200</td><td>19.47</td><td>1</td><td>1</td><td>4</td><td>1</td></tr>\n",
              "\t<tr><th scope=row>Honda Civic</th><td>30.4</td><td>4</td><td> 75.7</td><td> 52</td><td>4.93</td><td>1.615</td><td>18.52</td><td>1</td><td>1</td><td>4</td><td>2</td></tr>\n",
              "\t<tr><th scope=row>Toyota Corolla</th><td>33.9</td><td>4</td><td> 71.1</td><td> 65</td><td>4.22</td><td>1.835</td><td>19.90</td><td>1</td><td>1</td><td>4</td><td>1</td></tr>\n",
              "\t<tr><th scope=row>Toyota Corona</th><td>21.5</td><td>4</td><td>120.1</td><td> 97</td><td>3.70</td><td>2.465</td><td>20.01</td><td>1</td><td>0</td><td>3</td><td>1</td></tr>\n",
              "\t<tr><th scope=row>Dodge Challenger</th><td>15.5</td><td>8</td><td>318.0</td><td>150</td><td>2.76</td><td>3.520</td><td>16.87</td><td>0</td><td>0</td><td>3</td><td>2</td></tr>\n",
              "\t<tr><th scope=row>AMC Javelin</th><td>15.2</td><td>8</td><td>304.0</td><td>150</td><td>3.15</td><td>3.435</td><td>17.30</td><td>0</td><td>0</td><td>3</td><td>2</td></tr>\n",
              "\t<tr><th scope=row>Camaro Z28</th><td>13.3</td><td>8</td><td>350.0</td><td>245</td><td>3.73</td><td>3.840</td><td>15.41</td><td>0</td><td>0</td><td>3</td><td>4</td></tr>\n",
              "\t<tr><th scope=row>Pontiac Firebird</th><td>19.2</td><td>8</td><td>400.0</td><td>175</td><td>3.08</td><td>3.845</td><td>17.05</td><td>0</td><td>0</td><td>3</td><td>2</td></tr>\n",
              "\t<tr><th scope=row>Fiat X1-9</th><td>27.3</td><td>4</td><td> 79.0</td><td> 66</td><td>4.08</td><td>1.935</td><td>18.90</td><td>1</td><td>1</td><td>4</td><td>1</td></tr>\n",
              "\t<tr><th scope=row>Porsche 914-2</th><td>26.0</td><td>4</td><td>120.3</td><td> 91</td><td>4.43</td><td>2.140</td><td>16.70</td><td>0</td><td>1</td><td>5</td><td>2</td></tr>\n",
              "\t<tr><th scope=row>Lotus Europa</th><td>30.4</td><td>4</td><td> 95.1</td><td>113</td><td>3.77</td><td>1.513</td><td>16.90</td><td>1</td><td>1</td><td>5</td><td>2</td></tr>\n",
              "\t<tr><th scope=row>Ford Pantera L</th><td>15.8</td><td>8</td><td>351.0</td><td>264</td><td>4.22</td><td>3.170</td><td>14.50</td><td>0</td><td>1</td><td>5</td><td>4</td></tr>\n",
              "\t<tr><th scope=row>Ferrari Dino</th><td>19.7</td><td>6</td><td>145.0</td><td>175</td><td>3.62</td><td>2.770</td><td>15.50</td><td>0</td><td>1</td><td>5</td><td>6</td></tr>\n",
              "\t<tr><th scope=row>Maserati Bora</th><td>15.0</td><td>8</td><td>301.0</td><td>335</td><td>3.54</td><td>3.570</td><td>14.60</td><td>0</td><td>1</td><td>5</td><td>8</td></tr>\n",
              "\t<tr><th scope=row>Volvo 142E</th><td>21.4</td><td>4</td><td>121.0</td><td>109</td><td>4.11</td><td>2.780</td><td>18.60</td><td>1</td><td>1</td><td>4</td><td>2</td></tr>\n",
              "</tbody>\n",
              "</table>\n"
            ]
          },
          "metadata": {}
        }
      ]
    },
    {
      "cell_type": "code",
      "source": [
        "# You can use the question mark (?) to get information about the mtcars data set:\n",
        "?mtcars"
      ],
      "metadata": {
        "id": "LYXe90VLJS10"
      },
      "execution_count": 3,
      "outputs": []
    },
    {
      "cell_type": "markdown",
      "source": [
        "Use the dim() function to find the dimensions of the data set, and the names() function to view the names of the variables:"
      ],
      "metadata": {
        "id": "jT3LRbQjKW7s"
      }
    },
    {
      "cell_type": "code",
      "source": [
        "Data_Cars <- mtcars # create a variable of the mtcars data set for better organization\n",
        "\n",
        "# Use dim() to find the dimension of the data set\n",
        "dim(Data_Cars)\n",
        "\n",
        "# Use names() to find the names of the variables from the data set\n",
        "# simply it finds out the column names columns are variables\n",
        "\n",
        "names(Data_Cars)"
      ],
      "metadata": {
        "colab": {
          "base_uri": "https://localhost:8080/",
          "height": 52
        },
        "id": "q99yh3tgKivf",
        "outputId": "bc45b4d8-39ba-4856-d58c-65f2058ec0df"
      },
      "execution_count": 4,
      "outputs": [
        {
          "output_type": "display_data",
          "data": {
            "text/plain": [
              "[1] 32 11"
            ],
            "text/latex": "\\begin{enumerate*}\n\\item 32\n\\item 11\n\\end{enumerate*}\n",
            "text/markdown": "1. 32\n2. 11\n\n\n",
            "text/html": [
              "<style>\n",
              ".list-inline {list-style: none; margin:0; padding: 0}\n",
              ".list-inline>li {display: inline-block}\n",
              ".list-inline>li:not(:last-child)::after {content: \"\\00b7\"; padding: 0 .5ex}\n",
              "</style>\n",
              "<ol class=list-inline><li>32</li><li>11</li></ol>\n"
            ]
          },
          "metadata": {}
        },
        {
          "output_type": "display_data",
          "data": {
            "text/plain": [
              " [1] \"mpg\"  \"cyl\"  \"disp\" \"hp\"   \"drat\" \"wt\"   \"qsec\" \"vs\"   \"am\"   \"gear\"\n",
              "[11] \"carb\""
            ],
            "text/latex": "\\begin{enumerate*}\n\\item 'mpg'\n\\item 'cyl'\n\\item 'disp'\n\\item 'hp'\n\\item 'drat'\n\\item 'wt'\n\\item 'qsec'\n\\item 'vs'\n\\item 'am'\n\\item 'gear'\n\\item 'carb'\n\\end{enumerate*}\n",
            "text/markdown": "1. 'mpg'\n2. 'cyl'\n3. 'disp'\n4. 'hp'\n5. 'drat'\n6. 'wt'\n7. 'qsec'\n8. 'vs'\n9. 'am'\n10. 'gear'\n11. 'carb'\n\n\n",
            "text/html": [
              "<style>\n",
              ".list-inline {list-style: none; margin:0; padding: 0}\n",
              ".list-inline>li {display: inline-block}\n",
              ".list-inline>li:not(:last-child)::after {content: \"\\00b7\"; padding: 0 .5ex}\n",
              "</style>\n",
              "<ol class=list-inline><li>'mpg'</li><li>'cyl'</li><li>'disp'</li><li>'hp'</li><li>'drat'</li><li>'wt'</li><li>'qsec'</li><li>'vs'</li><li>'am'</li><li>'gear'</li><li>'carb'</li></ol>\n"
            ]
          },
          "metadata": {}
        }
      ]
    },
    {
      "cell_type": "markdown",
      "source": [
        "Use the rownames() function to get the name of each row in the first column, which is the name of each car:"
      ],
      "metadata": {
        "id": "Cu90ytfIK75M"
      }
    },
    {
      "cell_type": "code",
      "source": [
        "data_cars <- mtcars\n",
        "rownames(data_cars)"
      ],
      "metadata": {
        "colab": {
          "base_uri": "https://localhost:8080/",
          "height": 104
        },
        "id": "5gG1K56ULBQT",
        "outputId": "2bef4d2b-2462-4a58-8a3a-957482cf67be"
      },
      "execution_count": 5,
      "outputs": [
        {
          "output_type": "display_data",
          "data": {
            "text/plain": [
              " [1] \"Mazda RX4\"           \"Mazda RX4 Wag\"       \"Datsun 710\"         \n",
              " [4] \"Hornet 4 Drive\"      \"Hornet Sportabout\"   \"Valiant\"            \n",
              " [7] \"Duster 360\"          \"Merc 240D\"           \"Merc 230\"           \n",
              "[10] \"Merc 280\"            \"Merc 280C\"           \"Merc 450SE\"         \n",
              "[13] \"Merc 450SL\"          \"Merc 450SLC\"         \"Cadillac Fleetwood\" \n",
              "[16] \"Lincoln Continental\" \"Chrysler Imperial\"   \"Fiat 128\"           \n",
              "[19] \"Honda Civic\"         \"Toyota Corolla\"      \"Toyota Corona\"      \n",
              "[22] \"Dodge Challenger\"    \"AMC Javelin\"         \"Camaro Z28\"         \n",
              "[25] \"Pontiac Firebird\"    \"Fiat X1-9\"           \"Porsche 914-2\"      \n",
              "[28] \"Lotus Europa\"        \"Ford Pantera L\"      \"Ferrari Dino\"       \n",
              "[31] \"Maserati Bora\"       \"Volvo 142E\"         "
            ],
            "text/latex": "\\begin{enumerate*}\n\\item 'Mazda RX4'\n\\item 'Mazda RX4 Wag'\n\\item 'Datsun 710'\n\\item 'Hornet 4 Drive'\n\\item 'Hornet Sportabout'\n\\item 'Valiant'\n\\item 'Duster 360'\n\\item 'Merc 240D'\n\\item 'Merc 230'\n\\item 'Merc 280'\n\\item 'Merc 280C'\n\\item 'Merc 450SE'\n\\item 'Merc 450SL'\n\\item 'Merc 450SLC'\n\\item 'Cadillac Fleetwood'\n\\item 'Lincoln Continental'\n\\item 'Chrysler Imperial'\n\\item 'Fiat 128'\n\\item 'Honda Civic'\n\\item 'Toyota Corolla'\n\\item 'Toyota Corona'\n\\item 'Dodge Challenger'\n\\item 'AMC Javelin'\n\\item 'Camaro Z28'\n\\item 'Pontiac Firebird'\n\\item 'Fiat X1-9'\n\\item 'Porsche 914-2'\n\\item 'Lotus Europa'\n\\item 'Ford Pantera L'\n\\item 'Ferrari Dino'\n\\item 'Maserati Bora'\n\\item 'Volvo 142E'\n\\end{enumerate*}\n",
            "text/markdown": "1. 'Mazda RX4'\n2. 'Mazda RX4 Wag'\n3. 'Datsun 710'\n4. 'Hornet 4 Drive'\n5. 'Hornet Sportabout'\n6. 'Valiant'\n7. 'Duster 360'\n8. 'Merc 240D'\n9. 'Merc 230'\n10. 'Merc 280'\n11. 'Merc 280C'\n12. 'Merc 450SE'\n13. 'Merc 450SL'\n14. 'Merc 450SLC'\n15. 'Cadillac Fleetwood'\n16. 'Lincoln Continental'\n17. 'Chrysler Imperial'\n18. 'Fiat 128'\n19. 'Honda Civic'\n20. 'Toyota Corolla'\n21. 'Toyota Corona'\n22. 'Dodge Challenger'\n23. 'AMC Javelin'\n24. 'Camaro Z28'\n25. 'Pontiac Firebird'\n26. 'Fiat X1-9'\n27. 'Porsche 914-2'\n28. 'Lotus Europa'\n29. 'Ford Pantera L'\n30. 'Ferrari Dino'\n31. 'Maserati Bora'\n32. 'Volvo 142E'\n\n\n",
            "text/html": [
              "<style>\n",
              ".list-inline {list-style: none; margin:0; padding: 0}\n",
              ".list-inline>li {display: inline-block}\n",
              ".list-inline>li:not(:last-child)::after {content: \"\\00b7\"; padding: 0 .5ex}\n",
              "</style>\n",
              "<ol class=list-inline><li>'Mazda RX4'</li><li>'Mazda RX4 Wag'</li><li>'Datsun 710'</li><li>'Hornet 4 Drive'</li><li>'Hornet Sportabout'</li><li>'Valiant'</li><li>'Duster 360'</li><li>'Merc 240D'</li><li>'Merc 230'</li><li>'Merc 280'</li><li>'Merc 280C'</li><li>'Merc 450SE'</li><li>'Merc 450SL'</li><li>'Merc 450SLC'</li><li>'Cadillac Fleetwood'</li><li>'Lincoln Continental'</li><li>'Chrysler Imperial'</li><li>'Fiat 128'</li><li>'Honda Civic'</li><li>'Toyota Corolla'</li><li>'Toyota Corona'</li><li>'Dodge Challenger'</li><li>'AMC Javelin'</li><li>'Camaro Z28'</li><li>'Pontiac Firebird'</li><li>'Fiat X1-9'</li><li>'Porsche 914-2'</li><li>'Lotus Europa'</li><li>'Ford Pantera L'</li><li>'Ferrari Dino'</li><li>'Maserati Bora'</li><li>'Volvo 142E'</li></ol>\n"
            ]
          },
          "metadata": {}
        }
      ]
    },
    {
      "cell_type": "markdown",
      "source": [
        "##Print Variable Values\n",
        "If you want to print all values that belong to a variable, access the data frame by using the $ sign, and the name of the variable (for example cyl (cylinders)):"
      ],
      "metadata": {
        "id": "ODFS0XWqLLlq"
      }
    },
    {
      "cell_type": "code",
      "source": [
        "data_cars <- mtcars\n",
        "data_cars$cyl"
      ],
      "metadata": {
        "colab": {
          "base_uri": "https://localhost:8080/",
          "height": 35
        },
        "id": "1bqXUxT0Lqj4",
        "outputId": "70a8c353-829e-4f48-c1d1-449e81e37767"
      },
      "execution_count": 6,
      "outputs": [
        {
          "output_type": "display_data",
          "data": {
            "text/plain": [
              " [1] 6 6 4 6 8 6 8 4 4 6 6 8 8 8 8 8 8 4 4 4 4 8 8 8 8 4 4 4 8 6 8 4"
            ],
            "text/latex": "\\begin{enumerate*}\n\\item 6\n\\item 6\n\\item 4\n\\item 6\n\\item 8\n\\item 6\n\\item 8\n\\item 4\n\\item 4\n\\item 6\n\\item 6\n\\item 8\n\\item 8\n\\item 8\n\\item 8\n\\item 8\n\\item 8\n\\item 4\n\\item 4\n\\item 4\n\\item 4\n\\item 8\n\\item 8\n\\item 8\n\\item 8\n\\item 4\n\\item 4\n\\item 4\n\\item 8\n\\item 6\n\\item 8\n\\item 4\n\\end{enumerate*}\n",
            "text/markdown": "1. 6\n2. 6\n3. 4\n4. 6\n5. 8\n6. 6\n7. 8\n8. 4\n9. 4\n10. 6\n11. 6\n12. 8\n13. 8\n14. 8\n15. 8\n16. 8\n17. 8\n18. 4\n19. 4\n20. 4\n21. 4\n22. 8\n23. 8\n24. 8\n25. 8\n26. 4\n27. 4\n28. 4\n29. 8\n30. 6\n31. 8\n32. 4\n\n\n",
            "text/html": [
              "<style>\n",
              ".list-inline {list-style: none; margin:0; padding: 0}\n",
              ".list-inline>li {display: inline-block}\n",
              ".list-inline>li:not(:last-child)::after {content: \"\\00b7\"; padding: 0 .5ex}\n",
              "</style>\n",
              "<ol class=list-inline><li>6</li><li>6</li><li>4</li><li>6</li><li>8</li><li>6</li><li>8</li><li>4</li><li>4</li><li>6</li><li>6</li><li>8</li><li>8</li><li>8</li><li>8</li><li>8</li><li>8</li><li>4</li><li>4</li><li>4</li><li>4</li><li>8</li><li>8</li><li>8</li><li>8</li><li>4</li><li>4</li><li>4</li><li>8</li><li>6</li><li>8</li><li>4</li></ol>\n"
            ]
          },
          "metadata": {}
        }
      ]
    },
    {
      "cell_type": "code",
      "source": [
        "# To sort the values, use the sort() function:\n",
        "data_cars <- mtcars\n",
        "sort(data_cars$cyl)"
      ],
      "metadata": {
        "colab": {
          "base_uri": "https://localhost:8080/",
          "height": 35
        },
        "id": "EU7XngccL2A7",
        "outputId": "2b739da6-d1ec-4733-a256-0c7835a0515c"
      },
      "execution_count": 7,
      "outputs": [
        {
          "output_type": "display_data",
          "data": {
            "text/plain": [
              " [1] 4 4 4 4 4 4 4 4 4 4 4 6 6 6 6 6 6 6 8 8 8 8 8 8 8 8 8 8 8 8 8 8"
            ],
            "text/latex": "\\begin{enumerate*}\n\\item 4\n\\item 4\n\\item 4\n\\item 4\n\\item 4\n\\item 4\n\\item 4\n\\item 4\n\\item 4\n\\item 4\n\\item 4\n\\item 6\n\\item 6\n\\item 6\n\\item 6\n\\item 6\n\\item 6\n\\item 6\n\\item 8\n\\item 8\n\\item 8\n\\item 8\n\\item 8\n\\item 8\n\\item 8\n\\item 8\n\\item 8\n\\item 8\n\\item 8\n\\item 8\n\\item 8\n\\item 8\n\\end{enumerate*}\n",
            "text/markdown": "1. 4\n2. 4\n3. 4\n4. 4\n5. 4\n6. 4\n7. 4\n8. 4\n9. 4\n10. 4\n11. 4\n12. 6\n13. 6\n14. 6\n15. 6\n16. 6\n17. 6\n18. 6\n19. 8\n20. 8\n21. 8\n22. 8\n23. 8\n24. 8\n25. 8\n26. 8\n27. 8\n28. 8\n29. 8\n30. 8\n31. 8\n32. 8\n\n\n",
            "text/html": [
              "<style>\n",
              ".list-inline {list-style: none; margin:0; padding: 0}\n",
              ".list-inline>li {display: inline-block}\n",
              ".list-inline>li:not(:last-child)::after {content: \"\\00b7\"; padding: 0 .5ex}\n",
              "</style>\n",
              "<ol class=list-inline><li>4</li><li>4</li><li>4</li><li>4</li><li>4</li><li>4</li><li>4</li><li>4</li><li>4</li><li>4</li><li>4</li><li>6</li><li>6</li><li>6</li><li>6</li><li>6</li><li>6</li><li>6</li><li>8</li><li>8</li><li>8</li><li>8</li><li>8</li><li>8</li><li>8</li><li>8</li><li>8</li><li>8</li><li>8</li><li>8</li><li>8</li><li>8</li></ol>\n"
            ]
          },
          "metadata": {}
        }
      ]
    },
    {
      "cell_type": "markdown",
      "source": [
        "#Analyzing the Data\n",
        "Now that we have some information about the data set, we can start to analyze it with some statistical numbers.\n",
        "\n",
        "For example, we can use the summary() function to get a statistical summary of the data:"
      ],
      "metadata": {
        "id": "9KAnd0cSMFtE"
      }
    },
    {
      "cell_type": "code",
      "source": [
        "data_cars <- mtcars\n",
        "summary(data_cars)"
      ],
      "metadata": {
        "colab": {
          "base_uri": "https://localhost:8080/",
          "height": 400
        },
        "id": "GFCoWjh2MPtc",
        "outputId": "93bfbdac-e9a3-4bc1-9dd7-b8515187d15f"
      },
      "execution_count": 8,
      "outputs": [
        {
          "output_type": "display_data",
          "data": {
            "text/plain": [
              "      mpg             cyl             disp             hp       \n",
              " Min.   :10.40   Min.   :4.000   Min.   : 71.1   Min.   : 52.0  \n",
              " 1st Qu.:15.43   1st Qu.:4.000   1st Qu.:120.8   1st Qu.: 96.5  \n",
              " Median :19.20   Median :6.000   Median :196.3   Median :123.0  \n",
              " Mean   :20.09   Mean   :6.188   Mean   :230.7   Mean   :146.7  \n",
              " 3rd Qu.:22.80   3rd Qu.:8.000   3rd Qu.:326.0   3rd Qu.:180.0  \n",
              " Max.   :33.90   Max.   :8.000   Max.   :472.0   Max.   :335.0  \n",
              "      drat             wt             qsec             vs        \n",
              " Min.   :2.760   Min.   :1.513   Min.   :14.50   Min.   :0.0000  \n",
              " 1st Qu.:3.080   1st Qu.:2.581   1st Qu.:16.89   1st Qu.:0.0000  \n",
              " Median :3.695   Median :3.325   Median :17.71   Median :0.0000  \n",
              " Mean   :3.597   Mean   :3.217   Mean   :17.85   Mean   :0.4375  \n",
              " 3rd Qu.:3.920   3rd Qu.:3.610   3rd Qu.:18.90   3rd Qu.:1.0000  \n",
              " Max.   :4.930   Max.   :5.424   Max.   :22.90   Max.   :1.0000  \n",
              "       am              gear            carb      \n",
              " Min.   :0.0000   Min.   :3.000   Min.   :1.000  \n",
              " 1st Qu.:0.0000   1st Qu.:3.000   1st Qu.:2.000  \n",
              " Median :0.0000   Median :4.000   Median :2.000  \n",
              " Mean   :0.4062   Mean   :3.688   Mean   :2.812  \n",
              " 3rd Qu.:1.0000   3rd Qu.:4.000   3rd Qu.:4.000  \n",
              " Max.   :1.0000   Max.   :5.000   Max.   :8.000  "
            ]
          },
          "metadata": {}
        }
      ]
    },
    {
      "cell_type": "markdown",
      "source": [
        "The summary() function returns six statistical numbers for each variable:\n",
        "\n",
        "Min\n",
        "First quantile (percentile)\n",
        "Median\n",
        "Mean\n",
        "Third quantile (percentile)\n",
        "Max"
      ],
      "metadata": {
        "id": "dg1-yO_BMV8J"
      }
    },
    {
      "cell_type": "code",
      "source": [
        "min(data_cars$hp)\n",
        "max(data_cars$hp)"
      ],
      "metadata": {
        "colab": {
          "base_uri": "https://localhost:8080/",
          "height": 52
        },
        "id": "w93YZCTSMhvS",
        "outputId": "287a3f16-51cc-4be3-be58-b42a8f6d3f6d"
      },
      "execution_count": 9,
      "outputs": [
        {
          "output_type": "display_data",
          "data": {
            "text/plain": [
              "[1] 52"
            ],
            "text/latex": "52",
            "text/markdown": "52",
            "text/html": [
              "52"
            ]
          },
          "metadata": {}
        },
        {
          "output_type": "display_data",
          "data": {
            "text/plain": [
              "[1] 335"
            ],
            "text/latex": "335",
            "text/markdown": "335",
            "text/html": [
              "335"
            ]
          },
          "metadata": {}
        }
      ]
    },
    {
      "cell_type": "code",
      "source": [
        "mtcars$hp"
      ],
      "metadata": {
        "colab": {
          "base_uri": "https://localhost:8080/",
          "height": 52
        },
        "id": "1aOB5nDZMtyk",
        "outputId": "36e14c3e-2d33-45e6-a804-a42acba34f63"
      },
      "execution_count": 10,
      "outputs": [
        {
          "output_type": "display_data",
          "data": {
            "text/plain": [
              " [1] 110 110  93 110 175 105 245  62  95 123 123 180 180 180 205 215 230  66  52\n",
              "[20]  65  97 150 150 245 175  66  91 113 264 175 335 109"
            ],
            "text/latex": "\\begin{enumerate*}\n\\item 110\n\\item 110\n\\item 93\n\\item 110\n\\item 175\n\\item 105\n\\item 245\n\\item 62\n\\item 95\n\\item 123\n\\item 123\n\\item 180\n\\item 180\n\\item 180\n\\item 205\n\\item 215\n\\item 230\n\\item 66\n\\item 52\n\\item 65\n\\item 97\n\\item 150\n\\item 150\n\\item 245\n\\item 175\n\\item 66\n\\item 91\n\\item 113\n\\item 264\n\\item 175\n\\item 335\n\\item 109\n\\end{enumerate*}\n",
            "text/markdown": "1. 110\n2. 110\n3. 93\n4. 110\n5. 175\n6. 105\n7. 245\n8. 62\n9. 95\n10. 123\n11. 123\n12. 180\n13. 180\n14. 180\n15. 205\n16. 215\n17. 230\n18. 66\n19. 52\n20. 65\n21. 97\n22. 150\n23. 150\n24. 245\n25. 175\n26. 66\n27. 91\n28. 113\n29. 264\n30. 175\n31. 335\n32. 109\n\n\n",
            "text/html": [
              "<style>\n",
              ".list-inline {list-style: none; margin:0; padding: 0}\n",
              ".list-inline>li {display: inline-block}\n",
              ".list-inline>li:not(:last-child)::after {content: \"\\00b7\"; padding: 0 .5ex}\n",
              "</style>\n",
              "<ol class=list-inline><li>110</li><li>110</li><li>93</li><li>110</li><li>175</li><li>105</li><li>245</li><li>62</li><li>95</li><li>123</li><li>123</li><li>180</li><li>180</li><li>180</li><li>205</li><li>215</li><li>230</li><li>66</li><li>52</li><li>65</li><li>97</li><li>150</li><li>150</li><li>245</li><li>175</li><li>66</li><li>91</li><li>113</li><li>264</li><li>175</li><li>335</li><li>109</li></ol>\n"
            ]
          },
          "metadata": {}
        }
      ]
    },
    {
      "cell_type": "code",
      "source": [
        "data_cars$hp"
      ],
      "metadata": {
        "colab": {
          "base_uri": "https://localhost:8080/",
          "height": 52
        },
        "id": "TBrhygrNMxjL",
        "outputId": "06bfeaf8-d5c3-4d27-cb23-0521d05e4af9"
      },
      "execution_count": 11,
      "outputs": [
        {
          "output_type": "display_data",
          "data": {
            "text/plain": [
              " [1] 110 110  93 110 175 105 245  62  95 123 123 180 180 180 205 215 230  66  52\n",
              "[20]  65  97 150 150 245 175  66  91 113 264 175 335 109"
            ],
            "text/latex": "\\begin{enumerate*}\n\\item 110\n\\item 110\n\\item 93\n\\item 110\n\\item 175\n\\item 105\n\\item 245\n\\item 62\n\\item 95\n\\item 123\n\\item 123\n\\item 180\n\\item 180\n\\item 180\n\\item 205\n\\item 215\n\\item 230\n\\item 66\n\\item 52\n\\item 65\n\\item 97\n\\item 150\n\\item 150\n\\item 245\n\\item 175\n\\item 66\n\\item 91\n\\item 113\n\\item 264\n\\item 175\n\\item 335\n\\item 109\n\\end{enumerate*}\n",
            "text/markdown": "1. 110\n2. 110\n3. 93\n4. 110\n5. 175\n6. 105\n7. 245\n8. 62\n9. 95\n10. 123\n11. 123\n12. 180\n13. 180\n14. 180\n15. 205\n16. 215\n17. 230\n18. 66\n19. 52\n20. 65\n21. 97\n22. 150\n23. 150\n24. 245\n25. 175\n26. 66\n27. 91\n28. 113\n29. 264\n30. 175\n31. 335\n32. 109\n\n\n",
            "text/html": [
              "<style>\n",
              ".list-inline {list-style: none; margin:0; padding: 0}\n",
              ".list-inline>li {display: inline-block}\n",
              ".list-inline>li:not(:last-child)::after {content: \"\\00b7\"; padding: 0 .5ex}\n",
              "</style>\n",
              "<ol class=list-inline><li>110</li><li>110</li><li>93</li><li>110</li><li>175</li><li>105</li><li>245</li><li>62</li><li>95</li><li>123</li><li>123</li><li>180</li><li>180</li><li>180</li><li>205</li><li>215</li><li>230</li><li>66</li><li>52</li><li>65</li><li>97</li><li>150</li><li>150</li><li>245</li><li>175</li><li>66</li><li>91</li><li>113</li><li>264</li><li>175</li><li>335</li><li>109</li></ol>\n"
            ]
          },
          "metadata": {}
        }
      ]
    },
    {
      "cell_type": "markdown",
      "source": [
        "For example, we can use the which.max() and which.min() functions to find the index position of the max and min value in the table:"
      ],
      "metadata": {
        "id": "FpFpkCZ0M3Om"
      }
    },
    {
      "cell_type": "code",
      "source": [
        "which.max(data_cars$hp)\n",
        "which.min(data_cars$hp)"
      ],
      "metadata": {
        "colab": {
          "base_uri": "https://localhost:8080/",
          "height": 52
        },
        "id": "1iNqP5XIM95Q",
        "outputId": "cc4c80c2-84da-4c6c-945b-e575cd99b74e"
      },
      "execution_count": 12,
      "outputs": [
        {
          "output_type": "display_data",
          "data": {
            "text/plain": [
              "[1] 31"
            ],
            "text/latex": "31",
            "text/markdown": "31",
            "text/html": [
              "31"
            ]
          },
          "metadata": {}
        },
        {
          "output_type": "display_data",
          "data": {
            "text/plain": [
              "[1] 19"
            ],
            "text/latex": "19",
            "text/markdown": "19",
            "text/html": [
              "19"
            ]
          },
          "metadata": {}
        }
      ]
    },
    {
      "cell_type": "markdown",
      "source": [
        "Or even better, combine which.max() and which.min() with the rownames() function to get the name of the car with the largest and smallest horsepower:"
      ],
      "metadata": {
        "id": "dOyZoSevNFah"
      }
    },
    {
      "cell_type": "code",
      "source": [
        "rownames(data_cars)[which.max(data_cars$hp)]\n",
        "rownames(data_cars)[which.min(data_cars$hp)]"
      ],
      "metadata": {
        "colab": {
          "base_uri": "https://localhost:8080/",
          "height": 52
        },
        "id": "o4Gi3OolNJsB",
        "outputId": "6e203b01-60a3-47ce-fe75-c40407e61f75"
      },
      "execution_count": 13,
      "outputs": [
        {
          "output_type": "display_data",
          "data": {
            "text/plain": [
              "[1] \"Maserati Bora\""
            ],
            "text/latex": "'Maserati Bora'",
            "text/markdown": "'Maserati Bora'",
            "text/html": [
              "'Maserati Bora'"
            ]
          },
          "metadata": {}
        },
        {
          "output_type": "display_data",
          "data": {
            "text/plain": [
              "[1] \"Honda Civic\""
            ],
            "text/latex": "'Honda Civic'",
            "text/markdown": "'Honda Civic'",
            "text/html": [
              "'Honda Civic'"
            ]
          },
          "metadata": {}
        }
      ]
    },
    {
      "cell_type": "markdown",
      "source": [
        "Now we know for sure:\n",
        "Maserati Bora is the car with the highest horsepower, and Honda Civic is the car with the lowest horsepower."
      ],
      "metadata": {
        "id": "26gEc3qcNcAq"
      }
    },
    {
      "cell_type": "markdown",
      "source": [
        "#Outliers\n",
        "Max and min can also be used to detect outliers. An outlier is a data point that differs from rest of the observations.\n",
        "\n",
        "Example of data points that could have been outliers in the mtcars data set:\n",
        "\n",
        "If maximum of forward gears of a car was 11\n",
        "If minimum of horsepower of a car was 0\n",
        "If maximum weight of a car was 50 000 lbs\n"
      ],
      "metadata": {
        "id": "57jWZ13-NjGr"
      }
    },
    {
      "cell_type": "markdown",
      "source": [
        "1.Mean - The average value\n",
        "2. Median - The middle value\n",
        "3. Mode - The most common value"
      ],
      "metadata": {
        "id": "nRz4gmWKNoLV"
      }
    },
    {
      "cell_type": "code",
      "source": [
        "mean(data_cars$wt)"
      ],
      "metadata": {
        "colab": {
          "base_uri": "https://localhost:8080/",
          "height": 35
        },
        "id": "-2WVMvfUNsUH",
        "outputId": "d10e1ab2-770d-40b6-9591-ef8fe62df288"
      },
      "execution_count": 14,
      "outputs": [
        {
          "output_type": "display_data",
          "data": {
            "text/plain": [
              "[1] 3.21725"
            ],
            "text/latex": "3.21725",
            "text/markdown": "3.21725",
            "text/html": [
              "3.21725"
            ]
          },
          "metadata": {}
        }
      ]
    },
    {
      "cell_type": "code",
      "source": [
        "mean(mtcars$wt)"
      ],
      "metadata": {
        "colab": {
          "base_uri": "https://localhost:8080/",
          "height": 35
        },
        "id": "wHfKVfsgN4AE",
        "outputId": "cdd2ac74-0fdd-422a-c35f-251bec3bff5e"
      },
      "execution_count": 15,
      "outputs": [
        {
          "output_type": "display_data",
          "data": {
            "text/plain": [
              "[1] 3.21725"
            ],
            "text/latex": "3.21725",
            "text/markdown": "3.21725",
            "text/html": [
              "3.21725"
            ]
          },
          "metadata": {}
        }
      ]
    },
    {
      "cell_type": "code",
      "source": [
        "# The median value is the value in the middle, after you have sorted all the values.\n",
        "median(data_cars$wt)"
      ],
      "metadata": {
        "colab": {
          "base_uri": "https://localhost:8080/",
          "height": 35
        },
        "id": "1LkLgPsuN7s1",
        "outputId": "1152fa76-db92-440c-e85f-0e7439651d74"
      },
      "execution_count": 16,
      "outputs": [
        {
          "output_type": "display_data",
          "data": {
            "text/plain": [
              "[1] 3.325"
            ],
            "text/latex": "3.325",
            "text/markdown": "3.325",
            "text/html": [
              "3.325"
            ]
          },
          "metadata": {}
        }
      ]
    },
    {
      "cell_type": "code",
      "source": [
        "(3.215+3.435)/2"
      ],
      "metadata": {
        "colab": {
          "base_uri": "https://localhost:8080/",
          "height": 35
        },
        "id": "ARHLXFvoOCV-",
        "outputId": "b9970eff-14d2-45b8-e989-5ffe19e4dbf4"
      },
      "execution_count": 18,
      "outputs": [
        {
          "output_type": "display_data",
          "data": {
            "text/plain": [
              "[1] 3.325"
            ],
            "text/latex": "3.325",
            "text/markdown": "3.325",
            "text/html": [
              "3.325"
            ]
          },
          "metadata": {}
        }
      ]
    },
    {
      "cell_type": "markdown",
      "source": [
        "R does not have a function to calculate the mode. However, we can create our own function to find it."
      ],
      "metadata": {
        "id": "7zCpoXEMOPAl"
      }
    },
    {
      "cell_type": "code",
      "source": [
        "data_Cars <- mtcars\n",
        "\n",
        "names(sort(-table(data_Cars$wt)))[1]"
      ],
      "metadata": {
        "colab": {
          "base_uri": "https://localhost:8080/",
          "height": 35
        },
        "id": "dPiNmYjaOZz6",
        "outputId": "418541e8-ab05-4241-bc3c-72028c288ab2"
      },
      "execution_count": 19,
      "outputs": [
        {
          "output_type": "display_data",
          "data": {
            "text/plain": [
              "[1] \"3.44\""
            ],
            "text/latex": "'3.44'",
            "text/markdown": "'3.44'",
            "text/html": [
              "'3.44'"
            ]
          },
          "metadata": {}
        }
      ]
    },
    {
      "cell_type": "code",
      "source": [
        "names(sort(-table(data_Cars$wt)))"
      ],
      "metadata": {
        "colab": {
          "base_uri": "https://localhost:8080/",
          "height": 52
        },
        "id": "M5sL0AYYPiRs",
        "outputId": "72194269-2bd9-48d9-d79f-c729fa657b80"
      },
      "execution_count": 23,
      "outputs": [
        {
          "output_type": "display_data",
          "data": {
            "text/plain": [
              " [1] \"3.44\"  \"3.57\"  \"1.513\" \"1.615\" \"1.835\" \"1.935\" \"2.14\"  \"2.2\"   \"2.32\" \n",
              "[10] \"2.465\" \"2.62\"  \"2.77\"  \"2.78\"  \"2.875\" \"3.15\"  \"3.17\"  \"3.19\"  \"3.215\"\n",
              "[19] \"3.435\" \"3.46\"  \"3.52\"  \"3.73\"  \"3.78\"  \"3.84\"  \"3.845\" \"4.07\"  \"5.25\" \n",
              "[28] \"5.345\" \"5.424\""
            ],
            "text/latex": "\\begin{enumerate*}\n\\item '3.44'\n\\item '3.57'\n\\item '1.513'\n\\item '1.615'\n\\item '1.835'\n\\item '1.935'\n\\item '2.14'\n\\item '2.2'\n\\item '2.32'\n\\item '2.465'\n\\item '2.62'\n\\item '2.77'\n\\item '2.78'\n\\item '2.875'\n\\item '3.15'\n\\item '3.17'\n\\item '3.19'\n\\item '3.215'\n\\item '3.435'\n\\item '3.46'\n\\item '3.52'\n\\item '3.73'\n\\item '3.78'\n\\item '3.84'\n\\item '3.845'\n\\item '4.07'\n\\item '5.25'\n\\item '5.345'\n\\item '5.424'\n\\end{enumerate*}\n",
            "text/markdown": "1. '3.44'\n2. '3.57'\n3. '1.513'\n4. '1.615'\n5. '1.835'\n6. '1.935'\n7. '2.14'\n8. '2.2'\n9. '2.32'\n10. '2.465'\n11. '2.62'\n12. '2.77'\n13. '2.78'\n14. '2.875'\n15. '3.15'\n16. '3.17'\n17. '3.19'\n18. '3.215'\n19. '3.435'\n20. '3.46'\n21. '3.52'\n22. '3.73'\n23. '3.78'\n24. '3.84'\n25. '3.845'\n26. '4.07'\n27. '5.25'\n28. '5.345'\n29. '5.424'\n\n\n",
            "text/html": [
              "<style>\n",
              ".list-inline {list-style: none; margin:0; padding: 0}\n",
              ".list-inline>li {display: inline-block}\n",
              ".list-inline>li:not(:last-child)::after {content: \"\\00b7\"; padding: 0 .5ex}\n",
              "</style>\n",
              "<ol class=list-inline><li>'3.44'</li><li>'3.57'</li><li>'1.513'</li><li>'1.615'</li><li>'1.835'</li><li>'1.935'</li><li>'2.14'</li><li>'2.2'</li><li>'2.32'</li><li>'2.465'</li><li>'2.62'</li><li>'2.77'</li><li>'2.78'</li><li>'2.875'</li><li>'3.15'</li><li>'3.17'</li><li>'3.19'</li><li>'3.215'</li><li>'3.435'</li><li>'3.46'</li><li>'3.52'</li><li>'3.73'</li><li>'3.78'</li><li>'3.84'</li><li>'3.845'</li><li>'4.07'</li><li>'5.25'</li><li>'5.345'</li><li>'5.424'</li></ol>\n"
            ]
          },
          "metadata": {}
        }
      ]
    },
    {
      "cell_type": "code",
      "source": [
        "data_cars$wt"
      ],
      "metadata": {
        "colab": {
          "base_uri": "https://localhost:8080/",
          "height": 52
        },
        "id": "LU4I0wSgPv33",
        "outputId": "e61a3f51-5ccf-48aa-dce4-d53ff9251e31"
      },
      "execution_count": 24,
      "outputs": [
        {
          "output_type": "display_data",
          "data": {
            "text/plain": [
              " [1] 2.620 2.875 2.320 3.215 3.440 3.460 3.570 3.190 3.150 3.440 3.440 4.070\n",
              "[13] 3.730 3.780 5.250 5.424 5.345 2.200 1.615 1.835 2.465 3.520 3.435 3.840\n",
              "[25] 3.845 1.935 2.140 1.513 3.170 2.770 3.570 2.780"
            ],
            "text/latex": "\\begin{enumerate*}\n\\item 2.62\n\\item 2.875\n\\item 2.32\n\\item 3.215\n\\item 3.44\n\\item 3.46\n\\item 3.57\n\\item 3.19\n\\item 3.15\n\\item 3.44\n\\item 3.44\n\\item 4.07\n\\item 3.73\n\\item 3.78\n\\item 5.25\n\\item 5.424\n\\item 5.345\n\\item 2.2\n\\item 1.615\n\\item 1.835\n\\item 2.465\n\\item 3.52\n\\item 3.435\n\\item 3.84\n\\item 3.845\n\\item 1.935\n\\item 2.14\n\\item 1.513\n\\item 3.17\n\\item 2.77\n\\item 3.57\n\\item 2.78\n\\end{enumerate*}\n",
            "text/markdown": "1. 2.62\n2. 2.875\n3. 2.32\n4. 3.215\n5. 3.44\n6. 3.46\n7. 3.57\n8. 3.19\n9. 3.15\n10. 3.44\n11. 3.44\n12. 4.07\n13. 3.73\n14. 3.78\n15. 5.25\n16. 5.424\n17. 5.345\n18. 2.2\n19. 1.615\n20. 1.835\n21. 2.465\n22. 3.52\n23. 3.435\n24. 3.84\n25. 3.845\n26. 1.935\n27. 2.14\n28. 1.513\n29. 3.17\n30. 2.77\n31. 3.57\n32. 2.78\n\n\n",
            "text/html": [
              "<style>\n",
              ".list-inline {list-style: none; margin:0; padding: 0}\n",
              ".list-inline>li {display: inline-block}\n",
              ".list-inline>li:not(:last-child)::after {content: \"\\00b7\"; padding: 0 .5ex}\n",
              "</style>\n",
              "<ol class=list-inline><li>2.62</li><li>2.875</li><li>2.32</li><li>3.215</li><li>3.44</li><li>3.46</li><li>3.57</li><li>3.19</li><li>3.15</li><li>3.44</li><li>3.44</li><li>4.07</li><li>3.73</li><li>3.78</li><li>5.25</li><li>5.424</li><li>5.345</li><li>2.2</li><li>1.615</li><li>1.835</li><li>2.465</li><li>3.52</li><li>3.435</li><li>3.84</li><li>3.845</li><li>1.935</li><li>2.14</li><li>1.513</li><li>3.17</li><li>2.77</li><li>3.57</li><li>2.78</li></ol>\n"
            ]
          },
          "metadata": {}
        }
      ]
    },
    {
      "cell_type": "code",
      "source": [
        "# table count the number of times each value or word occuring in the entire col of the df\n",
        "# it retutn the count values\n",
        "table(data_cars$wt)"
      ],
      "metadata": {
        "colab": {
          "base_uri": "https://localhost:8080/",
          "height": 145
        },
        "id": "1r5cbrsPP2Xq",
        "outputId": "b9751380-d83d-4e31-8cda-cc47729c2955"
      },
      "execution_count": 25,
      "outputs": [
        {
          "output_type": "display_data",
          "data": {
            "text/plain": [
              "\n",
              "1.513 1.615 1.835 1.935  2.14   2.2  2.32 2.465  2.62  2.77  2.78 2.875  3.15 \n",
              "    1     1     1     1     1     1     1     1     1     1     1     1     1 \n",
              " 3.17  3.19 3.215 3.435  3.44  3.46  3.52  3.57  3.73  3.78  3.84 3.845  4.07 \n",
              "    1     1     1     1     3     1     1     2     1     1     1     1     1 \n",
              " 5.25 5.345 5.424 \n",
              "    1     1     1 "
            ]
          },
          "metadata": {}
        }
      ]
    },
    {
      "cell_type": "code",
      "source": [
        "-table(data_cars$wt)"
      ],
      "metadata": {
        "colab": {
          "base_uri": "https://localhost:8080/",
          "height": 145
        },
        "id": "sXgIhbCJQJEr",
        "outputId": "1a0b9770-03d4-4f2a-a841-be3716a3a517"
      },
      "execution_count": 26,
      "outputs": [
        {
          "output_type": "display_data",
          "data": {
            "text/plain": [
              "\n",
              "1.513 1.615 1.835 1.935  2.14   2.2  2.32 2.465  2.62  2.77  2.78 2.875  3.15 \n",
              "   -1    -1    -1    -1    -1    -1    -1    -1    -1    -1    -1    -1    -1 \n",
              " 3.17  3.19 3.215 3.435  3.44  3.46  3.52  3.57  3.73  3.78  3.84 3.845  4.07 \n",
              "   -1    -1    -1    -1    -3    -1    -1    -2    -1    -1    -1    -1    -1 \n",
              " 5.25 5.345 5.424 \n",
              "   -1    -1    -1 "
            ]
          },
          "metadata": {}
        }
      ]
    },
    {
      "cell_type": "code",
      "source": [
        "sort(-table(data_cars$wt))"
      ],
      "metadata": {
        "colab": {
          "base_uri": "https://localhost:8080/",
          "height": 145
        },
        "id": "rv_baUPGQVyE",
        "outputId": "c2f2c954-c29d-4d90-e2c8-c07be27020cf"
      },
      "execution_count": 27,
      "outputs": [
        {
          "output_type": "display_data",
          "data": {
            "text/plain": [
              "\n",
              " 3.44  3.57 1.513 1.615 1.835 1.935  2.14   2.2  2.32 2.465  2.62  2.77  2.78 \n",
              "   -3    -2    -1    -1    -1    -1    -1    -1    -1    -1    -1    -1    -1 \n",
              "2.875  3.15  3.17  3.19 3.215 3.435  3.46  3.52  3.73  3.78  3.84 3.845  4.07 \n",
              "   -1    -1    -1    -1    -1    -1    -1    -1    -1    -1    -1    -1    -1 \n",
              " 5.25 5.345 5.424 \n",
              "   -1    -1    -1 "
            ]
          },
          "metadata": {}
        }
      ]
    },
    {
      "cell_type": "code",
      "source": [
        "sort(table(data_cars$wt))\n",
        "# sort default is ascending"
      ],
      "metadata": {
        "colab": {
          "base_uri": "https://localhost:8080/",
          "height": 145
        },
        "id": "CTUE2r5LQm3n",
        "outputId": "970f4ca0-ccc4-4622-fb20-81a040584e95"
      },
      "execution_count": 28,
      "outputs": [
        {
          "output_type": "display_data",
          "data": {
            "text/plain": [
              "\n",
              "1.513 1.615 1.835 1.935  2.14   2.2  2.32 2.465  2.62  2.77  2.78 2.875  3.15 \n",
              "    1     1     1     1     1     1     1     1     1     1     1     1     1 \n",
              " 3.17  3.19 3.215 3.435  3.46  3.52  3.73  3.78  3.84 3.845  4.07  5.25 5.345 \n",
              "    1     1     1     1     1     1     1     1     1     1     1     1     1 \n",
              "5.424  3.57  3.44 \n",
              "    1     2     3 "
            ]
          },
          "metadata": {}
        }
      ]
    },
    {
      "cell_type": "markdown",
      "source": [
        "#Percentiles\n",
        "Percentiles are used in statistics to give you a number that describes the value that a given percent of the values are lower than.\n",
        "\n",
        "\n",
        "2. What is the 75. percentile of the weight of the cars? The answer is 3.61 or 3 610 lbs, meaning that 75% or the cars weight 3 610 lbs or less:"
      ],
      "metadata": {
        "id": "2GElLnOuOmY6"
      }
    },
    {
      "cell_type": "code",
      "source": [
        "Data_Cars <- mtcars\n",
        "\n",
        "# c() specifies which percentile you want\n",
        "quantile(Data_Cars$wt, c(0.75))\n"
      ],
      "metadata": {
        "colab": {
          "base_uri": "https://localhost:8080/",
          "height": 35
        },
        "id": "QNprXDm4O7aa",
        "outputId": "29ce509c-0f26-42d6-b276-34b8c0a88755"
      },
      "execution_count": 20,
      "outputs": [
        {
          "output_type": "display_data",
          "data": {
            "text/plain": [
              " 75% \n",
              "3.61 "
            ],
            "text/latex": "\\textbf{75\\textbackslash{}\\%:} 3.61",
            "text/markdown": "**75%:** 3.61",
            "text/html": [
              "<strong>75%:</strong> 3.61"
            ]
          },
          "metadata": {}
        }
      ]
    },
    {
      "cell_type": "markdown",
      "source": [
        "If you run the quantile() function without specifying the c() parameter, you will get the percentiles of 0, 25, 50, 75 and 100:"
      ],
      "metadata": {
        "id": "Z9j3IO11O_yw"
      }
    },
    {
      "cell_type": "code",
      "source": [
        "Data_Cars <- mtcars\n",
        "\n",
        "quantile(Data_Cars$wt)"
      ],
      "metadata": {
        "colab": {
          "base_uri": "https://localhost:8080/",
          "height": 35
        },
        "id": "dvizNf-ZPEmh",
        "outputId": "e2d315ca-e7bd-4ad1-93b6-227239d02594"
      },
      "execution_count": 22,
      "outputs": [
        {
          "output_type": "display_data",
          "data": {
            "text/plain": [
              "     0%     25%     50%     75%    100% \n",
              "1.51300 2.58125 3.32500 3.61000 5.42400 "
            ],
            "text/latex": "\\begin{description*}\n\\item[0\\textbackslash{}\\%] 1.513\n\\item[25\\textbackslash{}\\%] 2.58125\n\\item[50\\textbackslash{}\\%] 3.325\n\\item[75\\textbackslash{}\\%] 3.61\n\\item[100\\textbackslash{}\\%] 5.424\n\\end{description*}\n",
            "text/markdown": "0%\n:   1.51325%\n:   2.5812550%\n:   3.32575%\n:   3.61100%\n:   5.424\n\n",
            "text/html": [
              "<style>\n",
              ".dl-inline {width: auto; margin:0; padding: 0}\n",
              ".dl-inline>dt, .dl-inline>dd {float: none; width: auto; display: inline-block}\n",
              ".dl-inline>dt::after {content: \":\\0020\"; padding-right: .5ex}\n",
              ".dl-inline>dt:not(:first-of-type) {padding-left: .5ex}\n",
              "</style><dl class=dl-inline><dt>0%</dt><dd>1.513</dd><dt>25%</dt><dd>2.58125</dd><dt>50%</dt><dd>3.325</dd><dt>75%</dt><dd>3.61</dd><dt>100%</dt><dd>5.424</dd></dl>\n"
            ]
          },
          "metadata": {}
        }
      ]
    },
    {
      "cell_type": "markdown",
      "source": [
        "Quartiles are data divided into four parts, when sorted in an ascending order:\n",
        "\n",
        "1. The value of the first quartile cuts off the first 25% of the data\n",
        "2. The value of the second quartile cuts off the first 50% of the data\n",
        "3. The value of the third quartile cuts off the first 75% of the data\n",
        "4. The value of the fourth quartile cuts off the 100% of the data"
      ],
      "metadata": {
        "id": "jzmESP5wPJvj"
      }
    },
    {
      "cell_type": "code",
      "source": [
        ""
      ],
      "metadata": {
        "id": "7YdK8w3pPde7"
      },
      "execution_count": null,
      "outputs": []
    }
  ]
}